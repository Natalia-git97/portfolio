{
  "nbformat": 4,
  "nbformat_minor": 0,
  "metadata": {
    "colab": {
      "name": "Análise financeira das ações da empresa B2W (BTOW3.SA)",
      "provenance": [],
      "collapsed_sections": [],
      "toc_visible": true
    },
    "kernelspec": {
      "name": "python3",
      "display_name": "Python 3"
    }
  },
  "cells": [
    {
      "cell_type": "markdown",
      "metadata": {
        "id": "dhFalkm4cX5z"
      },
      "source": [
        "# Análise de dados do mercado financeiro com Python\r\n",
        "\r\n",
        "\r\n"
      ]
    },
    {
      "cell_type": "markdown",
      "metadata": {
        "id": "bghthlkARs0-"
      },
      "source": [
        "## Importando as bibliotecas necessárias para as análises"
      ]
    },
    {
      "cell_type": "code",
      "metadata": {
        "id": "1pkjgxVWSLpj"
      },
      "source": [
        "import pandas as pd\n",
        "import numpy as np\n",
        "import matplotlib.pyplot as plt\n",
        "import seaborn as sns\n",
        "import plotly.express as px\n",
        "from pandas_datareader import data \n",
        "from scipy import stats"
      ],
      "execution_count": 2,
      "outputs": []
    },
    {
      "cell_type": "markdown",
      "metadata": {
        "id": "g0yhBsUUcfIC"
      },
      "source": [
        "## Coletando os dados das ações da empresa B2W de forma online com a biblioteca DataReader.\r\n",
        "\r\n",
        "Para manter o padrão, vou coletar os dados das ações da B2W no source do Yahoo Finanças. Para mais informações sobre a biblioteca e as fontes de dados disponíveis acesse a [documentação.](https://pydata.github.io/pandas-datareader)"
      ]
    },
    {
      "cell_type": "code",
      "metadata": {
        "id": "mSOA6HdHS10h"
      },
      "source": [
        "df_b2w = data.DataReader(name = 'BTOW3.SA', data_source='yahoo', start='2015-01-01', end ='2020-12-30')"
      ],
      "execution_count": 3,
      "outputs": []
    },
    {
      "cell_type": "code",
      "metadata": {
        "id": "OnA5vqAjUVsJ",
        "colab": {
          "base_uri": "https://localhost:8080/",
          "height": 436
        },
        "outputId": "53a70cd2-30b8-4eb9-beec-10c865255ab1"
      },
      "source": [
        "df_b2w"
      ],
      "execution_count": 4,
      "outputs": [
        {
          "output_type": "execute_result",
          "data": {
            "text/html": [
              "<div>\n",
              "<style scoped>\n",
              "    .dataframe tbody tr th:only-of-type {\n",
              "        vertical-align: middle;\n",
              "    }\n",
              "\n",
              "    .dataframe tbody tr th {\n",
              "        vertical-align: top;\n",
              "    }\n",
              "\n",
              "    .dataframe thead th {\n",
              "        text-align: right;\n",
              "    }\n",
              "</style>\n",
              "<table border=\"1\" class=\"dataframe\">\n",
              "  <thead>\n",
              "    <tr style=\"text-align: right;\">\n",
              "      <th></th>\n",
              "      <th>High</th>\n",
              "      <th>Low</th>\n",
              "      <th>Open</th>\n",
              "      <th>Close</th>\n",
              "      <th>Volume</th>\n",
              "      <th>Adj Close</th>\n",
              "    </tr>\n",
              "    <tr>\n",
              "      <th>Date</th>\n",
              "      <th></th>\n",
              "      <th></th>\n",
              "      <th></th>\n",
              "      <th></th>\n",
              "      <th></th>\n",
              "      <th></th>\n",
              "    </tr>\n",
              "  </thead>\n",
              "  <tbody>\n",
              "    <tr>\n",
              "      <th>2015-01-02</th>\n",
              "      <td>22.124950</td>\n",
              "      <td>19.827507</td>\n",
              "      <td>21.372005</td>\n",
              "      <td>21.140331</td>\n",
              "      <td>480673.0</td>\n",
              "      <td>21.140331</td>\n",
              "    </tr>\n",
              "    <tr>\n",
              "      <th>2015-01-05</th>\n",
              "      <td>21.140331</td>\n",
              "      <td>20.223286</td>\n",
              "      <td>21.140331</td>\n",
              "      <td>20.464613</td>\n",
              "      <td>2434653.0</td>\n",
              "      <td>20.464613</td>\n",
              "    </tr>\n",
              "    <tr>\n",
              "      <th>2015-01-06</th>\n",
              "      <td>21.207903</td>\n",
              "      <td>20.213633</td>\n",
              "      <td>20.319817</td>\n",
              "      <td>20.522532</td>\n",
              "      <td>2351157.0</td>\n",
              "      <td>20.522532</td>\n",
              "    </tr>\n",
              "    <tr>\n",
              "      <th>2015-01-07</th>\n",
              "      <td>20.686634</td>\n",
              "      <td>20.078487</td>\n",
              "      <td>20.638369</td>\n",
              "      <td>20.319817</td>\n",
              "      <td>378530.0</td>\n",
              "      <td>20.319817</td>\n",
              "    </tr>\n",
              "    <tr>\n",
              "      <th>2015-01-08</th>\n",
              "      <td>20.261898</td>\n",
              "      <td>19.306238</td>\n",
              "      <td>20.261898</td>\n",
              "      <td>19.653751</td>\n",
              "      <td>431881.0</td>\n",
              "      <td>19.653751</td>\n",
              "    </tr>\n",
              "    <tr>\n",
              "      <th>...</th>\n",
              "      <td>...</td>\n",
              "      <td>...</td>\n",
              "      <td>...</td>\n",
              "      <td>...</td>\n",
              "      <td>...</td>\n",
              "      <td>...</td>\n",
              "    </tr>\n",
              "    <tr>\n",
              "      <th>2020-12-22</th>\n",
              "      <td>78.059998</td>\n",
              "      <td>75.949997</td>\n",
              "      <td>77.550003</td>\n",
              "      <td>75.970001</td>\n",
              "      <td>2403700.0</td>\n",
              "      <td>75.970001</td>\n",
              "    </tr>\n",
              "    <tr>\n",
              "      <th>2020-12-23</th>\n",
              "      <td>77.099998</td>\n",
              "      <td>75.580002</td>\n",
              "      <td>76.300003</td>\n",
              "      <td>75.599998</td>\n",
              "      <td>2215200.0</td>\n",
              "      <td>75.599998</td>\n",
              "    </tr>\n",
              "    <tr>\n",
              "      <th>2020-12-28</th>\n",
              "      <td>77.500000</td>\n",
              "      <td>73.809998</td>\n",
              "      <td>76.089996</td>\n",
              "      <td>77.040001</td>\n",
              "      <td>3593500.0</td>\n",
              "      <td>77.040001</td>\n",
              "    </tr>\n",
              "    <tr>\n",
              "      <th>2020-12-29</th>\n",
              "      <td>78.040001</td>\n",
              "      <td>75.580002</td>\n",
              "      <td>77.480003</td>\n",
              "      <td>75.699997</td>\n",
              "      <td>3360100.0</td>\n",
              "      <td>75.699997</td>\n",
              "    </tr>\n",
              "    <tr>\n",
              "      <th>2020-12-30</th>\n",
              "      <td>79.379997</td>\n",
              "      <td>75.610001</td>\n",
              "      <td>76.120003</td>\n",
              "      <td>75.610001</td>\n",
              "      <td>5071500.0</td>\n",
              "      <td>75.610001</td>\n",
              "    </tr>\n",
              "  </tbody>\n",
              "</table>\n",
              "<p>1488 rows × 6 columns</p>\n",
              "</div>"
            ],
            "text/plain": [
              "                 High        Low       Open      Close     Volume  Adj Close\n",
              "Date                                                                        \n",
              "2015-01-02  22.124950  19.827507  21.372005  21.140331   480673.0  21.140331\n",
              "2015-01-05  21.140331  20.223286  21.140331  20.464613  2434653.0  20.464613\n",
              "2015-01-06  21.207903  20.213633  20.319817  20.522532  2351157.0  20.522532\n",
              "2015-01-07  20.686634  20.078487  20.638369  20.319817   378530.0  20.319817\n",
              "2015-01-08  20.261898  19.306238  20.261898  19.653751   431881.0  19.653751\n",
              "...               ...        ...        ...        ...        ...        ...\n",
              "2020-12-22  78.059998  75.949997  77.550003  75.970001  2403700.0  75.970001\n",
              "2020-12-23  77.099998  75.580002  76.300003  75.599998  2215200.0  75.599998\n",
              "2020-12-28  77.500000  73.809998  76.089996  77.040001  3593500.0  77.040001\n",
              "2020-12-29  78.040001  75.580002  77.480003  75.699997  3360100.0  75.699997\n",
              "2020-12-30  79.379997  75.610001  76.120003  75.610001  5071500.0  75.610001\n",
              "\n",
              "[1488 rows x 6 columns]"
            ]
          },
          "metadata": {
            "tags": []
          },
          "execution_count": 4
        }
      ]
    },
    {
      "cell_type": "markdown",
      "metadata": {
        "id": "XGCAZOHkjPuW"
      },
      "source": [
        "Perceba como é bem prático puxar os dados históricos de uma empresa com uma grande gama de dados. \r\n",
        "Uma observação é que apesar de colocarmos a data de ínicio no dia 01 de Janeiro de 2015, a informação veio com D+1 porque dia primeiro é feriado e não tem movimentação nas bolsas.\r\n",
        "\r\n",
        "As colunas de High e Low são os maiores e menores valores que aquela ação alcançou.\r\n",
        "\r\n",
        "Open e Close são os valores da ação na abertura e no fechamento do mercado\r\n",
        "\r\n",
        "Volume é a quantidade de ações vendidas naquele período \r\n",
        "\r\n",
        "Adj Close é o valor de fechamento real ajustado a quaisquer particularidades daquela ação, como o pagamento de dividendos e desdobramentos, por exemplo."
      ]
    },
    {
      "cell_type": "code",
      "metadata": {
        "id": "K3tZGzQjWvM7",
        "colab": {
          "base_uri": "https://localhost:8080/",
          "height": 287
        },
        "outputId": "8d0c186a-248b-42b9-e9c5-b3492cbff492"
      },
      "source": [
        "df_b2w.describe()"
      ],
      "execution_count": 5,
      "outputs": [
        {
          "output_type": "execute_result",
          "data": {
            "text/html": [
              "<div>\n",
              "<style scoped>\n",
              "    .dataframe tbody tr th:only-of-type {\n",
              "        vertical-align: middle;\n",
              "    }\n",
              "\n",
              "    .dataframe tbody tr th {\n",
              "        vertical-align: top;\n",
              "    }\n",
              "\n",
              "    .dataframe thead th {\n",
              "        text-align: right;\n",
              "    }\n",
              "</style>\n",
              "<table border=\"1\" class=\"dataframe\">\n",
              "  <thead>\n",
              "    <tr style=\"text-align: right;\">\n",
              "      <th></th>\n",
              "      <th>High</th>\n",
              "      <th>Low</th>\n",
              "      <th>Open</th>\n",
              "      <th>Close</th>\n",
              "      <th>Volume</th>\n",
              "      <th>Adj Close</th>\n",
              "    </tr>\n",
              "  </thead>\n",
              "  <tbody>\n",
              "    <tr>\n",
              "      <th>count</th>\n",
              "      <td>1488.000000</td>\n",
              "      <td>1488.000000</td>\n",
              "      <td>1488.000000</td>\n",
              "      <td>1488.000000</td>\n",
              "      <td>1.488000e+03</td>\n",
              "      <td>1488.000000</td>\n",
              "    </tr>\n",
              "    <tr>\n",
              "      <th>mean</th>\n",
              "      <td>34.659313</td>\n",
              "      <td>32.969301</td>\n",
              "      <td>33.829448</td>\n",
              "      <td>33.821489</td>\n",
              "      <td>1.995238e+06</td>\n",
              "      <td>33.821489</td>\n",
              "    </tr>\n",
              "    <tr>\n",
              "      <th>std</th>\n",
              "      <td>27.707443</td>\n",
              "      <td>26.431020</td>\n",
              "      <td>27.091571</td>\n",
              "      <td>27.053057</td>\n",
              "      <td>1.843455e+06</td>\n",
              "      <td>27.053057</td>\n",
              "    </tr>\n",
              "    <tr>\n",
              "      <th>min</th>\n",
              "      <td>8.822951</td>\n",
              "      <td>8.543010</td>\n",
              "      <td>8.678154</td>\n",
              "      <td>8.620235</td>\n",
              "      <td>0.000000e+00</td>\n",
              "      <td>8.620235</td>\n",
              "    </tr>\n",
              "    <tr>\n",
              "      <th>25%</th>\n",
              "      <td>14.675155</td>\n",
              "      <td>13.924624</td>\n",
              "      <td>14.344535</td>\n",
              "      <td>14.339708</td>\n",
              "      <td>5.886432e+05</td>\n",
              "      <td>14.339708</td>\n",
              "    </tr>\n",
              "    <tr>\n",
              "      <th>50%</th>\n",
              "      <td>23.815830</td>\n",
              "      <td>22.679154</td>\n",
              "      <td>23.237608</td>\n",
              "      <td>23.460002</td>\n",
              "      <td>1.576810e+06</td>\n",
              "      <td>23.460002</td>\n",
              "    </tr>\n",
              "    <tr>\n",
              "      <th>75%</th>\n",
              "      <td>45.024718</td>\n",
              "      <td>42.316016</td>\n",
              "      <td>43.700245</td>\n",
              "      <td>43.613760</td>\n",
              "      <td>2.833554e+06</td>\n",
              "      <td>43.613760</td>\n",
              "    </tr>\n",
              "    <tr>\n",
              "      <th>max</th>\n",
              "      <td>127.469025</td>\n",
              "      <td>121.250000</td>\n",
              "      <td>125.650002</td>\n",
              "      <td>126.000000</td>\n",
              "      <td>2.169749e+07</td>\n",
              "      <td>126.000000</td>\n",
              "    </tr>\n",
              "  </tbody>\n",
              "</table>\n",
              "</div>"
            ],
            "text/plain": [
              "              High          Low  ...        Volume    Adj Close\n",
              "count  1488.000000  1488.000000  ...  1.488000e+03  1488.000000\n",
              "mean     34.659313    32.969301  ...  1.995238e+06    33.821489\n",
              "std      27.707443    26.431020  ...  1.843455e+06    27.053057\n",
              "min       8.822951     8.543010  ...  0.000000e+00     8.620235\n",
              "25%      14.675155    13.924624  ...  5.886432e+05    14.339708\n",
              "50%      23.815830    22.679154  ...  1.576810e+06    23.460002\n",
              "75%      45.024718    42.316016  ...  2.833554e+06    43.613760\n",
              "max     127.469025   121.250000  ...  2.169749e+07   126.000000\n",
              "\n",
              "[8 rows x 6 columns]"
            ]
          },
          "metadata": {
            "tags": []
          },
          "execution_count": 5
        }
      ]
    },
    {
      "cell_type": "markdown",
      "metadata": {
        "id": "KFGq1G5xm4j8"
      },
      "source": [
        "Com essa análise exploratória inicial, conseguimos perceber alguns comportamentos de variação da ação. \r\n",
        "\r\n",
        "- A diferença entre o mínimo e o máximo valor são bem discrepantes.\r\n",
        "- Com uma média de 33,82, comparado com suas variações, podemos perceber que existe uma grande flutuação em seu valor, o que podemos perceber pelo desvio padrão de 27,05.  "
      ]
    },
    {
      "cell_type": "code",
      "metadata": {
        "id": "UpupWSzMXpt3",
        "colab": {
          "base_uri": "https://localhost:8080/"
        },
        "outputId": "5c762e4a-97b6-489d-9bc3-adad6d712561"
      },
      "source": [
        "print ('MAX: ', df_b2w['Close'][df_b2w['Close'] >= df_b2w['Close'].max()]);\r\n",
        "print ('----------------------------')\r\n",
        "print ('MIN: ', df_b2w['Close'][df_b2w['Close'] <= df_b2w['Close'].min()])"
      ],
      "execution_count": 6,
      "outputs": [
        {
          "output_type": "stream",
          "text": [
            "MAX:  Date\n",
            "2020-08-03    126.0\n",
            "Name: Close, dtype: float64\n",
            "----------------------------\n",
            "MIN:  Date\n",
            "2016-06-07    8.620235\n",
            "Name: Close, dtype: float64\n"
          ],
          "name": "stdout"
        }
      ]
    },
    {
      "cell_type": "markdown",
      "metadata": {
        "id": "rFABfCbyrPsZ"
      },
      "source": [
        "Podemos ver que os preços das ações da empresa atingiram seu ápice no meio de 2020, o que pode indicar um reflexo do e-commerce no meio do isolamento.\r\n",
        "\r\n",
        "Vou salvar o arquivo em csv para ter os dados, caso minha fonte tenha algum problema."
      ]
    },
    {
      "cell_type": "code",
      "metadata": {
        "id": "DU5bMHDPYhIL"
      },
      "source": [
        "df_b2w.to_csv('b2w.csv')"
      ],
      "execution_count": 7,
      "outputs": []
    },
    {
      "cell_type": "code",
      "metadata": {
        "id": "rm03X0QcF3eE"
      },
      "source": [
        "#Caso não queira baixar a base novamente, podemos partir daqui, descomentando esse código\r\n",
        "#df_b2w = pd.read_csv('/content/b2w.csv')\r\n",
        "#df_b2w'''"
      ],
      "execution_count": 8,
      "outputs": []
    },
    {
      "cell_type": "markdown",
      "metadata": {
        "id": "4j2vnA6b_Cbp"
      },
      "source": [
        "- # Data Visualization"
      ]
    },
    {
      "cell_type": "code",
      "metadata": {
        "id": "voTZwUBAoQxD",
        "colab": {
          "base_uri": "https://localhost:8080/",
          "height": 465
        },
        "outputId": "f942f64a-fb8d-4c5f-a3c1-bd378f398c41"
      },
      "source": [
        "plt.figure(figsize=(10,50))\n",
        "plt.subplot(6, 1, 2)\n",
        "sns.histplot(df_b2w['Close'], kde = True)\n",
        "plt.title('Fechamento B2W');"
      ],
      "execution_count": 18,
      "outputs": [
        {
          "output_type": "display_data",
          "data": {
            "image/png": "[encoded data removed]",
            "text/plain": [
              "<Figure size 720x3600 with 1 Axes>"
            ]
          },
          "metadata": {
            "tags": [],
            "needs_background": "light"
          }
        }
      ]
    },
    {
      "cell_type": "code",
      "metadata": {
        "colab": {
          "base_uri": "https://localhost:8080/",
          "height": 278
        },
        "id": "kh5pzHugvqOQ",
        "outputId": "53880001-4c0f-4417-886e-2c3100a371f5"
      },
      "source": [
        "sns.boxplot(x = df_b2w['Close']);"
      ],
      "execution_count": 19,
      "outputs": [
        {
          "output_type": "display_data",
          "data": {
            "image/png": "[encoded data removed]",
            "text/plain": [
              "<Figure size 432x288 with 1 Axes>"
            ]
          },
          "metadata": {
            "tags": [],
            "needs_background": "light"
          }
        }
      ]
    },
    {
      "cell_type": "code",
      "metadata": {
        "colab": {
          "base_uri": "https://localhost:8080/"
        },
        "id": "020SyVqBu5ab",
        "outputId": "eccc3902-6b16-407a-a741-199603deeb02"
      },
      "source": [
        "print(df_b2w['Close'].describe(), df_b2w['Close'].mode())"
      ],
      "execution_count": 12,
      "outputs": [
        {
          "output_type": "stream",
          "text": [
            "count    1488.000000\n",
            "mean       33.821489\n",
            "std        27.053057\n",
            "min         8.620235\n",
            "25%        14.339708\n",
            "50%        23.460002\n",
            "75%        43.613760\n",
            "max       126.000000\n",
            "Name: Close, dtype: float64 0    12.355993\n",
            "1    13.145903\n",
            "dtype: float64\n"
          ],
          "name": "stdout"
        }
      ]
    },
    {
      "cell_type": "markdown",
      "metadata": {
        "id": "GDUBM17YuJmB"
      },
      "source": [
        "Conseguimos verificar que a maior concentração fica abaixo dos R$ 30,00. O que indica uma distribuição assimétrica positiva, onde a mediana e a média se encontram a direita da moda da distribuição.\r\n",
        "\r\n",
        "Temos também uma quantidade muito grande de outliers para esse período de análise. Mais uma indicação que o preço das ações estão com uma variação atípica.\r\n",
        "\r\n",
        "Para uma análise série temporal, preciso que a Data esteja como coluna e não como índice, pra isso podemos resetar o indice transformando o mesmo em coluna."
      ]
    },
    {
      "cell_type": "code",
      "metadata": {
        "colab": {
          "base_uri": "https://localhost:8080/",
          "height": 406
        },
        "id": "liTYVskEwU8J",
        "outputId": "6fba2fa9-1ece-4bf1-eb82-59ac4d99ec63"
      },
      "source": [
        "df_b2w.reset_index(level=0, inplace=True)\r\n",
        "df_b2w"
      ],
      "execution_count": 13,
      "outputs": [
        {
          "output_type": "execute_result",
          "data": {
            "text/html": [
              "<div>\n",
              "<style scoped>\n",
              "    .dataframe tbody tr th:only-of-type {\n",
              "        vertical-align: middle;\n",
              "    }\n",
              "\n",
              "    .dataframe tbody tr th {\n",
              "        vertical-align: top;\n",
              "    }\n",
              "\n",
              "    .dataframe thead th {\n",
              "        text-align: right;\n",
              "    }\n",
              "</style>\n",
              "<table border=\"1\" class=\"dataframe\">\n",
              "  <thead>\n",
              "    <tr style=\"text-align: right;\">\n",
              "      <th></th>\n",
              "      <th>Date</th>\n",
              "      <th>High</th>\n",
              "      <th>Low</th>\n",
              "      <th>Open</th>\n",
              "      <th>Close</th>\n",
              "      <th>Volume</th>\n",
              "      <th>Adj Close</th>\n",
              "    </tr>\n",
              "  </thead>\n",
              "  <tbody>\n",
              "    <tr>\n",
              "      <th>0</th>\n",
              "      <td>2015-01-02</td>\n",
              "      <td>22.124950</td>\n",
              "      <td>19.827507</td>\n",
              "      <td>21.372005</td>\n",
              "      <td>21.140331</td>\n",
              "      <td>480673.0</td>\n",
              "      <td>21.140331</td>\n",
              "    </tr>\n",
              "    <tr>\n",
              "      <th>1</th>\n",
              "      <td>2015-01-05</td>\n",
              "      <td>21.140331</td>\n",
              "      <td>20.223286</td>\n",
              "      <td>21.140331</td>\n",
              "      <td>20.464613</td>\n",
              "      <td>2434653.0</td>\n",
              "      <td>20.464613</td>\n",
              "    </tr>\n",
              "    <tr>\n",
              "      <th>2</th>\n",
              "      <td>2015-01-06</td>\n",
              "      <td>21.207903</td>\n",
              "      <td>20.213633</td>\n",
              "      <td>20.319817</td>\n",
              "      <td>20.522532</td>\n",
              "      <td>2351157.0</td>\n",
              "      <td>20.522532</td>\n",
              "    </tr>\n",
              "    <tr>\n",
              "      <th>3</th>\n",
              "      <td>2015-01-07</td>\n",
              "      <td>20.686634</td>\n",
              "      <td>20.078487</td>\n",
              "      <td>20.638369</td>\n",
              "      <td>20.319817</td>\n",
              "      <td>378530.0</td>\n",
              "      <td>20.319817</td>\n",
              "    </tr>\n",
              "    <tr>\n",
              "      <th>4</th>\n",
              "      <td>2015-01-08</td>\n",
              "      <td>20.261898</td>\n",
              "      <td>19.306238</td>\n",
              "      <td>20.261898</td>\n",
              "      <td>19.653751</td>\n",
              "      <td>431881.0</td>\n",
              "      <td>19.653751</td>\n",
              "    </tr>\n",
              "    <tr>\n",
              "      <th>...</th>\n",
              "      <td>...</td>\n",
              "      <td>...</td>\n",
              "      <td>...</td>\n",
              "      <td>...</td>\n",
              "      <td>...</td>\n",
              "      <td>...</td>\n",
              "      <td>...</td>\n",
              "    </tr>\n",
              "    <tr>\n",
              "      <th>1483</th>\n",
              "      <td>2020-12-22</td>\n",
              "      <td>78.059998</td>\n",
              "      <td>75.949997</td>\n",
              "      <td>77.550003</td>\n",
              "      <td>75.970001</td>\n",
              "      <td>2403700.0</td>\n",
              "      <td>75.970001</td>\n",
              "    </tr>\n",
              "    <tr>\n",
              "      <th>1484</th>\n",
              "      <td>2020-12-23</td>\n",
              "      <td>77.099998</td>\n",
              "      <td>75.580002</td>\n",
              "      <td>76.300003</td>\n",
              "      <td>75.599998</td>\n",
              "      <td>2215200.0</td>\n",
              "      <td>75.599998</td>\n",
              "    </tr>\n",
              "    <tr>\n",
              "      <th>1485</th>\n",
              "      <td>2020-12-28</td>\n",
              "      <td>77.500000</td>\n",
              "      <td>73.809998</td>\n",
              "      <td>76.089996</td>\n",
              "      <td>77.040001</td>\n",
              "      <td>3593500.0</td>\n",
              "      <td>77.040001</td>\n",
              "    </tr>\n",
              "    <tr>\n",
              "      <th>1486</th>\n",
              "      <td>2020-12-29</td>\n",
              "      <td>78.040001</td>\n",
              "      <td>75.580002</td>\n",
              "      <td>77.480003</td>\n",
              "      <td>75.699997</td>\n",
              "      <td>3360100.0</td>\n",
              "      <td>75.699997</td>\n",
              "    </tr>\n",
              "    <tr>\n",
              "      <th>1487</th>\n",
              "      <td>2020-12-30</td>\n",
              "      <td>79.379997</td>\n",
              "      <td>75.610001</td>\n",
              "      <td>76.120003</td>\n",
              "      <td>75.610001</td>\n",
              "      <td>5071500.0</td>\n",
              "      <td>75.610001</td>\n",
              "    </tr>\n",
              "  </tbody>\n",
              "</table>\n",
              "<p>1488 rows × 7 columns</p>\n",
              "</div>"
            ],
            "text/plain": [
              "           Date       High        Low  ...      Close     Volume  Adj Close\n",
              "0    2015-01-02  22.124950  19.827507  ...  21.140331   480673.0  21.140331\n",
              "1    2015-01-05  21.140331  20.223286  ...  20.464613  2434653.0  20.464613\n",
              "2    2015-01-06  21.207903  20.213633  ...  20.522532  2351157.0  20.522532\n",
              "3    2015-01-07  20.686634  20.078487  ...  20.319817   378530.0  20.319817\n",
              "4    2015-01-08  20.261898  19.306238  ...  19.653751   431881.0  19.653751\n",
              "...         ...        ...        ...  ...        ...        ...        ...\n",
              "1483 2020-12-22  78.059998  75.949997  ...  75.970001  2403700.0  75.970001\n",
              "1484 2020-12-23  77.099998  75.580002  ...  75.599998  2215200.0  75.599998\n",
              "1485 2020-12-28  77.500000  73.809998  ...  77.040001  3593500.0  77.040001\n",
              "1486 2020-12-29  78.040001  75.580002  ...  75.699997  3360100.0  75.699997\n",
              "1487 2020-12-30  79.379997  75.610001  ...  75.610001  5071500.0  75.610001\n",
              "\n",
              "[1488 rows x 7 columns]"
            ]
          },
          "metadata": {
            "tags": []
          },
          "execution_count": 13
        }
      ]
    },
    {
      "cell_type": "markdown",
      "metadata": {
        "id": "zzLy7KVUx8Z4"
      },
      "source": [
        "Agora podemos gerar nosso grafico de linha para ver como a ação performou em relação ao tempo"
      ]
    },
    {
      "cell_type": "code",
      "metadata": {
        "id": "ZYcFkMwhty3p",
        "colab": {
          "base_uri": "https://localhost:8080/",
          "height": 542
        },
        "outputId": "91f7515d-6a2a-4503-a24c-1aa578f9e4da"
      },
      "source": [
        "figura = px.line(title = 'Histórico do preço das ações')\r\n",
        "figura.add_scatter(x = df_b2w['Date'], y = df_b2w['Close'])\r\n",
        "figura.show()"
      ],
      "execution_count": 14,
      "outputs": [
        {
          "output_type": "display_data",
          "data": {
            "text/html": [
              "<html>\n",
              "<head><meta charset=\"utf-8\" /></head>\n",
              "<body>\n",
              "    <div>\n",
              "            <script src=\"https://cdnjs.cloudflare.com/ajax/libs/mathjax/2.7.5/MathJax.js?config=TeX-AMS-MML_SVG\"></script><script type=\"text/javascript\">if (window.MathJax) {MathJax.Hub.Config({SVG: {font: \"STIX-Web\"}});}</script>\n",
              "                <script type=\"text/javascript\">window.PlotlyConfig = {MathJaxConfig: 'local'};</script>\n",
              "        <script src=\"https://cdn.plot.ly/plotly-latest.min.js\"></script>    \n",
              "            <div id=\"49f47b17-27b6-4115-bb0d-458d92ef1b3f\" class=\"plotly-graph-div\" style=\"height:525px; width:100%;\"></div>\n",
              "            <script type=\"text/javascript\">\n",
              "                \n",
              "                    window.PLOTLYENV=window.PLOTLYENV || {};\n",
              "                    \n",
              "                if (document.getElementById(\"49f47b17-27b6-4115-bb0d-458d92ef1b3f\")) {\n",
              "                    Plotly.newPlot(\n",
              "                        '49f47b17-27b6-4115-bb0d-458d92ef1b3f',\n",
              "                        [{\"type\": \"scatter\", \"x\": [\"2015-01-02T00:00:00\", \"2015-01-05T00:00:00\", \"2015-01-06T00:00:00\", \"2015-01-07T00:00:00\", \"2015-01-08T00:00:00\", \"2015-01-09T00:00:00\", \"2015-01-12T00:00:00\", \"2015-01-13T00:00:00\", \"2015-01-14T00:00:00\", \"2015-01-15T00:00:00\", \"2015-01-16T00:00:00\", \"2015-01-19T00:00:00\", \"2015-01-20T00:00:00\", \"2015-01-21T00:00:00\", \"2015-01-22T00:00:00\", \"2015-01-23T00:00:00\", \"2015-01-26T00:00:00\", \"2015-01-27T00:00:00\", \"2015-01-28T00:00:00\", \"2015-01-29T00:00:00\", \"2015-01-30T00:00:00\", \"2015-02-02T00:00:00\", \"2015-02-03T00:00:00\", \"2015-02-04T00:00:00\", \"2015-02-05T00:00:00\", \"2015-02-06T00:00:00\", \"2015-02-09T00:00:00\", \"2015-02-10T00:00:00\", \"2015-02-11T00:00:00\", \"2015-02-12T00:00:00\", \"2015-02-13T00:00:00\", \"2015-02-18T00:00:00\", \"2015-02-19T00:00:00\", \"2015-02-20T00:00:00\", \"2015-02-23T00:00:00\", \"2015-02-24T00:00:00\", \"2015-02-25T00:00:00\", \"2015-02-26T00:00:00\", \"2015-02-27T00:00:00\", \"2015-03-02T00:00:00\", \"2015-03-03T00:00:00\", \"2015-03-04T00:00:00\", \"2015-03-05T00:00:00\", \"2015-03-06T00:00:00\", \"2015-03-09T00:00:00\", \"2015-03-10T00:00:00\", \"2015-03-11T00:00:00\", \"2015-03-12T00:00:00\", \"2015-03-13T00:00:00\", \"2015-03-16T00:00:00\", \"2015-03-17T00:00:00\", \"2015-03-18T00:00:00\", \"2015-03-19T00:00:00\", \"2015-03-20T00:00:00\", \"2015-03-23T00:00:00\", \"2015-03-24T00:00:00\", \"2015-03-25T00:00:00\", \"2015-03-26T00:00:00\", \"2015-03-27T00:00:00\", \"2015-03-30T00:00:00\", \"2015-03-31T00:00:00\", \"2015-04-01T00:00:00\", \"2015-04-02T00:00:00\", \"2015-04-06T00:00:00\", \"2015-04-07T00:00:00\", \"2015-04-08T00:00:00\", \"2015-04-09T00:00:00\", \"2015-04-10T00:00:00\", \"2015-04-13T00:00:00\", \"2015-04-14T00:00:00\", \"2015-04-15T00:00:00\", \"2015-04-16T00:00:00\", \"2015-04-17T00:00:00\", \"2015-04-20T00:00:00\", \"2015-04-22T00:00:00\", \"2015-04-23T00:00:00\", \"2015-04-24T00:00:00\", \"2015-04-27T00:00:00\", \"2015-04-28T00:00:00\", \"2015-04-29T00:00:00\", \"2015-04-30T00:00:00\", \"2015-05-04T00:00:00\", \"2015-05-05T00:00:00\", \"2015-05-06T00:00:00\", \"2015-05-07T00:00:00\", \"2015-05-08T00:00:00\", \"2015-05-11T00:00:00\", \"2015-05-12T00:00:00\", \"2015-05-13T00:00:00\", \"2015-05-14T00:00:00\", \"2015-05-15T00:00:00\", \"2015-05-18T00:00:00\", \"2015-05-19T00:00:00\", \"2015-05-20T00:00:00\", \"2015-05-21T00:00:00\", \"2015-05-22T00:00:00\", \"2015-05-25T00:00:00\", \"2015-05-26T00:00:00\", \"2015-05-27T00:00:00\", \"2015-05-28T00:00:00\", \"2015-05-29T00:00:00\", \"2015-06-01T00:00:00\", \"2015-06-02T00:00:00\", \"2015-06-03T00:00:00\", \"2015-06-05T00:00:00\", \"2015-06-08T00:00:00\", \"2015-06-09T00:00:00\", \"2015-06-10T00:00:00\", \"2015-06-11T00:00:00\", \"2015-06-12T00:00:00\", \"2015-06-15T00:00:00\", \"2015-06-16T00:00:00\", \"2015-06-17T00:00:00\", \"2015-06-18T00:00:00\", \"2015-06-19T00:00:00\", \"2015-06-22T00:00:00\", \"2015-06-23T00:00:00\", \"2015-06-24T00:00:00\", \"2015-06-25T00:00:00\", \"2015-06-26T00:00:00\", \"2015-06-29T00:00:00\", \"2015-06-30T00:00:00\", \"2015-07-01T00:00:00\", \"2015-07-02T00:00:00\", \"2015-07-03T00:00:00\", \"2015-07-06T00:00:00\", \"2015-07-07T00:00:00\", \"2015-07-08T00:00:00\", \"2015-07-10T00:00:00\", \"2015-07-13T00:00:00\", \"2015-07-14T00:00:00\", \"2015-07-15T00:00:00\", \"2015-07-16T00:00:00\", \"2015-07-17T00:00:00\", \"2015-07-20T00:00:00\", \"2015-07-21T00:00:00\", \"2015-07-22T00:00:00\", \"2015-07-23T00:00:00\", \"2015-07-24T00:00:00\", \"2015-07-27T00:00:00\", \"2015-07-28T00:00:00\", \"2015-07-29T00:00:00\", \"2015-07-30T00:00:00\", \"2015-07-31T00:00:00\", \"2015-08-03T00:00:00\", \"2015-08-04T00:00:00\", \"2015-08-05T00:00:00\", \"2015-08-06T00:00:00\", \"2015-08-07T00:00:00\", \"2015-08-10T00:00:00\", \"2015-08-11T00:00:00\", \"2015-08-12T00:00:00\", \"2015-08-13T00:00:00\", \"2015-08-14T00:00:00\", \"2015-08-17T00:00:00\", \"2015-08-18T00:00:00\", \"2015-08-19T00:00:00\", \"2015-08-20T00:00:00\", \"2015-08-21T00:00:00\", \"2015-08-24T00:00:00\", \"2015-08-25T00:00:00\", \"2015-08-26T00:00:00\", \"2015-08-27T00:00:00\", \"2015-08-28T00:00:00\", \"2015-08-31T00:00:00\", \"2015-09-01T00:00:00\", \"2015-09-02T00:00:00\", \"2015-09-03T00:00:00\", \"2015-09-04T00:00:00\", \"2015-09-08T00:00:00\", \"2015-09-09T00:00:00\", \"2015-09-10T00:00:00\", \"2015-09-11T00:00:00\", \"2015-09-14T00:00:00\", \"2015-09-15T00:00:00\", \"2015-09-16T00:00:00\", \"2015-09-17T00:00:00\", \"2015-09-18T00:00:00\", \"2015-09-21T00:00:00\", \"2015-09-22T00:00:00\", \"2015-09-23T00:00:00\", \"2015-09-24T00:00:00\", \"2015-09-25T00:00:00\", \"2015-09-28T00:00:00\", \"2015-09-29T00:00:00\", \"2015-09-30T00:00:00\", \"2015-10-01T00:00:00\", \"2015-10-02T00:00:00\", \"2015-10-05T00:00:00\", \"2015-10-06T00:00:00\", \"2015-10-07T00:00:00\", \"2015-10-08T00:00:00\", \"2015-10-09T00:00:00\", \"2015-10-13T00:00:00\", \"2015-10-14T00:00:00\", \"2015-10-15T00:00:00\", \"2015-10-16T00:00:00\", \"2015-10-19T00:00:00\", \"2015-10-20T00:00:00\", \"2015-10-21T00:00:00\", \"2015-10-22T00:00:00\", \"2015-10-23T00:00:00\", \"2015-10-26T00:00:00\", \"2015-10-27T00:00:00\", \"2015-10-28T00:00:00\", \"2015-10-29T00:00:00\", \"2015-10-30T00:00:00\", \"2015-11-03T00:00:00\", \"2015-11-04T00:00:00\", \"2015-11-05T00:00:00\", \"2015-11-06T00:00:00\", \"2015-11-09T00:00:00\", \"2015-11-10T00:00:00\", \"2015-11-11T00:00:00\", \"2015-11-12T00:00:00\", \"2015-11-13T00:00:00\", \"2015-11-16T00:00:00\", \"2015-11-17T00:00:00\", \"2015-11-18T00:00:00\", \"2015-11-19T00:00:00\", \"2015-11-23T00:00:00\", \"2015-11-24T00:00:00\", \"2015-11-25T00:00:00\", \"2015-11-26T00:00:00\", \"2015-11-27T00:00:00\", \"2015-11-30T00:00:00\", \"2015-12-01T00:00:00\", \"2015-12-02T00:00:00\", \"2015-12-03T00:00:00\", \"2015-12-04T00:00:00\", \"2015-12-07T00:00:00\", \"2015-12-08T00:00:00\", \"2015-12-09T00:00:00\", \"2015-12-10T00:00:00\", \"2015-12-11T00:00:00\", \"2015-12-14T00:00:00\", \"2015-12-15T00:00:00\", \"2015-12-16T00:00:00\", \"2015-12-17T00:00:00\", \"2015-12-18T00:00:00\", \"2015-12-21T00:00:00\", \"2015-12-22T00:00:00\", \"2015-12-23T00:00:00\", \"2015-12-28T00:00:00\", \"2015-12-29T00:00:00\", \"2015-12-30T00:00:00\", \"2016-01-04T00:00:00\", \"2016-01-05T00:00:00\", \"2016-01-06T00:00:00\", \"2016-01-07T00:00:00\", \"2016-01-08T00:00:00\", \"2016-01-11T00:00:00\", \"2016-01-12T00:00:00\", \"2016-01-13T00:00:00\", \"2016-01-14T00:00:00\", \"2016-01-15T00:00:00\", \"2016-01-18T00:00:00\", \"2016-01-19T00:00:00\", \"2016-01-20T00:00:00\", \"2016-01-21T00:00:00\", \"2016-01-22T00:00:00\", \"2016-01-26T00:00:00\", \"2016-01-27T00:00:00\", \"2016-01-28T00:00:00\", \"2016-01-29T00:00:00\", \"2016-02-01T00:00:00\", \"2016-02-02T00:00:00\", \"2016-02-03T00:00:00\", \"2016-02-04T00:00:00\", \"2016-02-05T00:00:00\", \"2016-02-10T00:00:00\", \"2016-02-11T00:00:00\", \"2016-02-12T00:00:00\", \"2016-02-15T00:00:00\", \"2016-02-16T00:00:00\", \"2016-02-17T00:00:00\", \"2016-02-18T00:00:00\", \"2016-02-19T00:00:00\", \"2016-02-22T00:00:00\", \"2016-02-23T00:00:00\", \"2016-02-24T00:00:00\", \"2016-02-25T00:00:00\", \"2016-02-26T00:00:00\", \"2016-02-29T00:00:00\", \"2016-03-01T00:00:00\", \"2016-03-02T00:00:00\", \"2016-03-03T00:00:00\", \"2016-03-04T00:00:00\", \"2016-03-07T00:00:00\", \"2016-03-08T00:00:00\", \"2016-03-09T00:00:00\", \"2016-03-10T00:00:00\", \"2016-03-11T00:00:00\", \"2016-03-14T00:00:00\", \"2016-03-15T00:00:00\", \"2016-03-16T00:00:00\", \"2016-03-17T00:00:00\", \"2016-03-18T00:00:00\", \"2016-03-21T00:00:00\", \"2016-03-22T00:00:00\", \"2016-03-23T00:00:00\", \"2016-03-24T00:00:00\", \"2016-03-28T00:00:00\", \"2016-03-29T00:00:00\", \"2016-03-30T00:00:00\", \"2016-03-31T00:00:00\", \"2016-04-01T00:00:00\", \"2016-04-04T00:00:00\", \"2016-04-05T00:00:00\", \"2016-04-06T00:00:00\", \"2016-04-07T00:00:00\", \"2016-04-08T00:00:00\", \"2016-04-11T00:00:00\", \"2016-04-12T00:00:00\", \"2016-04-13T00:00:00\", \"2016-04-14T00:00:00\", \"2016-04-15T00:00:00\", \"2016-04-18T00:00:00\", \"2016-04-19T00:00:00\", \"2016-04-20T00:00:00\", \"2016-04-22T00:00:00\", \"2016-04-25T00:00:00\", \"2016-04-26T00:00:00\", \"2016-04-27T00:00:00\", \"2016-04-28T00:00:00\", \"2016-04-29T00:00:00\", \"2016-05-02T00:00:00\", \"2016-05-03T00:00:00\", \"2016-05-04T00:00:00\", \"2016-05-05T00:00:00\", \"2016-05-06T00:00:00\", \"2016-05-09T00:00:00\", \"2016-05-10T00:00:00\", \"2016-05-11T00:00:00\", \"2016-05-12T00:00:00\", \"2016-05-13T00:00:00\", \"2016-05-16T00:00:00\", \"2016-05-17T00:00:00\", \"2016-05-18T00:00:00\", \"2016-05-19T00:00:00\", \"2016-05-20T00:00:00\", \"2016-05-23T00:00:00\", \"2016-05-24T00:00:00\", \"2016-05-25T00:00:00\", \"2016-05-27T00:00:00\", \"2016-05-30T00:00:00\", \"2016-05-31T00:00:00\", \"2016-06-01T00:00:00\", \"2016-06-02T00:00:00\", \"2016-06-03T00:00:00\", \"2016-06-06T00:00:00\", \"2016-06-07T00:00:00\", \"2016-06-08T00:00:00\", \"2016-06-09T00:00:00\", \"2016-06-10T00:00:00\", \"2016-06-13T00:00:00\", \"2016-06-14T00:00:00\", \"2016-06-15T00:00:00\", \"2016-06-16T00:00:00\", \"2016-06-17T00:00:00\", \"2016-06-20T00:00:00\", \"2016-06-21T00:00:00\", \"2016-06-22T00:00:00\", \"2016-06-23T00:00:00\", \"2016-06-24T00:00:00\", \"2016-06-27T00:00:00\", \"2016-06-28T00:00:00\", \"2016-06-29T00:00:00\", \"2016-06-30T00:00:00\", \"2016-07-01T00:00:00\", \"2016-07-04T00:00:00\", \"2016-07-05T00:00:00\", \"2016-07-06T00:00:00\", \"2016-07-07T00:00:00\", \"2016-07-08T00:00:00\", \"2016-07-11T00:00:00\", \"2016-07-12T00:00:00\", \"2016-07-13T00:00:00\", \"2016-07-14T00:00:00\", \"2016-07-15T00:00:00\", \"2016-07-18T00:00:00\", \"2016-07-19T00:00:00\", \"2016-07-20T00:00:00\", \"2016-07-21T00:00:00\", \"2016-07-22T00:00:00\", \"2016-07-25T00:00:00\", \"2016-07-26T00:00:00\", \"2016-07-27T00:00:00\", \"2016-07-28T00:00:00\", \"2016-07-29T00:00:00\", \"2016-08-01T00:00:00\", \"2016-08-02T00:00:00\", \"2016-08-03T00:00:00\", \"2016-08-04T00:00:00\", \"2016-08-05T00:00:00\", \"2016-08-08T00:00:00\", \"2016-08-09T00:00:00\", \"2016-08-10T00:00:00\", \"2016-08-11T00:00:00\", \"2016-08-12T00:00:00\", \"2016-08-15T00:00:00\", \"2016-08-16T00:00:00\", \"2016-08-17T00:00:00\", \"2016-08-18T00:00:00\", \"2016-08-19T00:00:00\", \"2016-08-22T00:00:00\", \"2016-08-23T00:00:00\", \"2016-08-24T00:00:00\", \"2016-08-25T00:00:00\", \"2016-08-26T00:00:00\", \"2016-08-29T00:00:00\", \"2016-08-30T00:00:00\", \"2016-08-31T00:00:00\", \"2016-09-01T00:00:00\", \"2016-09-02T00:00:00\", \"2016-09-05T00:00:00\", \"2016-09-06T00:00:00\", \"2016-09-08T00:00:00\", \"2016-09-09T00:00:00\", \"2016-09-12T00:00:00\", \"2016-09-13T00:00:00\", \"2016-09-14T00:00:00\", \"2016-09-15T00:00:00\", \"2016-09-16T00:00:00\", \"2016-09-19T00:00:00\", \"2016-09-20T00:00:00\", \"2016-09-21T00:00:00\", \"2016-09-22T00:00:00\", \"2016-09-23T00:00:00\", \"2016-09-26T00:00:00\", \"2016-09-27T00:00:00\", \"2016-09-28T00:00:00\", \"2016-09-29T00:00:00\", \"2016-09-30T00:00:00\", \"2016-10-03T00:00:00\", \"2016-10-04T00:00:00\", \"2016-10-05T00:00:00\", \"2016-10-06T00:00:00\", \"2016-10-07T00:00:00\", \"2016-10-10T00:00:00\", \"2016-10-11T00:00:00\", \"2016-10-13T00:00:00\", \"2016-10-14T00:00:00\", \"2016-10-17T00:00:00\", \"2016-10-18T00:00:00\", \"2016-10-19T00:00:00\", \"2016-10-20T00:00:00\", \"2016-10-21T00:00:00\", \"2016-10-24T00:00:00\", \"2016-10-25T00:00:00\", \"2016-10-26T00:00:00\", \"2016-10-27T00:00:00\", \"2016-10-28T00:00:00\", \"2016-10-31T00:00:00\", \"2016-11-01T00:00:00\", \"2016-11-03T00:00:00\", \"2016-11-04T00:00:00\", \"2016-11-07T00:00:00\", \"2016-11-08T00:00:00\", \"2016-11-09T00:00:00\", \"2016-11-10T00:00:00\", \"2016-11-11T00:00:00\", \"2016-11-14T00:00:00\", \"2016-11-16T00:00:00\", \"2016-11-17T00:00:00\", \"2016-11-18T00:00:00\", \"2016-11-21T00:00:00\", \"2016-11-22T00:00:00\", \"2016-11-23T00:00:00\", \"2016-11-24T00:00:00\", \"2016-11-25T00:00:00\", \"2016-11-28T00:00:00\", \"2016-11-29T00:00:00\", \"2016-11-30T00:00:00\", \"2016-12-01T00:00:00\", \"2016-12-02T00:00:00\", \"2016-12-05T00:00:00\", \"2016-12-06T00:00:00\", \"2016-12-07T00:00:00\", \"2016-12-08T00:00:00\", \"2016-12-09T00:00:00\", \"2016-12-12T00:00:00\", \"2016-12-13T00:00:00\", \"2016-12-14T00:00:00\", \"2016-12-15T00:00:00\", \"2016-12-16T00:00:00\", \"2016-12-19T00:00:00\", \"2016-12-20T00:00:00\", \"2016-12-21T00:00:00\", \"2016-12-22T00:00:00\", \"2016-12-23T00:00:00\", \"2016-12-26T00:00:00\", \"2016-12-27T00:00:00\", \"2016-12-28T00:00:00\", \"2016-12-29T00:00:00\", \"2017-01-02T00:00:00\", \"2017-01-03T00:00:00\", \"2017-01-04T00:00:00\", \"2017-01-05T00:00:00\", \"2017-01-06T00:00:00\", \"2017-01-09T00:00:00\", \"2017-01-10T00:00:00\", \"2017-01-11T00:00:00\", \"2017-01-12T00:00:00\", \"2017-01-13T00:00:00\", \"2017-01-16T00:00:00\", \"2017-01-17T00:00:00\", \"2017-01-18T00:00:00\", \"2017-01-19T00:00:00\", \"2017-01-20T00:00:00\", \"2017-01-23T00:00:00\", \"2017-01-24T00:00:00\", \"2017-01-26T00:00:00\", \"2017-01-27T00:00:00\", \"2017-01-30T00:00:00\", \"2017-01-31T00:00:00\", \"2017-02-01T00:00:00\", \"2017-02-02T00:00:00\", \"2017-02-03T00:00:00\", \"2017-02-06T00:00:00\", \"2017-02-07T00:00:00\", \"2017-02-08T00:00:00\", \"2017-02-09T00:00:00\", \"2017-02-10T00:00:00\", \"2017-02-13T00:00:00\", \"2017-02-14T00:00:00\", \"2017-02-15T00:00:00\", \"2017-02-16T00:00:00\", \"2017-02-17T00:00:00\", \"2017-02-20T00:00:00\", \"2017-02-21T00:00:00\", \"2017-02-22T00:00:00\", \"2017-02-23T00:00:00\", \"2017-02-24T00:00:00\", \"2017-03-01T00:00:00\", \"2017-03-02T00:00:00\", \"2017-03-03T00:00:00\", \"2017-03-06T00:00:00\", \"2017-03-07T00:00:00\", \"2017-03-08T00:00:00\", \"2017-03-09T00:00:00\", \"2017-03-10T00:00:00\", \"2017-03-13T00:00:00\", \"2017-03-14T00:00:00\", \"2017-03-15T00:00:00\", \"2017-03-16T00:00:00\", \"2017-03-17T00:00:00\", \"2017-03-20T00:00:00\", \"2017-03-21T00:00:00\", \"2017-03-22T00:00:00\", \"2017-03-23T00:00:00\", \"2017-03-24T00:00:00\", \"2017-03-27T00:00:00\", \"2017-03-28T00:00:00\", \"2017-03-29T00:00:00\", \"2017-03-30T00:00:00\", \"2017-03-31T00:00:00\", \"2017-04-03T00:00:00\", \"2017-04-04T00:00:00\", \"2017-04-05T00:00:00\", \"2017-04-06T00:00:00\", \"2017-04-07T00:00:00\", \"2017-04-10T00:00:00\", \"2017-04-11T00:00:00\", \"2017-04-12T00:00:00\", \"2017-04-13T00:00:00\", \"2017-04-17T00:00:00\", \"2017-04-18T00:00:00\", \"2017-04-19T00:00:00\", \"2017-04-20T00:00:00\", \"2017-04-24T00:00:00\", \"2017-04-25T00:00:00\", \"2017-04-26T00:00:00\", \"2017-04-27T00:00:00\", \"2017-04-28T00:00:00\", \"2017-05-02T00:00:00\", \"2017-05-03T00:00:00\", \"2017-05-04T00:00:00\", \"2017-05-05T00:00:00\", \"2017-05-08T00:00:00\", \"2017-05-09T00:00:00\", \"2017-05-10T00:00:00\", \"2017-05-11T00:00:00\", \"2017-05-12T00:00:00\", \"2017-05-15T00:00:00\", \"2017-05-16T00:00:00\", \"2017-05-17T00:00:00\", \"2017-05-18T00:00:00\", \"2017-05-19T00:00:00\", \"2017-05-22T00:00:00\", \"2017-05-23T00:00:00\", \"2017-05-24T00:00:00\", \"2017-05-25T00:00:00\", \"2017-05-26T00:00:00\", \"2017-05-29T00:00:00\", \"2017-05-30T00:00:00\", \"2017-05-31T00:00:00\", \"2017-06-01T00:00:00\", \"2017-06-02T00:00:00\", \"2017-06-05T00:00:00\", \"2017-06-06T00:00:00\", \"2017-06-07T00:00:00\", \"2017-06-08T00:00:00\", \"2017-06-09T00:00:00\", \"2017-06-12T00:00:00\", \"2017-06-13T00:00:00\", \"2017-06-14T00:00:00\", \"2017-06-15T00:00:00\", \"2017-06-16T00:00:00\", \"2017-06-19T00:00:00\", \"2017-06-20T00:00:00\", \"2017-06-21T00:00:00\", \"2017-06-22T00:00:00\", \"2017-06-23T00:00:00\", \"2017-06-26T00:00:00\", \"2017-06-27T00:00:00\", \"2017-06-28T00:00:00\", \"2017-06-29T00:00:00\", \"2017-06-30T00:00:00\", \"2017-07-03T00:00:00\", \"2017-07-04T00:00:00\", \"2017-07-05T00:00:00\", \"2017-07-06T00:00:00\", \"2017-07-07T00:00:00\", \"2017-07-10T00:00:00\", \"2017-07-11T00:00:00\", \"2017-07-12T00:00:00\", \"2017-07-13T00:00:00\", \"2017-07-14T00:00:00\", \"2017-07-17T00:00:00\", \"2017-07-18T00:00:00\", \"2017-07-19T00:00:00\", \"2017-07-20T00:00:00\", \"2017-07-21T00:00:00\", \"2017-07-24T00:00:00\", \"2017-07-25T00:00:00\", \"2017-07-26T00:00:00\", \"2017-07-27T00:00:00\", \"2017-07-28T00:00:00\", \"2017-07-31T00:00:00\", \"2017-08-01T00:00:00\", \"2017-08-02T00:00:00\", \"2017-08-03T00:00:00\", \"2017-08-04T00:00:00\", \"2017-08-07T00:00:00\", \"2017-08-08T00:00:00\", \"2017-08-09T00:00:00\", \"2017-08-10T00:00:00\", \"2017-08-11T00:00:00\", \"2017-08-14T00:00:00\", \"2017-08-15T00:00:00\", \"2017-08-16T00:00:00\", \"2017-08-17T00:00:00\", \"2017-08-18T00:00:00\", \"2017-08-21T00:00:00\", \"2017-08-22T00:00:00\", \"2017-08-23T00:00:00\", \"2017-08-24T00:00:00\", \"2017-08-25T00:00:00\", \"2017-08-28T00:00:00\", \"2017-08-29T00:00:00\", \"2017-08-30T00:00:00\", \"2017-08-31T00:00:00\", \"2017-09-01T00:00:00\", \"2017-09-04T00:00:00\", \"2017-09-05T00:00:00\", \"2017-09-06T00:00:00\", \"2017-09-07T00:00:00\", \"2017-09-08T00:00:00\", \"2017-09-11T00:00:00\", \"2017-09-12T00:00:00\", \"2017-09-13T00:00:00\", \"2017-09-14T00:00:00\", \"2017-09-15T00:00:00\", \"2017-09-18T00:00:00\", \"2017-09-19T00:00:00\", \"2017-09-20T00:00:00\", \"2017-09-21T00:00:00\", \"2017-09-22T00:00:00\", \"2017-09-25T00:00:00\", \"2017-09-26T00:00:00\", \"2017-09-27T00:00:00\", \"2017-09-28T00:00:00\", \"2017-09-29T00:00:00\", \"2017-10-02T00:00:00\", \"2017-10-03T00:00:00\", \"2017-10-04T00:00:00\", \"2017-10-05T00:00:00\", \"2017-10-06T00:00:00\", \"2017-10-09T00:00:00\", \"2017-10-10T00:00:00\", \"2017-10-11T00:00:00\", \"2017-10-12T00:00:00\", \"2017-10-13T00:00:00\", \"2017-10-16T00:00:00\", \"2017-10-17T00:00:00\", \"2017-10-18T00:00:00\", \"2017-10-19T00:00:00\", \"2017-10-20T00:00:00\", \"2017-10-23T00:00:00\", \"2017-10-24T00:00:00\", \"2017-10-25T00:00:00\", \"2017-10-26T00:00:00\", \"2017-10-27T00:00:00\", \"2017-10-30T00:00:00\", \"2017-10-31T00:00:00\", \"2017-11-01T00:00:00\", \"2017-11-02T00:00:00\", \"2017-11-03T00:00:00\", \"2017-11-06T00:00:00\", \"2017-11-07T00:00:00\", \"2017-11-08T00:00:00\", \"2017-11-09T00:00:00\", \"2017-11-10T00:00:00\", \"2017-11-13T00:00:00\", \"2017-11-14T00:00:00\", \"2017-11-15T00:00:00\", \"2017-11-16T00:00:00\", \"2017-11-17T00:00:00\", \"2017-11-20T00:00:00\", \"2017-11-21T00:00:00\", \"2017-11-22T00:00:00\", \"2017-11-23T00:00:00\", \"2017-11-24T00:00:00\", \"2017-11-27T00:00:00\", \"2017-11-28T00:00:00\", \"2017-11-29T00:00:00\", \"2017-11-30T00:00:00\", \"2017-12-01T00:00:00\", \"2017-12-04T00:00:00\", \"2017-12-05T00:00:00\", \"2017-12-06T00:00:00\", \"2017-12-07T00:00:00\", \"2017-12-08T00:00:00\", \"2017-12-11T00:00:00\", \"2017-12-12T00:00:00\", \"2017-12-13T00:00:00\", \"2017-12-14T00:00:00\", \"2017-12-15T00:00:00\", \"2017-12-18T00:00:00\", \"2017-12-19T00:00:00\", \"2017-12-20T00:00:00\", \"2017-12-21T00:00:00\", \"2017-12-22T00:00:00\", \"2017-12-25T00:00:00\", \"2017-12-26T00:00:00\", \"2017-12-27T00:00:00\", \"2017-12-28T00:00:00\", \"2017-12-29T00:00:00\", \"2018-01-02T00:00:00\", \"2018-01-03T00:00:00\", \"2018-01-04T00:00:00\", \"2018-01-05T00:00:00\", \"2018-01-08T00:00:00\", \"2018-01-09T00:00:00\", \"2018-01-10T00:00:00\", \"2018-01-11T00:00:00\", \"2018-01-12T00:00:00\", \"2018-01-15T00:00:00\", \"2018-01-16T00:00:00\", \"2018-01-17T00:00:00\", \"2018-01-18T00:00:00\", \"2018-01-19T00:00:00\", \"2018-01-22T00:00:00\", \"2018-01-23T00:00:00\", \"2018-01-24T00:00:00\", \"2018-01-25T00:00:00\", \"2018-01-26T00:00:00\", \"2018-01-29T00:00:00\", \"2018-01-30T00:00:00\", \"2018-01-31T00:00:00\", \"2018-02-01T00:00:00\", \"2018-02-02T00:00:00\", \"2018-02-05T00:00:00\", \"2018-02-06T00:00:00\", \"2018-02-07T00:00:00\", \"2018-02-08T00:00:00\", \"2018-02-09T00:00:00\", \"2018-02-15T00:00:00\", \"2018-02-16T00:00:00\", \"2018-02-19T00:00:00\", \"2018-02-20T00:00:00\", \"2018-02-21T00:00:00\", \"2018-02-22T00:00:00\", \"2018-02-23T00:00:00\", \"2018-02-26T00:00:00\", \"2018-02-27T00:00:00\", \"2018-02-28T00:00:00\", \"2018-03-01T00:00:00\", \"2018-03-02T00:00:00\", \"2018-03-05T00:00:00\", \"2018-03-06T00:00:00\", \"2018-03-07T00:00:00\", \"2018-03-08T00:00:00\", \"2018-03-09T00:00:00\", \"2018-03-12T00:00:00\", \"2018-03-13T00:00:00\", \"2018-03-14T00:00:00\", \"2018-03-15T00:00:00\", \"2018-03-16T00:00:00\", \"2018-03-19T00:00:00\", \"2018-03-20T00:00:00\", \"2018-03-21T00:00:00\", \"2018-03-22T00:00:00\", \"2018-03-23T00:00:00\", \"2018-03-26T00:00:00\", \"2018-03-27T00:00:00\", \"2018-03-28T00:00:00\", \"2018-03-29T00:00:00\", \"2018-04-02T00:00:00\", \"2018-04-03T00:00:00\", \"2018-04-04T00:00:00\", \"2018-04-05T00:00:00\", \"2018-04-06T00:00:00\", \"2018-04-09T00:00:00\", \"2018-04-10T00:00:00\", \"2018-04-11T00:00:00\", \"2018-04-12T00:00:00\", \"2018-04-13T00:00:00\", \"2018-04-16T00:00:00\", \"2018-04-17T00:00:00\", \"2018-04-18T00:00:00\", \"2018-04-19T00:00:00\", \"2018-04-20T00:00:00\", \"2018-04-23T00:00:00\", \"2018-04-24T00:00:00\", \"2018-04-25T00:00:00\", \"2018-04-26T00:00:00\", \"2018-04-27T00:00:00\", \"2018-04-30T00:00:00\", \"2018-05-02T00:00:00\", \"2018-05-03T00:00:00\", \"2018-05-04T00:00:00\", \"2018-05-07T00:00:00\", \"2018-05-08T00:00:00\", \"2018-05-09T00:00:00\", \"2018-05-10T00:00:00\", \"2018-05-11T00:00:00\", \"2018-05-14T00:00:00\", \"2018-05-15T00:00:00\", \"2018-05-16T00:00:00\", \"2018-05-17T00:00:00\", \"2018-05-18T00:00:00\", \"2018-05-21T00:00:00\", \"2018-05-22T00:00:00\", \"2018-05-23T00:00:00\", \"2018-05-24T00:00:00\", \"2018-05-25T00:00:00\", \"2018-05-28T00:00:00\", \"2018-05-29T00:00:00\", \"2018-05-30T00:00:00\", \"2018-06-01T00:00:00\", \"2018-06-04T00:00:00\", \"2018-06-05T00:00:00\", \"2018-06-06T00:00:00\", \"2018-06-07T00:00:00\", \"2018-06-08T00:00:00\", \"2018-06-11T00:00:00\", \"2018-06-12T00:00:00\", \"2018-06-13T00:00:00\", \"2018-06-14T00:00:00\", \"2018-06-15T00:00:00\", \"2018-06-18T00:00:00\", \"2018-06-19T00:00:00\", \"2018-06-20T00:00:00\", \"2018-06-21T00:00:00\", \"2018-06-22T00:00:00\", \"2018-06-25T00:00:00\", \"2018-06-26T00:00:00\", \"2018-06-27T00:00:00\", \"2018-06-28T00:00:00\", \"2018-06-29T00:00:00\", \"2018-07-02T00:00:00\", \"2018-07-03T00:00:00\", \"2018-07-04T00:00:00\", \"2018-07-05T00:00:00\", \"2018-07-06T00:00:00\", \"2018-07-10T00:00:00\", \"2018-07-11T00:00:00\", \"2018-07-12T00:00:00\", \"2018-07-13T00:00:00\", \"2018-07-16T00:00:00\", \"2018-07-17T00:00:00\", \"2018-07-18T00:00:00\", \"2018-07-19T00:00:00\", \"2018-07-20T00:00:00\", \"2018-07-23T00:00:00\", \"2018-07-24T00:00:00\", \"2018-07-25T00:00:00\", \"2018-07-26T00:00:00\", \"2018-07-27T00:00:00\", \"2018-07-30T00:00:00\", \"2018-07-31T00:00:00\", \"2018-08-01T00:00:00\", \"2018-08-02T00:00:00\", \"2018-08-03T00:00:00\", \"2018-08-06T00:00:00\", \"2018-08-07T00:00:00\", \"2018-08-08T00:00:00\", \"2018-08-09T00:00:00\", \"2018-08-10T00:00:00\", \"2018-08-13T00:00:00\", \"2018-08-14T00:00:00\", \"2018-08-15T00:00:00\", \"2018-08-16T00:00:00\", \"2018-08-17T00:00:00\", \"2018-08-20T00:00:00\", \"2018-08-21T00:00:00\", \"2018-08-22T00:00:00\", \"2018-08-23T00:00:00\", \"2018-08-24T00:00:00\", \"2018-08-27T00:00:00\", \"2018-08-28T00:00:00\", \"2018-08-29T00:00:00\", \"2018-08-30T00:00:00\", \"2018-08-31T00:00:00\", \"2018-09-03T00:00:00\", \"2018-09-04T00:00:00\", \"2018-09-05T00:00:00\", \"2018-09-06T00:00:00\", \"2018-09-10T00:00:00\", \"2018-09-11T00:00:00\", \"2018-09-12T00:00:00\", \"2018-09-13T00:00:00\", \"2018-09-14T00:00:00\", \"2018-09-17T00:00:00\", \"2018-09-18T00:00:00\", \"2018-09-19T00:00:00\", \"2018-09-20T00:00:00\", \"2018-09-21T00:00:00\", \"2018-09-24T00:00:00\", \"2018-09-25T00:00:00\", \"2018-09-26T00:00:00\", \"2018-09-27T00:00:00\", \"2018-09-28T00:00:00\", \"2018-10-01T00:00:00\", \"2018-10-02T00:00:00\", \"2018-10-03T00:00:00\", \"2018-10-04T00:00:00\", \"2018-10-05T00:00:00\", \"2018-10-08T00:00:00\", \"2018-10-09T00:00:00\", \"2018-10-10T00:00:00\", \"2018-10-11T00:00:00\", \"2018-10-15T00:00:00\", \"2018-10-16T00:00:00\", \"2018-10-17T00:00:00\", \"2018-10-18T00:00:00\", \"2018-10-19T00:00:00\", \"2018-10-22T00:00:00\", \"2018-10-23T00:00:00\", \"2018-10-24T00:00:00\", \"2018-10-25T00:00:00\", \"2018-10-26T00:00:00\", \"2018-10-29T00:00:00\", \"2018-10-30T00:00:00\", \"2018-10-31T00:00:00\", \"2018-11-01T00:00:00\", \"2018-11-05T00:00:00\", \"2018-11-06T00:00:00\", \"2018-11-07T00:00:00\", \"2018-11-08T00:00:00\", \"2018-11-09T00:00:00\", \"2018-11-12T00:00:00\", \"2018-11-13T00:00:00\", \"2018-11-14T00:00:00\", \"2018-11-16T00:00:00\", \"2018-11-19T00:00:00\", \"2018-11-21T00:00:00\", \"2018-11-22T00:00:00\", \"2018-11-23T00:00:00\", \"2018-11-26T00:00:00\", \"2018-11-27T00:00:00\", \"2018-11-28T00:00:00\", \"2018-11-29T00:00:00\", \"2018-11-30T00:00:00\", \"2018-12-03T00:00:00\", \"2018-12-04T00:00:00\", \"2018-12-05T00:00:00\", \"2018-12-06T00:00:00\", \"2018-12-07T00:00:00\", \"2018-12-10T00:00:00\", \"2018-12-11T00:00:00\", \"2018-12-12T00:00:00\", \"2018-12-13T00:00:00\", \"2018-12-14T00:00:00\", \"2018-12-17T00:00:00\", \"2018-12-18T00:00:00\", \"2018-12-19T00:00:00\", \"2018-12-20T00:00:00\", \"2018-12-21T00:00:00\", \"2018-12-26T00:00:00\", \"2018-12-27T00:00:00\", \"2018-12-28T00:00:00\", \"2019-01-02T00:00:00\", \"2019-01-03T00:00:00\", \"2019-01-04T00:00:00\", \"2019-01-07T00:00:00\", \"2019-01-08T00:00:00\", \"2019-01-09T00:00:00\", \"2019-01-10T00:00:00\", \"2019-01-11T00:00:00\", \"2019-01-14T00:00:00\", \"2019-01-15T00:00:00\", \"2019-01-16T00:00:00\", \"2019-01-17T00:00:00\", \"2019-01-18T00:00:00\", \"2019-01-21T00:00:00\", \"2019-01-22T00:00:00\", \"2019-01-23T00:00:00\", \"2019-01-24T00:00:00\", \"2019-01-28T00:00:00\", \"2019-01-29T00:00:00\", \"2019-01-30T00:00:00\", \"2019-01-31T00:00:00\", \"2019-02-01T00:00:00\", \"2019-02-04T00:00:00\", \"2019-02-05T00:00:00\", \"2019-02-06T00:00:00\", \"2019-02-07T00:00:00\", \"2019-02-08T00:00:00\", \"2019-02-11T00:00:00\", \"2019-02-12T00:00:00\", \"2019-02-13T00:00:00\", \"2019-02-14T00:00:00\", \"2019-02-15T00:00:00\", \"2019-02-18T00:00:00\", \"2019-02-19T00:00:00\", \"2019-02-20T00:00:00\", \"2019-02-21T00:00:00\", \"2019-02-22T00:00:00\", \"2019-02-25T00:00:00\", \"2019-02-26T00:00:00\", \"2019-02-27T00:00:00\", \"2019-02-28T00:00:00\", \"2019-03-01T00:00:00\", \"2019-03-07T00:00:00\", \"2019-03-08T00:00:00\", \"2019-03-11T00:00:00\", \"2019-03-12T00:00:00\", \"2019-03-13T00:00:00\", \"2019-03-14T00:00:00\", \"2019-03-15T00:00:00\", \"2019-03-18T00:00:00\", \"2019-03-19T00:00:00\", \"2019-03-20T00:00:00\", \"2019-03-21T00:00:00\", \"2019-03-22T00:00:00\", \"2019-03-25T00:00:00\", \"2019-03-26T00:00:00\", \"2019-03-27T00:00:00\", \"2019-03-28T00:00:00\", \"2019-03-29T00:00:00\", \"2019-04-01T00:00:00\", \"2019-04-02T00:00:00\", \"2019-04-03T00:00:00\", \"2019-04-04T00:00:00\", \"2019-04-05T00:00:00\", \"2019-04-08T00:00:00\", \"2019-04-09T00:00:00\", \"2019-04-10T00:00:00\", \"2019-04-11T00:00:00\", \"2019-04-12T00:00:00\", \"2019-04-15T00:00:00\", \"2019-04-16T00:00:00\", \"2019-04-17T00:00:00\", \"2019-04-18T00:00:00\", \"2019-04-22T00:00:00\", \"2019-04-23T00:00:00\", \"2019-04-24T00:00:00\", \"2019-04-25T00:00:00\", \"2019-04-26T00:00:00\", \"2019-04-29T00:00:00\", \"2019-04-30T00:00:00\", \"2019-05-02T00:00:00\", \"2019-05-03T00:00:00\", \"2019-05-06T00:00:00\", \"2019-05-07T00:00:00\", \"2019-05-08T00:00:00\", \"2019-05-09T00:00:00\", \"2019-05-10T00:00:00\", \"2019-05-13T00:00:00\", \"2019-05-14T00:00:00\", \"2019-05-15T00:00:00\", \"2019-05-16T00:00:00\", \"2019-05-17T00:00:00\", \"2019-05-20T00:00:00\", \"2019-05-21T00:00:00\", \"2019-05-22T00:00:00\", \"2019-05-23T00:00:00\", \"2019-05-24T00:00:00\", \"2019-05-27T00:00:00\", \"2019-05-28T00:00:00\", \"2019-05-29T00:00:00\", \"2019-05-30T00:00:00\", \"2019-05-31T00:00:00\", \"2019-06-03T00:00:00\", \"2019-06-04T00:00:00\", \"2019-06-05T00:00:00\", \"2019-06-06T00:00:00\", \"2019-06-07T00:00:00\", \"2019-06-10T00:00:00\", \"2019-06-11T00:00:00\", \"2019-06-12T00:00:00\", \"2019-06-13T00:00:00\", \"2019-06-14T00:00:00\", \"2019-06-17T00:00:00\", \"2019-06-18T00:00:00\", \"2019-06-19T00:00:00\", \"2019-06-21T00:00:00\", \"2019-06-24T00:00:00\", \"2019-06-25T00:00:00\", \"2019-06-26T00:00:00\", \"2019-06-27T00:00:00\", \"2019-06-28T00:00:00\", \"2019-07-01T00:00:00\", \"2019-07-02T00:00:00\", \"2019-07-03T00:00:00\", \"2019-07-04T00:00:00\", \"2019-07-05T00:00:00\", \"2019-07-08T00:00:00\", \"2019-07-10T00:00:00\", \"2019-07-11T00:00:00\", \"2019-07-12T00:00:00\", \"2019-07-15T00:00:00\", \"2019-07-16T00:00:00\", \"2019-07-17T00:00:00\", \"2019-07-18T00:00:00\", \"2019-07-19T00:00:00\", \"2019-07-22T00:00:00\", \"2019-07-23T00:00:00\", \"2019-07-24T00:00:00\", \"2019-07-25T00:00:00\", \"2019-07-26T00:00:00\", \"2019-07-29T00:00:00\", \"2019-07-30T00:00:00\", \"2019-07-31T00:00:00\", \"2019-08-01T00:00:00\", \"2019-08-02T00:00:00\", \"2019-08-05T00:00:00\", \"2019-08-06T00:00:00\", \"2019-08-07T00:00:00\", \"2019-08-08T00:00:00\", \"2019-08-09T00:00:00\", \"2019-08-12T00:00:00\", \"2019-08-13T00:00:00\", \"2019-08-14T00:00:00\", \"2019-08-15T00:00:00\", \"2019-08-16T00:00:00\", \"2019-08-19T00:00:00\", \"2019-08-20T00:00:00\", \"2019-08-21T00:00:00\", \"2019-08-22T00:00:00\", \"2019-08-23T00:00:00\", \"2019-08-26T00:00:00\", \"2019-08-27T00:00:00\", \"2019-08-28T00:00:00\", \"2019-08-29T00:00:00\", \"2019-08-30T00:00:00\", \"2019-09-02T00:00:00\", \"2019-09-03T00:00:00\", \"2019-09-04T00:00:00\", \"2019-09-05T00:00:00\", \"2019-09-06T00:00:00\", \"2019-09-09T00:00:00\", \"2019-09-10T00:00:00\", \"2019-09-11T00:00:00\", \"2019-09-12T00:00:00\", \"2019-09-13T00:00:00\", \"2019-09-16T00:00:00\", \"2019-09-17T00:00:00\", \"2019-09-18T00:00:00\", \"2019-09-19T00:00:00\", \"2019-09-20T00:00:00\", \"2019-09-23T00:00:00\", \"2019-09-24T00:00:00\", \"2019-09-25T00:00:00\", \"2019-09-26T00:00:00\", \"2019-09-27T00:00:00\", \"2019-09-30T00:00:00\", \"2019-10-01T00:00:00\", \"2019-10-02T00:00:00\", \"2019-10-03T00:00:00\", \"2019-10-04T00:00:00\", \"2019-10-07T00:00:00\", \"2019-10-08T00:00:00\", \"2019-10-09T00:00:00\", \"2019-10-10T00:00:00\", \"2019-10-11T00:00:00\", \"2019-10-14T00:00:00\", \"2019-10-15T00:00:00\", \"2019-10-16T00:00:00\", \"2019-10-17T00:00:00\", \"2019-10-18T00:00:00\", \"2019-10-21T00:00:00\", \"2019-10-22T00:00:00\", \"2019-10-23T00:00:00\", \"2019-10-24T00:00:00\", \"2019-10-25T00:00:00\", \"2019-10-28T00:00:00\", \"2019-10-29T00:00:00\", \"2019-10-30T00:00:00\", \"2019-10-31T00:00:00\", \"2019-11-01T00:00:00\", \"2019-11-04T00:00:00\", \"2019-11-05T00:00:00\", \"2019-11-06T00:00:00\", \"2019-11-07T00:00:00\", \"2019-11-08T00:00:00\", \"2019-11-11T00:00:00\", \"2019-11-12T00:00:00\", \"2019-11-13T00:00:00\", \"2019-11-14T00:00:00\", \"2019-11-18T00:00:00\", \"2019-11-19T00:00:00\", \"2019-11-21T00:00:00\", \"2019-11-22T00:00:00\", \"2019-11-25T00:00:00\", \"2019-11-26T00:00:00\", \"2019-11-27T00:00:00\", \"2019-11-28T00:00:00\", \"2019-11-29T00:00:00\", \"2019-12-02T00:00:00\", \"2019-12-03T00:00:00\", \"2019-12-04T00:00:00\", \"2019-12-05T00:00:00\", \"2019-12-06T00:00:00\", \"2019-12-09T00:00:00\", \"2019-12-10T00:00:00\", \"2019-12-11T00:00:00\", \"2019-12-12T00:00:00\", \"2019-12-13T00:00:00\", \"2019-12-16T00:00:00\", \"2019-12-17T00:00:00\", \"2019-12-18T00:00:00\", \"2019-12-19T00:00:00\", \"2019-12-20T00:00:00\", \"2019-12-23T00:00:00\", \"2019-12-26T00:00:00\", \"2019-12-27T00:00:00\", \"2019-12-30T00:00:00\", \"2020-01-02T00:00:00\", \"2020-01-03T00:00:00\", \"2020-01-06T00:00:00\", \"2020-01-07T00:00:00\", \"2020-01-08T00:00:00\", \"2020-01-09T00:00:00\", \"2020-01-10T00:00:00\", \"2020-01-13T00:00:00\", \"2020-01-14T00:00:00\", \"2020-01-15T00:00:00\", \"2020-01-16T00:00:00\", \"2020-01-17T00:00:00\", \"2020-01-20T00:00:00\", \"2020-01-21T00:00:00\", \"2020-01-22T00:00:00\", \"2020-01-23T00:00:00\", \"2020-01-24T00:00:00\", \"2020-01-27T00:00:00\", \"2020-01-28T00:00:00\", \"2020-01-29T00:00:00\", \"2020-01-30T00:00:00\", \"2020-01-31T00:00:00\", \"2020-02-03T00:00:00\", \"2020-02-04T00:00:00\", \"2020-02-05T00:00:00\", \"2020-02-06T00:00:00\", \"2020-02-07T00:00:00\", \"2020-02-10T00:00:00\", \"2020-02-11T00:00:00\", \"2020-02-12T00:00:00\", \"2020-02-13T00:00:00\", \"2020-02-14T00:00:00\", \"2020-02-17T00:00:00\", \"2020-02-18T00:00:00\", \"2020-02-19T00:00:00\", \"2020-02-20T00:00:00\", \"2020-02-21T00:00:00\", \"2020-02-27T00:00:00\", \"2020-02-28T00:00:00\", \"2020-03-02T00:00:00\", \"2020-03-03T00:00:00\", \"2020-03-04T00:00:00\", \"2020-03-05T00:00:00\", \"2020-03-06T00:00:00\", \"2020-03-09T00:00:00\", \"2020-03-10T00:00:00\", \"2020-03-11T00:00:00\", \"2020-03-12T00:00:00\", \"2020-03-13T00:00:00\", \"2020-03-16T00:00:00\", \"2020-03-17T00:00:00\", \"2020-03-18T00:00:00\", \"2020-03-19T00:00:00\", \"2020-03-20T00:00:00\", \"2020-03-23T00:00:00\", \"2020-03-24T00:00:00\", \"2020-03-25T00:00:00\", \"2020-03-26T00:00:00\", \"2020-03-27T00:00:00\", \"2020-03-30T00:00:00\", \"2020-03-31T00:00:00\", \"2020-04-01T00:00:00\", \"2020-04-02T00:00:00\", \"2020-04-03T00:00:00\", \"2020-04-06T00:00:00\", \"2020-04-07T00:00:00\", \"2020-04-08T00:00:00\", \"2020-04-09T00:00:00\", \"2020-04-13T00:00:00\", \"2020-04-14T00:00:00\", \"2020-04-15T00:00:00\", \"2020-04-16T00:00:00\", \"2020-04-17T00:00:00\", \"2020-04-20T00:00:00\", \"2020-04-22T00:00:00\", \"2020-04-23T00:00:00\", \"2020-04-24T00:00:00\", \"2020-04-27T00:00:00\", \"2020-04-28T00:00:00\", \"2020-04-29T00:00:00\", \"2020-04-30T00:00:00\", \"2020-05-04T00:00:00\", \"2020-05-05T00:00:00\", \"2020-05-06T00:00:00\", \"2020-05-07T00:00:00\", \"2020-05-08T00:00:00\", \"2020-05-11T00:00:00\", \"2020-05-12T00:00:00\", \"2020-05-13T00:00:00\", \"2020-05-14T00:00:00\", \"2020-05-15T00:00:00\", \"2020-05-18T00:00:00\", \"2020-05-19T00:00:00\", \"2020-05-20T00:00:00\", \"2020-05-21T00:00:00\", \"2020-05-22T00:00:00\", \"2020-05-25T00:00:00\", \"2020-05-26T00:00:00\", \"2020-05-27T00:00:00\", \"2020-05-28T00:00:00\", \"2020-05-29T00:00:00\", \"2020-06-01T00:00:00\", \"2020-06-02T00:00:00\", \"2020-06-03T00:00:00\", \"2020-06-04T00:00:00\", \"2020-06-05T00:00:00\", \"2020-06-08T00:00:00\", \"2020-06-09T00:00:00\", \"2020-06-10T00:00:00\", \"2020-06-12T00:00:00\", \"2020-06-15T00:00:00\", \"2020-06-16T00:00:00\", \"2020-06-17T00:00:00\", \"2020-06-18T00:00:00\", \"2020-06-19T00:00:00\", \"2020-06-22T00:00:00\", \"2020-06-23T00:00:00\", \"2020-06-24T00:00:00\", \"2020-06-25T00:00:00\", \"2020-06-26T00:00:00\", \"2020-06-29T00:00:00\", \"2020-06-30T00:00:00\", \"2020-07-01T00:00:00\", \"2020-07-02T00:00:00\", \"2020-07-03T00:00:00\", \"2020-07-06T00:00:00\", \"2020-07-07T00:00:00\", \"2020-07-08T00:00:00\", \"2020-07-09T00:00:00\", \"2020-07-10T00:00:00\", \"2020-07-13T00:00:00\", \"2020-07-14T00:00:00\", \"2020-07-15T00:00:00\", \"2020-07-16T00:00:00\", \"2020-07-17T00:00:00\", \"2020-07-20T00:00:00\", \"2020-07-21T00:00:00\", \"2020-07-22T00:00:00\", \"2020-07-23T00:00:00\", \"2020-07-24T00:00:00\", \"2020-07-27T00:00:00\", \"2020-07-28T00:00:00\", \"2020-07-29T00:00:00\", \"2020-07-30T00:00:00\", \"2020-07-31T00:00:00\", \"2020-08-03T00:00:00\", \"2020-08-04T00:00:00\", \"2020-08-05T00:00:00\", \"2020-08-06T00:00:00\", \"2020-08-07T00:00:00\", \"2020-08-10T00:00:00\", \"2020-08-11T00:00:00\", \"2020-08-12T00:00:00\", \"2020-08-13T00:00:00\", \"2020-08-14T00:00:00\", \"2020-08-17T00:00:00\", \"2020-08-18T00:00:00\", \"2020-08-19T00:00:00\", \"2020-08-20T00:00:00\", \"2020-08-21T00:00:00\", \"2020-08-24T00:00:00\", \"2020-08-25T00:00:00\", \"2020-08-26T00:00:00\", \"2020-08-27T00:00:00\", \"2020-08-28T00:00:00\", \"2020-08-31T00:00:00\", \"2020-09-01T00:00:00\", \"2020-09-02T00:00:00\", \"2020-09-03T00:00:00\", \"2020-09-04T00:00:00\", \"2020-09-08T00:00:00\", \"2020-09-09T00:00:00\", \"2020-09-10T00:00:00\", \"2020-09-11T00:00:00\", \"2020-09-14T00:00:00\", \"2020-09-15T00:00:00\", \"2020-09-16T00:00:00\", \"2020-09-17T00:00:00\", \"2020-09-18T00:00:00\", \"2020-09-21T00:00:00\", \"2020-09-22T00:00:00\", \"2020-09-23T00:00:00\", \"2020-09-24T00:00:00\", \"2020-09-25T00:00:00\", \"2020-09-28T00:00:00\", \"2020-09-29T00:00:00\", \"2020-09-30T00:00:00\", \"2020-10-01T00:00:00\", \"2020-10-02T00:00:00\", \"2020-10-05T00:00:00\", \"2020-10-06T00:00:00\", \"2020-10-07T00:00:00\", \"2020-10-08T00:00:00\", \"2020-10-09T00:00:00\", \"2020-10-13T00:00:00\", \"2020-10-14T00:00:00\", \"2020-10-15T00:00:00\", \"2020-10-16T00:00:00\", \"2020-10-19T00:00:00\", \"2020-10-20T00:00:00\", \"2020-10-21T00:00:00\", \"2020-10-22T00:00:00\", \"2020-10-23T00:00:00\", \"2020-10-26T00:00:00\", \"2020-10-27T00:00:00\", \"2020-10-28T00:00:00\", \"2020-10-29T00:00:00\", \"2020-10-30T00:00:00\", \"2020-11-03T00:00:00\", \"2020-11-04T00:00:00\", \"2020-11-05T00:00:00\", \"2020-11-06T00:00:00\", \"2020-11-09T00:00:00\", \"2020-11-10T00:00:00\", \"2020-11-11T00:00:00\", \"2020-11-12T00:00:00\", \"2020-11-13T00:00:00\", \"2020-11-16T00:00:00\", \"2020-11-17T00:00:00\", \"2020-11-18T00:00:00\", \"2020-11-19T00:00:00\", \"2020-11-23T00:00:00\", \"2020-11-24T00:00:00\", \"2020-11-25T00:00:00\", \"2020-11-26T00:00:00\", \"2020-11-27T00:00:00\", \"2020-11-30T00:00:00\", \"2020-12-01T00:00:00\", \"2020-12-02T00:00:00\", \"2020-12-03T00:00:00\", \"2020-12-04T00:00:00\", \"2020-12-07T00:00:00\", \"2020-12-08T00:00:00\", \"2020-12-09T00:00:00\", \"2020-12-10T00:00:00\", \"2020-12-11T00:00:00\", \"2020-12-14T00:00:00\", \"2020-12-15T00:00:00\", \"2020-12-16T00:00:00\", \"2020-12-17T00:00:00\", \"2020-12-18T00:00:00\", \"2020-12-21T00:00:00\", \"2020-12-22T00:00:00\", \"2020-12-23T00:00:00\", \"2020-12-28T00:00:00\", \"2020-12-29T00:00:00\", \"2020-12-30T00:00:00\"], \"y\": [21.140331268310547, 20.46461296081543, 20.522531509399414, 20.31981658935547, 19.653751373291016, 19.692363739013672, 19.209707260131836, 19.325544357299805, 19.113176345825195, 19.190401077270508, 19.325544357299805, 19.07456398010254, 19.248319625854492, 19.885425567626953, 21.314088821411133, 22.01876449584961, 22.163562774658203, 21.333393096923828, 21.4299259185791, 22.009111404418945, 21.825702667236328, 22.23113441467285, 21.980152130126953, 22.20217514038086, 21.796743392944336, 21.0727596282959, 21.178943634033203, 20.27155113220215, 19.180747985839844, 18.862194061279297, 19.238666534423828, 19.885425567626953, 20.281204223632812, 19.866119384765625, 19.49930191040039, 19.306238174438477, 19.113176345825195, 19.306238174438477, 19.306238174438477, 19.180747985839844, 19.257972717285156, 20.46461296081543, 19.64409828186035, 19.64409828186035, 19.64409828186035, 18.881502151489258, 18.823583602905273, 20.25224494934082, 19.721323013305664, 18.456764221191406, 18.4857234954834, 18.051332473754883, 17.8582706451416, 17.8582706451416, 18.784969329833984, 18.147863388061523, 17.414226531982422, 16.313772201538086, 15.821462631225586, 17.5011043548584, 19.49930191040039, 20.56114387512207, 21.130678176879883, 21.835355758666992, 20.36808204650879, 21.333393096923828, 21.478191375732422, 22.10564422607422, 24.335514068603516, 23.49569320678711, 25.44562339782715, 25.09811019897461, 25.320131301879883, 25.59041976928711, 27.02873420715332, 25.870359420776367, 26.4881591796875, 26.88393783569336, 27.607921600341797, 27.067346572875977, 26.237178802490234, 26.01515769958496, 27.4727783203125, 25.889665603637695, 23.939735412597656, 25.069150924682617, 25.04984474182129, 26.22752571105957, 26.353015899658203, 26.826019287109375, 26.53642463684082, 26.690874099731445, 24.95331382751465, 26.34336280822754, 26.449546813964844, 25.629032135009766, 26.073076248168945, 24.760250091552734, 24.808517456054688, 23.80459213256836, 24.27759552001953, 23.939735412597656, 24.13279914855957, 23.070955276489258, 22.974424362182617, 22.260093688964844, 21.87396812438965, 22.588300704956055, 22.25044059753418, 22.067031860351562, 22.59795379638672, 23.360549926757812, 23.360549926757812, 22.25044059753418, 21.931886672973633, 21.555416107177734, 20.870044708251953, 20.175020217895508, 21.014841079711914, 20.329469680786133, 19.730976104736328, 19.692363739013672, 18.997339248657227, 19.209707260131836, 18.968379974365234, 20.078487396240234, 20.60940933227539, 21.449230194091797, 20.5804500579834, 19.49930191040039, 19.508953094482422, 19.422075271606445, 19.64409828186035, 19.26762580871582, 18.920114517211914, 18.41815185546875, 18.11890411376953, 17.153593063354492, 18.003068923950195, 17.414226531982422, 16.999143600463867, 17.954801559448242, 17.230817794799805, 17.462493896484375, 16.71920394897461, 16.43926239013672, 16.709550857543945, 16.294466018676758, 16.217241287231445, 17.143939971923828, 16.506834030151367, 15.56082820892334, 14.865803718566895, 14.740312576293945, 14.865803718566895, 14.17077922821045, 13.504714012145996, 13.929450988769531, 13.41783618927002, 14.914069175720215, 15.271235466003418, 14.769272804260254, 15.444991111755371, 16.246200561523438, 15.058865547180176, 14.276963233947754, 14.730660438537598, 14.914069175720215, 15.444991111755371, 14.44106674194336, 14.21904468536377, 14.344534873962402, 14.045289039611816, 15.502909660339355, 15.889034271240234, 16.622671127319336, 17.279083251953125, 17.07636833190918, 16.27515983581543, 14.759618759155273, 14.692048072814941, 15.058865547180176, 15.06851863861084, 14.421759605407715, 13.94875717163086, 14.344534873962402, 13.77500057220459, 14.354187965393066, 14.914069175720215, 16.738508224487305, 18.1092529296875, 16.999143600463867, 16.410303115844727, 17.211511611938477, 15.92764663696289, 16.661283493041992, 17.105327606201172, 16.81573486328125, 16.448915481567383, 16.603364944458008, 16.342731475830078, 16.120708465576172, 16.101402282714844, 15.531868934631348, 15.599440574645996, 14.518291473388672, 14.074248313903809, 14.962334632873535, 14.85615062713623, 14.962334632873535, 14.962334632873535, 14.470026016235352, 13.900491714477539, 13.861879348754883, 13.755695343017578, 14.479679107666016, 13.900491714477539, 14.025981903076172, 14.17077922821045, 13.99702262878418, 14.09355354309082, 13.99702262878418, 14.421759605407715, 14.576210021972656, 14.209391593933105, 14.248003959655762, 14.190085411071777, 15.000946998596191, 15.744237899780273, 15.541522026062012, 14.460372924804688, 14.141819953918457, 14.21904468536377, 13.977717399597168, 13.852226257324219, 14.045289039611816, 13.6108980178833, 13.890838623046875, 13.861879348754883, 13.379222869873047, 13.794307708740234, 13.6108980178833, 14.09355354309082, 14.412107467651367, 14.692048072814941, 14.701701164245605, 13.987369537353516, 14.190085411071777, 14.26731014251709, 13.813613891601562, 14.180432319641113, 13.572285652160645, 13.94875717163086, 13.900491714477539, 13.591591835021973, 13.340611457824707, 13.012405395507812, 13.273038864135742, 12.44287109375, 12.674546241760254, 12.587668418884277, 12.549055099487305, 13.51436710357666, 13.408183097839355, 12.800036430358887, 12.983445167541504, 12.16292953491211, 12.056745529174805, 12.53940200805664, 12.278767585754395, 11.834724426269531, 11.892642974853516, 10.956290245056152, 10.560511589050293, 10.782533645629883, 10.280571937561035, 11.438945770263672, 10.879064559936523, 10.908024787902832, 11.0238618850708, 10.956290245056152, 11.313455581665039, 11.197617530822754, 11.14935302734375, 11.294150352478027, 11.496865272521973, 11.718887329101562, 12.076051712036133, 11.873336791992188, 12.133971214294434, 12.16292953491211, 13.398530006408691, 13.56263256072998, 13.630204200744629, 13.137894630432129, 14.354187965393066, 13.99702262878418, 14.981640815734863, 15.638052940368652, 15.473950386047363, 14.9719877243042, 15.097478866577148, 14.460372924804688, 14.692048072814941, 14.479679107666016, 13.707428932189941, 13.301998138427734, 11.699581146240234, 12.191889762878418, 12.211195945739746, 12.413910865783691, 12.327033042907715, 11.844376564025879, 12.259461402893066, 13.273038864135742, 12.597320556640625, 13.089630126953125, 13.079977035522461, 13.128241539001465, 13.369569778442383, 13.340611457824707, 13.137894630432129, 13.45644760131836, 13.755695343017578, 13.688122749328613, 13.224773406982422, 13.408183097839355, 13.369569778442383, 13.321305274963379, 13.147547721862793, 11.99882698059082, 10.618431091308594, 10.570165634155273, 10.44467544555664, 10.145427703857422, 9.131851196289062, 9.990978240966797, 9.981325149536133, 10.019938468933105, 10.251612663269043, 10.743922233581543, 10.60877799987793, 10.087510108947754, 10.135774612426758, 10.48328685760498, 10.570165634155273, 9.556588172912598, 9.170462608337402, 9.112544059753418, 8.967747688293457, 8.687807083129883, 8.620235443115234, 9.170462608337402, 9.305606842041016, 9.035320281982422, 8.851909637451172, 8.784337997436523, 8.88086986541748, 8.977400779724121, 8.987053871154785, 9.37317943572998, 9.450404167175293, 9.469710350036621, 9.421443939208984, 9.238035202026367, 8.793992042541504, 8.900176048278809, 8.977400779724121, 9.073931694030762, 8.938788414001465, 9.073931694030762, 10.213000297546387, 10.956290245056152, 10.695655822753906, 11.178312301635742, 11.786458969116211, 11.728540420532227, 12.240155220031738, 12.549055099487305, 13.031710624694824, 12.935179710388184, 13.41783618927002, 13.6108980178833, 13.176507949829102, 12.935179710388184, 12.452524185180664, 12.066398620605469, 12.201542854309082, 12.423564910888672, 12.549055099487305, 13.031710624694824, 12.742116928100586, 12.983445167541504, 13.128241539001465, 13.301998138427734, 12.645586013793945, 13.031710624694824, 13.031710624694824, 13.301998138427734, 13.504714012145996, 14.672740936279297, 15.261582374572754, 15.425684928894043, 15.493256568908691, 15.83111572265625, 15.599440574645996, 15.522215843200684, 15.580135345458984, 15.715277671813965, 15.744237899780273, 16.37169075012207, 15.956605911254883, 15.78285026550293, 15.73458480834961, 15.92764663696289, 16.284812927246094, 16.18828010559082, 16.342731475830078, 15.744237899780273, 15.92764663696289, 15.56082820892334, 15.493256568908691, 15.367766380310059, 15.946952819824219, 15.946952819824219, 15.83111572265625, 15.92764663696289, 15.87938117980957, 15.444991111755371, 15.435338020324707, 15.444991111755371, 15.541522026062012, 15.107131958007812, 15.396724700927734, 15.908341407775879, 15.87938117980957, 16.410303115844727, 16.429609298706055, 16.458568572998047, 15.811809539794922, 15.406377792358398, 14.991293907165527, 15.058865547180176, 15.638052940368652, 16.2558536529541, 16.429609298706055, 16.651630401611328, 16.8833065032959, 16.69989776611328, 16.140016555786133, 16.15932273864746, 15.638052940368652, 15.12643814086914, 15.136091232299805, 14.325228691101074, 13.379222869873047, 13.659164428710938, 14.238350868225098, 14.286617279052734, 13.99702262878418, 12.896567344665527, 10.908024787902832, 10.811493873596191, 10.70530891418457, 10.753575325012207, 10.714962005615234, 10.618431091308594, 10.38675594329834, 10.164734840393066, 10.280571937561035, 9.90410041809082, 9.566241264343262, 10.328838348388672, 10.936984062194824, 10.473633766174316, 9.971672058105469, 9.460057258605957, 9.701384544372559, 10.454327583312988, 10.097163200378418, 10.048896789550781, 9.653119087219238, 9.990978240966797, 10.019938468933105, 10.000631332397461, 10.898371696472168, 10.232305526733398, 10.048896789550781, 10.039243698120117, 9.653119087219238, 9.720690727233887, 9.962018966674805, 9.797916412353516, 9.788263320922852, 9.846181869506836, 9.846181869506836, 10.097163200378418, 10.328838348388672, 10.637737274169922, 10.309531211853027, 10.396409034729004, 10.280571937561035, 10.425369262695312, 11.448598861694336, 11.58374309539795, 11.496865272521973, 11.36172103881836, 11.36172103881836, 11.400334358215332, 11.438945770263672, 11.535477638244629, 11.844376564025879, 12.249808311462402, 11.99882698059082, 11.670620918273926, 11.58374309539795, 11.854029655456543, 11.767151832580566, 11.825071334838867, 12.037440299987793, 12.066398620605469, 13.224773406982422, 12.462177276611328, 12.70350456237793, 12.597320556640625, 12.549055099487305, 12.645586013793945, 12.462177276611328, 12.355993270874023, 12.355993270874023, 12.693852424621582, 12.355993270874023, 12.018133163452148, 11.873336791992188, 12.288420677185059, 12.394604682922363, 12.404257774353027, 12.355993270874023, 12.578014373779297, 12.355993270874023, 11.728540420532227, 11.043168067932129, 11.622356414794922, 11.709234237670898, 11.487212181091309, 11.68027400970459, 11.477559089660645, 11.574090003967285, 11.5161714553833, 11.603049278259277, 11.854029655456543, 11.747845649719238, 11.653397560119629, 11.623745918273926, 11.762124061584473, 11.811545372009277, 12.206910133361816, 12.355172157287598, 12.404593467712402, 12.285983085632324, 12.088299751281738, 12.0487642288208, 11.920269966125488, 11.66328239440918, 11.742356300354004, 11.870848655700684, 12.147604942321777, 12.799958229064941, 13.165671348571777, 13.333702087402344, 13.610458374023438, 13.758720397949219, 13.64011001586914, 13.145902633666992, 13.2249755859375, 14.025591850280762, 14.243042945861816, 13.837793350219727, 14.243042945861816, 14.065128326416016, 14.31223201751709, 15.02388858795166, 14.826207160949707, 13.195323944091797, 12.760421752929688, 13.244745254516602, 12.987756729125977, 11.534789085388184, 12.147604942321777, 12.404593467712402, 12.839494705200195, 12.750537872314453, 12.938336372375488, 13.145902633666992, 13.145902633666992, 12.799958229064941, 12.48366641998291, 12.45401382446289, 12.414477348327637, 12.552854537963867, 12.562739372253418, 12.691232681274414, 12.701116561889648, 12.602275848388672, 12.928451538085938, 13.165671348571777, 12.84937858581543, 12.84937858581543, 12.542970657348633, 12.414477348327637, 12.038880348205566, 11.643513679504395, 11.366758346557617, 11.46560001373291, 11.712702751159668, 11.544672966003418, 11.19872760772705, 11.248148918151855, 11.564440727233887, 11.594094276428223, 11.584209442138672, 11.416178703308105, 11.366758346557617, 11.159191131591797, 11.495251655578613, 11.594094276428223, 12.10806941986084, 12.187142372131348, 12.602275848388672, 12.365056037902832, 12.355172157287598, 12.147604942321777, 12.404593467712402, 12.414477348327637, 12.780190467834473, 12.760421752929688, 12.958105087280273, 13.145902633666992, 13.343585968017578, 13.145902633666992, 13.215091705322266, 13.541269302368164, 13.442426681518555, 13.442426681518555, 13.244745254516602, 13.2249755859375, 12.948220252990723, 12.65169620513916, 13.906982421875, 14.727364540100098, 14.984353065490723, 15.073309898376465, 16.407669067382812, 18.265886306762695, 17.860637664794922, 18.186813354492188, 18.681020736694336, 18.849050521850586, 18.414148330688477, 18.532758712768555, 18.512990951538086, 18.384496688842773, 18.27577018737793, 18.226350784301758, 18.63159942626953, 18.6711368560791, 18.83916664123535, 18.83916664123535, 18.779861450195312, 18.63159942626953, 18.364728927612305, 18.25600242614746, 19.66943359375, 21.072982788085938, 20.7072696685791, 20.489818572998047, 20.193294525146484, 20.262483596801758, 20.489818572998047, 19.738622665405273, 19.27406883239746, 19.837465286254883, 19.886884689331055, 20.89506721496582, 22.53583335876465, 24.413820266723633, 25.372581481933594, 24.018455505371094, 24.166717529296875, 23.712047576904297, 24.680692672729492, 23.623090744018555, 23.623090744018555, 21.003793716430664, 20.14387321472168, 19.017080307006836, 20.677616119384766, 21.16193962097168, 22.24919319152832, 21.675914764404297, 22.219541549682617, 22.97073745727539, 22.268962860107422, 21.616609573364258, 20.76657485961914, 20.984024047851562, 21.992206573486328, 21.992206573486328, 20.51947021484375, 19.629898071289062, 17.751911163330078, 18.601947784423828, 18.117624282836914, 17.534460067749023, 17.860637664794922, 18.493221282958984, 18.493221282958984, 19.076385498046875, 18.908355712890625, 18.908355712890625, 18.37461280822754, 17.77168083190918, 17.39608383178711, 17.218168258666992, 17.465272903442383, 18.078088760375977, 17.39608383178711, 16.990833282470703, 16.69430923461914, 16.11114501953125, 15.775083541870117, 16.536163330078125, 16.11114501953125, 16.80303382873535, 16.783266067504883, 16.6053524017334, 16.80303382873535, 16.704193115234375, 16.92164421081543, 18.236234664916992, 17.890289306640625, 17.79144859313965, 18.246118545532227, 18.661251068115234, 18.661251068115234, 19.214763641357422, 20.232830047607422, 20.262483596801758, 20.262483596801758, 19.76827621459961, 19.610130310058594, 20.14387321472168, 19.76827621459961, 19.610130310058594, 19.620014190673828, 18.967660903930664, 18.6513671875, 18.344959259033203, 18.789745330810547, 18.740325927734375, 18.779861450195312, 18.512990951538086, 18.720556259155273, 19.323490142822266, 19.02696418762207, 20.14387321472168, 20.14387321472168, 20.51947021484375, 20.064800262451172, 19.965959548950195, 21.003793716430664, 22.130584716796875, 21.59684181213379, 20.99390983581543, 21.201475143432617, 21.675914764404297, 21.695682525634766, 20.173524856567383, 21.418926239013672, 21.992206573486328, 22.93120002746582, 23.57366943359375, 23.474828720092773, 23.603321075439453, 23.810888290405273, 23.51436424255371, 23.830656051635742, 23.51436424255371, 23.24749183654785, 23.623090744018555, 23.84054183959961, 24.38416862487793, 24.690576553344727, 22.338151931762695, 23.178302764892578, 23.771352767944336, 23.563785552978516, 23.72193145751953, 25.105709075927734, 25.896440505981445, 26.548795700073242, 27.408714294433594, 27.675586700439453, 27.43836784362793, 26.677288055419922, 25.767948150634766, 24.32486343383789, 24.314979553222656, 25.34292984008789, 24.641155242919922, 25.204551696777344, 24.463241577148438, 25.056289672851562, 24.305095672607422, 24.581850051879883, 24.305095672607422, 24.226022720336914, 25.847021102905273, 25.787715911865234, 26.291807174682617, 27.181379318237305, 27.823848724365234, 29.39542579650879, 31.03619384765625, 31.619356155395508, 30.443145751953125, 30.1861572265625, 29.909400939941406, 29.533803939819336, 28.56515884399414, 27.448251724243164, 27.299989700317383, 28.5058536529541, 28.52562141418457, 27.92268943786621, 26.90462303161621, 27.823848724365234, 30.067548751831055, 29.454730987548828, 27.883153915405273, 28.248865127563477, 26.509258270263672, 26.30169105529785, 26.52902603149414, 27.43836784362793, 26.687171936035156, 26.024934768676758, 25.006868362426758, 23.32656478881836, 23.445175170898438, 25.056289672851562, 25.55049705505371, 27.58662986755371, 26.4400691986084, 24.601619720458984, 22.733516693115234, 24.057992935180664, 24.809186935424805, 24.463241577148438, 25.204551696777344, 26.4400691986084, 25.372581481933594, 24.49289321899414, 25.935977935791016, 27.468019485473633, 25.352813720703125, 25.73829460144043, 25.34292984008789, 25.313276290893555, 25.006868362426758, 25.698759078979492, 26.58833122253418, 26.52902603149414, 27.37906265258789, 28.663999557495117, 28.011646270751953, 28.00176239013672, 27.468019485473633, 26.410417556762695, 27.725006103515625, 28.387243270874023, 28.021530151367188, 28.713420867919922, 28.248865127563477, 29.33612060546875, 30.423376083374023, 29.35589027404785, 29.098901748657227, 29.257047653198242, 29.009944915771484, 28.248865127563477, 28.219213485717773, 27.823848724365234, 28.515737533569336, 29.504152297973633, 31.43155860900879, 32.07402801513672, 31.658893585205078, 30.443145751953125, 29.652414321899414, 26.98369789123535, 28.13025665283203, 29.75125503540039, 28.476200103759766, 28.061067581176758, 27.043001174926758, 27.932573318481445, 25.896440505981445, 27.388946533203125, 26.341228485107422, 25.88655662536621, 26.62786865234375, 25.79759979248047, 25.639453887939453, 25.253971099853516, 26.1138916015625, 25.619686126708984, 24.018455505371094, 24.562082290649414, 25.352813720703125, 25.787715911865234, 24.670808792114258, 24.38416862487793, 24.196369171142578, 23.72193145751953, 25.352813720703125, 26.58833122253418, 27.181379318237305, 27.655818939208984, 28.56515884399414, 27.280221939086914, 27.092422485351562, 27.527324676513672, 27.873268127441406, 27.37906265258789, 27.299989700317383, 29.257047653198242, 29.929170608520508, 29.158206939697266, 30.097200393676758, 32.459510803222656, 32.29147720336914, 30.76932144165039, 30.66059684753418, 30.324535369873047, 31.362369537353516, 33.32931137084961, 33.84328842163086, 33.45780563354492, 34.98984909057617, 34.79216766357422, 33.833404541015625, 34.248538970947266, 33.813636779785156, 31.905996322631836, 34.9008903503418, 34.100276947021484, 31.76761817932129, 32.36066818237305, 32.51881408691406, 31.115266799926758, 30.364072799682617, 30.957120895385742, 32.74614715576172, 32.716495513916016, 33.902591705322266, 34.39680099487305, 34.89100646972656, 34.52529525756836, 35.66196823120117, 36.867835998535156, 37.16436004638672, 37.40157699584961, 38.844661712646484, 38.28126525878906, 37.826595306396484, 38.83477783203125, 38.943504333496094, 39.43770980834961, 38.80512619018555, 37.539955139160156, 36.788761138916016, 37.0062141418457, 37.06551742553711, 36.719573974609375, 37.16436004638672, 36.14629364013672, 36.23524856567383, 37.707984924316406, 38.88419723510742, 39.06211471557617, 37.559722900390625, 39.447593688964844, 41.53314971923828, 42.501792907714844, 42.93669509887695, 41.51337814331055, 39.674930572509766, 41.51337814331055, 44.26116943359375, 45.96124267578125, 44.55769348144531, 45.07167053222656, 45.71413803100586, 47.35490417480469, 46.208343505859375, 45.46703338623047, 43.984413146972656, 43.480323791503906, 43.934993743896484, 45.0815544128418, 45.437381744384766, 47.24618148803711, 47.56247329711914, 49.42068862915039, 47.5229377746582, 47.39444351196289, 45.46703338623047, 43.934993743896484, 43.58905029296875, 44.4687385559082, 43.836151123046875, 45.86240005493164, 45.83274841308594, 46.94965744018555, 46.801395416259766, 46.92000198364258, 46.99907684326172, 44.47862243652344, 43.747196197509766, 45.93158721923828, 46.68278503417969, 46.58394241333008, 47.740386962890625, 47.7898063659668, 48.738685607910156, 47.46363067626953, 49.32184982299805, 49.8951301574707, 47.34502029418945, 45.74378967285156, 47.09791946411133, 46.406028747558594, 47.99737548828125, 49.32184982299805, 49.32184982299805, 46.208343505859375, 42.00758743286133, 40.712764739990234, 41.720947265625, 38.70628356933594, 40.979637145996094, 41.730831146240234, 41.51337814331055, 40.811607360839844, 40.376705169677734, 40.60403823852539, 40.72264862060547, 38.6963996887207, 37.559722900390625, 36.225364685058594, 38.152774810791016, 37.16436004638672, 36.50212097167969, 35.167762756347656, 35.85965347290039, 37.46088409423828, 36.67015075683594, 38.68651580810547, 37.21377944946289, 36.70969009399414, 36.82829666137695, 37.17424392700195, 37.806827545166016, 36.373626708984375, 37.6783332824707, 38.35045623779297, 36.65038299560547, 36.9666748046875, 35.73115921020508, 33.40838623046875, 31.925765991210938, 31.629241943359375, 31.95541763305664, 31.649009704589844, 32.01472473144531, 33.517112731933594, 34.19911575317383, 32.914180755615234, 31.135034561157227, 30.07743263244629, 30.097200393676758, 32.07402801513672, 31.856576919555664, 32.044376373291016, 31.03619384765625, 30.344303131103516, 30.146621704101562, 29.632646560668945, 30.472797393798828, 30.71001625061035, 31.540283203125, 32.914180755615234, 31.441442489624023, 31.915882110595703, 30.78908920288086, 31.065845489501953, 32.84498977661133, 33.754329681396484, 34.149696350097656, 33.50722885131836, 32.41997146606445, 32.41008758544922, 32.26182556152344, 32.34090042114258, 31.63912582397461, 31.471094131469727, 31.935649871826172, 33.8828239440918, 35.36544418334961, 36.04745101928711, 38.755706787109375, 39.06211471557617, 37.79694366455078, 36.69980239868164, 35.41486740112305, 36.44281768798828, 36.49223709106445, 35.56312942504883, 35.32590866088867, 34.61425018310547, 35.44451904296875, 35.07880783081055, 35.701507568359375, 36.521888732910156, 36.16606140136719, 37.50041961669922, 37.60914611816406, 37.905670166015625, 36.06721878051758, 36.68003463745117, 34.9404296875, 36.976558685302734, 43.53962707519531, 42.650054931640625, 43.816383361816406, 43.687889099121094, 41.57268524169922, 41.95816421508789, 41.76048278808594, 43.0454216003418, 43.49020767211914, 42.56109619140625, 41.880001068115234, 41.060001373291016, 41.33000183105469, 44.40999984741211, 45.7599983215332, 47.0, 46.79999923706055, 45.900001525878906, 47.06999969482422, 46.599998474121094, 46.099998474121094, 43.5, 41.400001525878906, 42.75, 43.119998931884766, 41.75, 42.779998779296875, 43.40999984741211, 44.900001525878906, 47.47999954223633, 47.52000045776367, 47.290000915527344, 49.349998474121094, 47.5, 47.779998779296875, 48.83000183105469, 48.349998474121094, 48.61000061035156, 48.11000061035156, 48.099998474121094, 49.0, 48.869998931884766, 47.66999816894531, 49.4900016784668, 49.099998474121094, 53.0, 54.0, 54.79999923706055, 56.130001068115234, 54.849998474121094, 54.5, 54.5, 54.68000030517578, 54.369998931884766, 54.779998779296875, 53.970001220703125, 53.150001525878906, 52.18000030517578, 52.93000030517578, 50.79999923706055, 51.130001068115234, 50.540000915527344, 52.54999923706055, 54.2599983215332, 53.099998474121094, 52.08000183105469, 53.099998474121094, 52.290000915527344, 51.9900016784668, 54.209999084472656, 53.68000030517578, 53.959999084472656, 54.959999084472656, 55.97999954223633, 55.119998931884766, 53.41999816894531, 55.900001525878906, 55.15999984741211, 56.34000015258789, 58.79999923706055, 59.75, 59.20000076293945, 59.5, 61.40999984741211, 60.72999954223633, 61.29999923706055, 61.400001525878906, 64.61000061035156, 66.19999694824219, 66.54000091552734, 64.27999877929688, 63.880001068115234, 63.810001373291016, 62.70000076293945, 62.599998474121094, 62.72999954223633, 62.400001525878906, 62.86000061035156, 65.18000030517578, 64.30000305175781, 63.900001525878906, 63.7400016784668, 64.58999633789062, 68.04000091552734, 66.77999877929688, 69.16999816894531, 68.3499984741211, 70.11000061035156, 70.36000061035156, 71.26000213623047, 75.68000030517578, 76.55999755859375, 75.8499984741211, 75.3499984741211, 74.25, 72.12999725341797, 75.05000305175781, 75.44000244140625, 74.0, 71.19999694824219, 71.41999816894531, 73.44999694824219, 73.5, 71.5, 67.95999908447266, 65.7699966430664, 70.5999984741211, 70.93000030517578, 73.33000183105469, 70.5999984741211, 71.6500015258789, 72.0, 73.19999694824219, 70.98999786376953, 72.76000213623047, 62.709999084472656, 62.150001525878906, 63.349998474121094, 66.51000213623047, 68.58000183105469, 62.349998474121094, 56.2599983215332, 49.25, 54.91999816894531, 51.790000915527344, 43.0, 54.779998779296875, 49.5, 53.70000076293945, 51.0, 48.66999816894531, 49.209999084472656, 45.34000015258789, 54.79999923706055, 60.0, 56.11000061035156, 51.279998779296875, 50.9900016784668, 48.0, 48.08000183105469, 49.7400016784668, 45.099998474121094, 53.84000015258789, 57.5, 61.38999938964844, 57.72999954223633, 58.29999923706055, 59.5, 62.79999923706055, 64.69000244140625, 61.79999923706055, 64.66000366210938, 75.75, 72.80000305175781, 68.68000030517578, 75.19000244140625, 77.20999908447266, 77.79000091552734, 73.25, 74.06999969482422, 74.86000061035156, 89.18000030517578, 90.19999694824219, 87.5, 86.94000244140625, 89.51000213623047, 91.41000366210938, 88.8499984741211, 86.06999969482422, 84.12000274658203, 92.16000366210938, 88.52999877929688, 86.5999984741211, 85.1500015258789, 87.37999725341797, 95.4000015258789, 94.0, 92.48999786376953, 91.62000274658203, 91.4000015258789, 89.19000244140625, 87.3499984741211, 86.02999877929688, 86.33000183105469, 93.0, 94.5, 99.69999694824219, 99.47000122070312, 101.9000015258789, 100.08000183105469, 106.19999694824219, 104.87999725341797, 104.0, 102.4000015258789, 103.30000305175781, 106.2699966430664, 105.25, 103.0999984741211, 106.1500015258789, 107.05000305175781, 112.0199966430664, 107.93000030517578, 108.86000061035156, 118.25, 117.0999984741211, 115.41000366210938, 120.18000030517578, 120.23999786376953, 117.0, 115.69000244140625, 113.60589599609375, 110.23728942871094, 115.09087371826172, 119.23686218261719, 118.82823944091797, 125.12694549560547, 119.59564971923828, 121.18029022216797, 120.5, 121.83000183105469, 123.41000366210938, 122.0, 119.31999969482422, 126.0, 122.98999786376953, 121.5, 123.01000213623047, 121.66999816894531, 121.77999877929688, 120.0, 120.26000213623047, 122.0, 113.5999984741211, 108.45999908447266, 114.4000015258789, 112.38999938964844, 112.80999755859375, 115.7699966430664, 115.13999938964844, 114.33000183105469, 111.0, 111.2300033569336, 115.55999755859375, 112.08999633789062, 113.51000213623047, 110.9000015258789, 102.5, 102.30000305175781, 99.36000061035156, 102.80000305175781, 100.18000030517578, 98.16000366210938, 100.47000122070312, 99.9000015258789, 98.5, 97.30999755859375, 94.19000244140625, 97.97000122070312, 94.25, 91.4000015258789, 95.1500015258789, 95.41000366210938, 91.2300033569336, 89.16999816894531, 89.9800033569336, 89.2300033569336, 87.33999633789062, 87.01000213623047, 89.12999725341797, 88.62999725341797, 87.19999694824219, 89.02999877929688, 95.0199966430664, 95.61000061035156, 94.54000091552734, 93.44999694824219, 90.16000366210938, 90.19999694824219, 89.1500015258789, 87.0999984741211, 86.55000305175781, 86.86000061035156, 85.6500015258789, 83.19999694824219, 82.6500015258789, 75.23999786376953, 75.9800033569336, 80.98999786376953, 84.02999877929688, 82.0199966430664, 79.69000244140625, 73.06999969482422, 74.7300033569336, 75.86000061035156, 75.3499984741211, 74.30000305175781, 76.31999969482422, 75.5999984741211, 74.62999725341797, 73.86000061035156, 74.0999984741211, 74.80000305175781, 75.75, 77.01000213623047, 70.4000015258789, 69.76000213623047, 68.5, 72.44000244140625, 76.19999694824219, 84.02999877929688, 83.75, 81.4000015258789, 81.5, 79.0199966430664, 78.11000061035156, 78.4800033569336, 81.48999786376953, 79.94999694824219, 79.58000183105469, 77.0999984741211, 75.97000122070312, 75.5999984741211, 77.04000091552734, 75.69999694824219, 75.61000061035156]}],\n",
              "                        {\"legend\": {\"tracegroupgap\": 0}, \"template\": {\"data\": {\"bar\": [{\"error_x\": {\"color\": \"#2a3f5f\"}, \"error_y\": {\"color\": \"#2a3f5f\"}, \"marker\": {\"line\": {\"color\": \"#E5ECF6\", \"width\": 0.5}}, \"type\": \"bar\"}], \"barpolar\": [{\"marker\": {\"line\": {\"color\": \"#E5ECF6\", \"width\": 0.5}}, \"type\": \"barpolar\"}], \"carpet\": [{\"aaxis\": {\"endlinecolor\": \"#2a3f5f\", \"gridcolor\": \"white\", \"linecolor\": \"white\", \"minorgridcolor\": \"white\", \"startlinecolor\": \"#2a3f5f\"}, \"baxis\": {\"endlinecolor\": \"#2a3f5f\", \"gridcolor\": \"white\", \"linecolor\": \"white\", \"minorgridcolor\": \"white\", \"startlinecolor\": \"#2a3f5f\"}, \"type\": \"carpet\"}], \"choropleth\": [{\"colorbar\": {\"outlinewidth\": 0, \"ticks\": \"\"}, \"type\": \"choropleth\"}], \"contour\": [{\"colorbar\": {\"outlinewidth\": 0, \"ticks\": \"\"}, \"colorscale\": [[0.0, \"#0d0887\"], [0.1111111111111111, \"#46039f\"], [0.2222222222222222, \"#7201a8\"], [0.3333333333333333, \"#9c179e\"], [0.4444444444444444, \"#bd3786\"], [0.5555555555555556, \"#d8576b\"], [0.6666666666666666, \"#ed7953\"], [0.7777777777777778, \"#fb9f3a\"], [0.8888888888888888, \"#fdca26\"], [1.0, \"#f0f921\"]], \"type\": \"contour\"}], \"contourcarpet\": [{\"colorbar\": {\"outlinewidth\": 0, \"ticks\": \"\"}, \"type\": \"contourcarpet\"}], \"heatmap\": [{\"colorbar\": {\"outlinewidth\": 0, \"ticks\": \"\"}, \"colorscale\": [[0.0, \"#0d0887\"], [0.1111111111111111, \"#46039f\"], [0.2222222222222222, \"#7201a8\"], [0.3333333333333333, \"#9c179e\"], [0.4444444444444444, \"#bd3786\"], [0.5555555555555556, \"#d8576b\"], [0.6666666666666666, \"#ed7953\"], [0.7777777777777778, \"#fb9f3a\"], [0.8888888888888888, \"#fdca26\"], [1.0, \"#f0f921\"]], \"type\": \"heatmap\"}], \"heatmapgl\": [{\"colorbar\": {\"outlinewidth\": 0, \"ticks\": \"\"}, \"colorscale\": [[0.0, \"#0d0887\"], [0.1111111111111111, \"#46039f\"], [0.2222222222222222, \"#7201a8\"], [0.3333333333333333, \"#9c179e\"], [0.4444444444444444, \"#bd3786\"], [0.5555555555555556, \"#d8576b\"], [0.6666666666666666, \"#ed7953\"], [0.7777777777777778, \"#fb9f3a\"], [0.8888888888888888, \"#fdca26\"], [1.0, \"#f0f921\"]], \"type\": \"heatmapgl\"}], \"histogram\": [{\"marker\": {\"colorbar\": {\"outlinewidth\": 0, \"ticks\": \"\"}}, \"type\": \"histogram\"}], \"histogram2d\": [{\"colorbar\": {\"outlinewidth\": 0, \"ticks\": \"\"}, \"colorscale\": [[0.0, \"#0d0887\"], [0.1111111111111111, \"#46039f\"], [0.2222222222222222, \"#7201a8\"], [0.3333333333333333, \"#9c179e\"], [0.4444444444444444, \"#bd3786\"], [0.5555555555555556, \"#d8576b\"], [0.6666666666666666, \"#ed7953\"], [0.7777777777777778, \"#fb9f3a\"], [0.8888888888888888, \"#fdca26\"], [1.0, \"#f0f921\"]], \"type\": \"histogram2d\"}], \"histogram2dcontour\": [{\"colorbar\": {\"outlinewidth\": 0, \"ticks\": \"\"}, \"colorscale\": [[0.0, \"#0d0887\"], [0.1111111111111111, \"#46039f\"], [0.2222222222222222, \"#7201a8\"], [0.3333333333333333, \"#9c179e\"], [0.4444444444444444, \"#bd3786\"], [0.5555555555555556, \"#d8576b\"], [0.6666666666666666, \"#ed7953\"], [0.7777777777777778, \"#fb9f3a\"], [0.8888888888888888, \"#fdca26\"], [1.0, \"#f0f921\"]], \"type\": \"histogram2dcontour\"}], \"mesh3d\": [{\"colorbar\": {\"outlinewidth\": 0, \"ticks\": \"\"}, \"type\": \"mesh3d\"}], \"parcoords\": [{\"line\": {\"colorbar\": {\"outlinewidth\": 0, \"ticks\": \"\"}}, \"type\": \"parcoords\"}], \"pie\": [{\"automargin\": true, \"type\": \"pie\"}], \"scatter\": [{\"marker\": {\"colorbar\": {\"outlinewidth\": 0, \"ticks\": \"\"}}, \"type\": \"scatter\"}], \"scatter3d\": [{\"line\": {\"colorbar\": {\"outlinewidth\": 0, \"ticks\": \"\"}}, \"marker\": {\"colorbar\": {\"outlinewidth\": 0, \"ticks\": \"\"}}, \"type\": \"scatter3d\"}], \"scattercarpet\": [{\"marker\": {\"colorbar\": {\"outlinewidth\": 0, \"ticks\": \"\"}}, \"type\": \"scattercarpet\"}], \"scattergeo\": [{\"marker\": {\"colorbar\": {\"outlinewidth\": 0, \"ticks\": \"\"}}, \"type\": \"scattergeo\"}], \"scattergl\": [{\"marker\": {\"colorbar\": {\"outlinewidth\": 0, \"ticks\": \"\"}}, \"type\": \"scattergl\"}], \"scattermapbox\": [{\"marker\": {\"colorbar\": {\"outlinewidth\": 0, \"ticks\": \"\"}}, \"type\": \"scattermapbox\"}], \"scatterpolar\": [{\"marker\": {\"colorbar\": {\"outlinewidth\": 0, \"ticks\": \"\"}}, \"type\": \"scatterpolar\"}], \"scatterpolargl\": [{\"marker\": {\"colorbar\": {\"outlinewidth\": 0, \"ticks\": \"\"}}, \"type\": \"scatterpolargl\"}], \"scatterternary\": [{\"marker\": {\"colorbar\": {\"outlinewidth\": 0, \"ticks\": \"\"}}, \"type\": \"scatterternary\"}], \"surface\": [{\"colorbar\": {\"outlinewidth\": 0, \"ticks\": \"\"}, \"colorscale\": [[0.0, \"#0d0887\"], [0.1111111111111111, \"#46039f\"], [0.2222222222222222, \"#7201a8\"], [0.3333333333333333, \"#9c179e\"], [0.4444444444444444, \"#bd3786\"], [0.5555555555555556, \"#d8576b\"], [0.6666666666666666, \"#ed7953\"], [0.7777777777777778, \"#fb9f3a\"], [0.8888888888888888, \"#fdca26\"], [1.0, \"#f0f921\"]], \"type\": \"surface\"}], \"table\": [{\"cells\": {\"fill\": {\"color\": \"#EBF0F8\"}, \"line\": {\"color\": \"white\"}}, \"header\": {\"fill\": {\"color\": \"#C8D4E3\"}, \"line\": {\"color\": \"white\"}}, \"type\": \"table\"}]}, \"layout\": {\"annotationdefaults\": {\"arrowcolor\": \"#2a3f5f\", \"arrowhead\": 0, \"arrowwidth\": 1}, \"coloraxis\": {\"colorbar\": {\"outlinewidth\": 0, \"ticks\": \"\"}}, \"colorscale\": {\"diverging\": [[0, \"#8e0152\"], [0.1, \"#c51b7d\"], [0.2, \"#de77ae\"], [0.3, \"#f1b6da\"], [0.4, \"#fde0ef\"], [0.5, \"#f7f7f7\"], [0.6, \"#e6f5d0\"], [0.7, \"#b8e186\"], [0.8, \"#7fbc41\"], [0.9, \"#4d9221\"], [1, \"#276419\"]], \"sequential\": [[0.0, \"#0d0887\"], [0.1111111111111111, \"#46039f\"], [0.2222222222222222, \"#7201a8\"], [0.3333333333333333, \"#9c179e\"], [0.4444444444444444, \"#bd3786\"], [0.5555555555555556, \"#d8576b\"], [0.6666666666666666, \"#ed7953\"], [0.7777777777777778, \"#fb9f3a\"], [0.8888888888888888, \"#fdca26\"], [1.0, \"#f0f921\"]], \"sequentialminus\": [[0.0, \"#0d0887\"], [0.1111111111111111, \"#46039f\"], [0.2222222222222222, \"#7201a8\"], [0.3333333333333333, \"#9c179e\"], [0.4444444444444444, \"#bd3786\"], [0.5555555555555556, \"#d8576b\"], [0.6666666666666666, \"#ed7953\"], [0.7777777777777778, \"#fb9f3a\"], [0.8888888888888888, \"#fdca26\"], [1.0, \"#f0f921\"]]}, \"colorway\": [\"#636efa\", \"#EF553B\", \"#00cc96\", \"#ab63fa\", \"#FFA15A\", \"#19d3f3\", \"#FF6692\", \"#B6E880\", \"#FF97FF\", \"#FECB52\"], \"font\": {\"color\": \"#2a3f5f\"}, \"geo\": {\"bgcolor\": \"white\", \"lakecolor\": \"white\", \"landcolor\": \"#E5ECF6\", \"showlakes\": true, \"showland\": true, \"subunitcolor\": \"white\"}, \"hoverlabel\": {\"align\": \"left\"}, \"hovermode\": \"closest\", \"mapbox\": {\"style\": \"light\"}, \"paper_bgcolor\": \"white\", \"plot_bgcolor\": \"#E5ECF6\", \"polar\": {\"angularaxis\": {\"gridcolor\": \"white\", \"linecolor\": \"white\", \"ticks\": \"\"}, \"bgcolor\": \"#E5ECF6\", \"radialaxis\": {\"gridcolor\": \"white\", \"linecolor\": \"white\", \"ticks\": \"\"}}, \"scene\": {\"xaxis\": {\"backgroundcolor\": \"#E5ECF6\", \"gridcolor\": \"white\", \"gridwidth\": 2, \"linecolor\": \"white\", \"showbackground\": true, \"ticks\": \"\", \"zerolinecolor\": \"white\"}, \"yaxis\": {\"backgroundcolor\": \"#E5ECF6\", \"gridcolor\": \"white\", \"gridwidth\": 2, \"linecolor\": \"white\", \"showbackground\": true, \"ticks\": \"\", \"zerolinecolor\": \"white\"}, \"zaxis\": {\"backgroundcolor\": \"#E5ECF6\", \"gridcolor\": \"white\", \"gridwidth\": 2, \"linecolor\": \"white\", \"showbackground\": true, \"ticks\": \"\", \"zerolinecolor\": \"white\"}}, \"shapedefaults\": {\"line\": {\"color\": \"#2a3f5f\"}}, \"ternary\": {\"aaxis\": {\"gridcolor\": \"white\", \"linecolor\": \"white\", \"ticks\": \"\"}, \"baxis\": {\"gridcolor\": \"white\", \"linecolor\": \"white\", \"ticks\": \"\"}, \"bgcolor\": \"#E5ECF6\", \"caxis\": {\"gridcolor\": \"white\", \"linecolor\": \"white\", \"ticks\": \"\"}}, \"title\": {\"x\": 0.05}, \"xaxis\": {\"automargin\": true, \"gridcolor\": \"white\", \"linecolor\": \"white\", \"ticks\": \"\", \"title\": {\"standoff\": 15}, \"zerolinecolor\": \"white\", \"zerolinewidth\": 2}, \"yaxis\": {\"automargin\": true, \"gridcolor\": \"white\", \"linecolor\": \"white\", \"ticks\": \"\", \"title\": {\"standoff\": 15}, \"zerolinecolor\": \"white\", \"zerolinewidth\": 2}}}, \"title\": {\"text\": \"Hist\\u00f3rico do pre\\u00e7o das a\\u00e7\\u00f5es\"}, \"xaxis\": {\"anchor\": \"y\", \"domain\": [0.0, 1.0]}, \"yaxis\": {\"anchor\": \"x\", \"domain\": [0.0, 1.0]}},\n",
              "                        {\"responsive\": true}\n",
              "                    ).then(function(){\n",
              "                            \n",
              "var gd = document.getElementById('49f47b17-27b6-4115-bb0d-458d92ef1b3f');\n",
              "var x = new MutationObserver(function (mutations, observer) {{\n",
              "        var display = window.getComputedStyle(gd).display;\n",
              "        if (!display || display === 'none') {{\n",
              "            console.log([gd, 'removed!']);\n",
              "            Plotly.purge(gd);\n",
              "            observer.disconnect();\n",
              "        }}\n",
              "}});\n",
              "\n",
              "// Listen for the removal of the full notebook cells\n",
              "var notebookContainer = gd.closest('#notebook-container');\n",
              "if (notebookContainer) {{\n",
              "    x.observe(notebookContainer, {childList: true});\n",
              "}}\n",
              "\n",
              "// Listen for the clearing of the current output cell\n",
              "var outputEl = gd.closest('.output');\n",
              "if (outputEl) {{\n",
              "    x.observe(outputEl, {childList: true});\n",
              "}}\n",
              "\n",
              "                        })\n",
              "                };\n",
              "                \n",
              "            </script>\n",
              "        </div>\n",
              "</body>\n",
              "</html>"
            ]
          },
          "metadata": {
            "tags": []
          }
        }
      ]
    },
    {
      "cell_type": "markdown",
      "metadata": {
        "id": "nUxclu5gyLWP"
      },
      "source": [
        "Olha como o visual ajuda a analisarmos mais facilmente as variações dessa ação.\r\n",
        "Ela vinha com uma taxa de crescimento contínua até o ínicio de 2019 onde teve uma queda.\r\n",
        "Depois começou novamente a uma subida mais rapidamente e novamente no ínicio de 2020 uma grande queda.\r\n",
        "Provavelmente em meados de março, onde tivemos toda a incerteza do isolamento, porém com as adaptações o preço das ações dispararam atigindo seu ápice em agosto de 2020 e hoje em opera em queda, numa indicação que volte aos patamares pré-pandemia de crescimento.\r\n",
        "\r\n",
        "Vamos agora verificar as taxas de retorno dessa ação ao longo do tempo.\r\n"
      ]
    },
    {
      "cell_type": "markdown",
      "metadata": {
        "id": "-umel1N1_9Jx"
      },
      "source": [
        "- # Taxas de Retorno (ROI)"
      ]
    },
    {
      "cell_type": "markdown",
      "metadata": {
        "id": "BR4PGVIkAE7n"
      },
      "source": [
        "- ## Taxa de Retorno Simples"
      ]
    },
    {
      "cell_type": "markdown",
      "metadata": {
        "id": "sy4hq42Z06l9"
      },
      "source": [
        "\r\n",
        "\r\n",
        "A taxa de retorno simples é obtida atráves da fórmula: \r\n",
        "\r\n",
        "TRS = ((PF / PI ) - 1)\r\n",
        "\r\n",
        "Sendo:\r\n",
        "\r\n",
        "- TRS: Taxa de Retorno Simples.\r\n",
        "- PI: Preço Inicial da ação no momento da compra.\r\n",
        "- PF: Preço Final da ação no momento da venda.\r\n",
        "\r\n",
        "Pra facilitar o entendimento, vamos com um exemplo prático.\r\n",
        "\r\n",
        "Digamos que tenhamos comprado uma ação no primeiro dia útil de 2015 e queremos saber qual seria a taxa de retorno simples se vendessemos ela hoje.\r\n"
      ]
    },
    {
      "cell_type": "code",
      "metadata": {
        "id": "pbmoJBDk4gPa"
      },
      "source": [
        "PI = float(df_b2w['Close'].head(1))\r\n",
        "PF = float(df_b2w['Close'].tail(1))"
      ],
      "execution_count": 15,
      "outputs": []
    },
    {
      "cell_type": "code",
      "metadata": {
        "colab": {
          "base_uri": "https://localhost:8080/"
        },
        "id": "NE0yfAXe4sAH",
        "outputId": "059034f0-143e-4ad7-827f-ed1d08dae9fc"
      },
      "source": [
        "PI, PF"
      ],
      "execution_count": 16,
      "outputs": [
        {
          "output_type": "execute_result",
          "data": {
            "text/plain": [
              "(21.140331268310547, 75.61000061035156)"
            ]
          },
          "metadata": {
            "tags": []
          },
          "execution_count": 16
        }
      ]
    },
    {
      "cell_type": "markdown",
      "metadata": {
        "id": "GVz2n2Bi6TT6"
      },
      "source": [
        "Agora temos o preço inicial da ação e o preço final. Só aplicar na formula e saber nosso percentual de lucro ou prejuizo.\r\n",
        "\r\n",
        "Multiplicando por 100% facilita a visualização da porcentagem."
      ]
    },
    {
      "cell_type": "code",
      "metadata": {
        "colab": {
          "base_uri": "https://localhost:8080/"
        },
        "id": "M1ZxiSr46eOE",
        "outputId": "ad7093b3-9b38-4230-94b6-eb676b755ed9"
      },
      "source": [
        "((PF / PI) - 1) * 100"
      ],
      "execution_count": 17,
      "outputs": [
        {
          "output_type": "execute_result",
          "data": {
            "text/plain": [
              "257.65759604576914"
            ]
          },
          "metadata": {
            "tags": []
          },
          "execution_count": 17
        }
      ]
    },
    {
      "cell_type": "markdown",
      "metadata": {
        "id": "x7KKtpsz6uzD"
      },
      "source": [
        "Teriamos uma taxa de retorno simples de 234% positiva. Agora iremos calcular as taxas de retorno diárias e anuais. "
      ]
    },
    {
      "cell_type": "markdown",
      "metadata": {
        "id": "9c0U1Zp9_MLK"
      },
      "source": [
        "- ## Taxa de Retorno Diária\r\n",
        "\r\n",
        "\r\n"
      ]
    },
    {
      "cell_type": "markdown",
      "metadata": {
        "id": "PZB84tnW_MTX"
      },
      "source": [
        "Para a taxa de retorno diária, podemos aplicar a formula de TRS para nosso dataset inteiro com uma nova coluna shiftando por 1 dia na frente.\r\n",
        "Isso quer dizer, que ele vai pegar o preço de fechamento do dia anterior e o do fechamento do dia para fazer os cálculos.\r\n",
        "\r\n",
        "Como podem observar, o primeiro dia vai ficar zerado, pois não existia nenhum registro anterior a ele. "
      ]
    },
    {
      "cell_type": "code",
      "metadata": {
        "id": "aVsZwRDA74Sd"
      },
      "source": [
        "df_b2w['TRS Daily'] = ((df_b2w['Close'] / df_b2w['Close'].shift(1)) - 1).fillna(0)"
      ],
      "execution_count": 28,
      "outputs": []
    },
    {
      "cell_type": "code",
      "metadata": {
        "colab": {
          "base_uri": "https://localhost:8080/",
          "height": 406
        },
        "id": "ZXFXnilX8iFK",
        "outputId": "3f1f8bae-01b7-49ff-b531-c25934ae9a62"
      },
      "source": [
        "df_b2w"
      ],
      "execution_count": 29,
      "outputs": [
        {
          "output_type": "execute_result",
          "data": {
            "text/html": [
              "<div>\n",
              "<style scoped>\n",
              "    .dataframe tbody tr th:only-of-type {\n",
              "        vertical-align: middle;\n",
              "    }\n",
              "\n",
              "    .dataframe tbody tr th {\n",
              "        vertical-align: top;\n",
              "    }\n",
              "\n",
              "    .dataframe thead th {\n",
              "        text-align: right;\n",
              "    }\n",
              "</style>\n",
              "<table border=\"1\" class=\"dataframe\">\n",
              "  <thead>\n",
              "    <tr style=\"text-align: right;\">\n",
              "      <th></th>\n",
              "      <th>Date</th>\n",
              "      <th>High</th>\n",
              "      <th>Low</th>\n",
              "      <th>Open</th>\n",
              "      <th>Close</th>\n",
              "      <th>Volume</th>\n",
              "      <th>Adj Close</th>\n",
              "      <th>TRS Daily</th>\n",
              "    </tr>\n",
              "  </thead>\n",
              "  <tbody>\n",
              "    <tr>\n",
              "      <th>0</th>\n",
              "      <td>2015-01-02</td>\n",
              "      <td>22.124950</td>\n",
              "      <td>19.827507</td>\n",
              "      <td>21.372005</td>\n",
              "      <td>21.140331</td>\n",
              "      <td>480673.0</td>\n",
              "      <td>21.140331</td>\n",
              "      <td>0.000000</td>\n",
              "    </tr>\n",
              "    <tr>\n",
              "      <th>1</th>\n",
              "      <td>2015-01-05</td>\n",
              "      <td>21.140331</td>\n",
              "      <td>20.223286</td>\n",
              "      <td>21.140331</td>\n",
              "      <td>20.464613</td>\n",
              "      <td>2434653.0</td>\n",
              "      <td>20.464613</td>\n",
              "      <td>-0.031963</td>\n",
              "    </tr>\n",
              "    <tr>\n",
              "      <th>2</th>\n",
              "      <td>2015-01-06</td>\n",
              "      <td>21.207903</td>\n",
              "      <td>20.213633</td>\n",
              "      <td>20.319817</td>\n",
              "      <td>20.522532</td>\n",
              "      <td>2351157.0</td>\n",
              "      <td>20.522532</td>\n",
              "      <td>0.002830</td>\n",
              "    </tr>\n",
              "    <tr>\n",
              "      <th>3</th>\n",
              "      <td>2015-01-07</td>\n",
              "      <td>20.686634</td>\n",
              "      <td>20.078487</td>\n",
              "      <td>20.638369</td>\n",
              "      <td>20.319817</td>\n",
              "      <td>378530.0</td>\n",
              "      <td>20.319817</td>\n",
              "      <td>-0.009878</td>\n",
              "    </tr>\n",
              "    <tr>\n",
              "      <th>4</th>\n",
              "      <td>2015-01-08</td>\n",
              "      <td>20.261898</td>\n",
              "      <td>19.306238</td>\n",
              "      <td>20.261898</td>\n",
              "      <td>19.653751</td>\n",
              "      <td>431881.0</td>\n",
              "      <td>19.653751</td>\n",
              "      <td>-0.032779</td>\n",
              "    </tr>\n",
              "    <tr>\n",
              "      <th>...</th>\n",
              "      <td>...</td>\n",
              "      <td>...</td>\n",
              "      <td>...</td>\n",
              "      <td>...</td>\n",
              "      <td>...</td>\n",
              "      <td>...</td>\n",
              "      <td>...</td>\n",
              "      <td>...</td>\n",
              "    </tr>\n",
              "    <tr>\n",
              "      <th>1483</th>\n",
              "      <td>2020-12-22</td>\n",
              "      <td>78.059998</td>\n",
              "      <td>75.949997</td>\n",
              "      <td>77.550003</td>\n",
              "      <td>75.970001</td>\n",
              "      <td>2403700.0</td>\n",
              "      <td>75.970001</td>\n",
              "      <td>-0.014656</td>\n",
              "    </tr>\n",
              "    <tr>\n",
              "      <th>1484</th>\n",
              "      <td>2020-12-23</td>\n",
              "      <td>77.099998</td>\n",
              "      <td>75.580002</td>\n",
              "      <td>76.300003</td>\n",
              "      <td>75.599998</td>\n",
              "      <td>2215200.0</td>\n",
              "      <td>75.599998</td>\n",
              "      <td>-0.004870</td>\n",
              "    </tr>\n",
              "    <tr>\n",
              "      <th>1485</th>\n",
              "      <td>2020-12-28</td>\n",
              "      <td>77.500000</td>\n",
              "      <td>73.809998</td>\n",
              "      <td>76.089996</td>\n",
              "      <td>77.040001</td>\n",
              "      <td>3593500.0</td>\n",
              "      <td>77.040001</td>\n",
              "      <td>0.019048</td>\n",
              "    </tr>\n",
              "    <tr>\n",
              "      <th>1486</th>\n",
              "      <td>2020-12-29</td>\n",
              "      <td>78.040001</td>\n",
              "      <td>75.580002</td>\n",
              "      <td>77.480003</td>\n",
              "      <td>75.699997</td>\n",
              "      <td>3360100.0</td>\n",
              "      <td>75.699997</td>\n",
              "      <td>-0.017394</td>\n",
              "    </tr>\n",
              "    <tr>\n",
              "      <th>1487</th>\n",
              "      <td>2020-12-30</td>\n",
              "      <td>79.379997</td>\n",
              "      <td>75.610001</td>\n",
              "      <td>76.120003</td>\n",
              "      <td>75.610001</td>\n",
              "      <td>5071500.0</td>\n",
              "      <td>75.610001</td>\n",
              "      <td>-0.001189</td>\n",
              "    </tr>\n",
              "  </tbody>\n",
              "</table>\n",
              "<p>1488 rows × 8 columns</p>\n",
              "</div>"
            ],
            "text/plain": [
              "           Date       High        Low  ...     Volume  Adj Close  TRS Daily\n",
              "0    2015-01-02  22.124950  19.827507  ...   480673.0  21.140331   0.000000\n",
              "1    2015-01-05  21.140331  20.223286  ...  2434653.0  20.464613  -0.031963\n",
              "2    2015-01-06  21.207903  20.213633  ...  2351157.0  20.522532   0.002830\n",
              "3    2015-01-07  20.686634  20.078487  ...   378530.0  20.319817  -0.009878\n",
              "4    2015-01-08  20.261898  19.306238  ...   431881.0  19.653751  -0.032779\n",
              "...         ...        ...        ...  ...        ...        ...        ...\n",
              "1483 2020-12-22  78.059998  75.949997  ...  2403700.0  75.970001  -0.014656\n",
              "1484 2020-12-23  77.099998  75.580002  ...  2215200.0  75.599998  -0.004870\n",
              "1485 2020-12-28  77.500000  73.809998  ...  3593500.0  77.040001   0.019048\n",
              "1486 2020-12-29  78.040001  75.580002  ...  3360100.0  75.699997  -0.017394\n",
              "1487 2020-12-30  79.379997  75.610001  ...  5071500.0  75.610001  -0.001189\n",
              "\n",
              "[1488 rows x 8 columns]"
            ]
          },
          "metadata": {
            "tags": []
          },
          "execution_count": 29
        }
      ]
    },
    {
      "cell_type": "markdown",
      "metadata": {
        "id": "WBBrFzHo8k97"
      },
      "source": [
        "Notem que agora temos a nossa taxa de retorno diária, sempre contabilizando o valor de fechamento do dia anterior. Para tirar a prova é só aplicar a fórmula em qualquer valor e verificar. Vou calcular o retorno do dia 08-01-2015.\r\n",
        "\r\n",
        "- Fechamento do dia 07 = 20.319799\r\n",
        "- Fechamento do dia 08 = 19.653799 \r\n",
        "- Taxa de Retorno = ((19.653799 / 20.319799) - 1) = -0.032776\r\n",
        "\r\n",
        "Podemos plotar um gráfico de linhas, pra facilitar ainda mais o entendimento."
      ]
    },
    {
      "cell_type": "code",
      "metadata": {
        "colab": {
          "base_uri": "https://localhost:8080/",
          "height": 542
        },
        "id": "omg20S7d8hFR",
        "outputId": "3aa4cd4b-cfd8-4821-8511-58331f8421a7"
      },
      "source": [
        "figura = px.line(title = 'Taxa de retorno diário das ações')\r\n",
        "figura.add_scatter(x = df_b2w['Date'], y = df_b2w['TRS Daily'])\r\n",
        "figura.show()"
      ],
      "execution_count": 20,
      "outputs": [
        {
          "output_type": "display_data",
          "data": {
            "text/html": [
              "<html>\n",
              "<head><meta charset=\"utf-8\" /></head>\n",
              "<body>\n",
              "    <div>\n",
              "            <script src=\"https://cdnjs.cloudflare.com/ajax/libs/mathjax/2.7.5/MathJax.js?config=TeX-AMS-MML_SVG\"></script><script type=\"text/javascript\">if (window.MathJax) {MathJax.Hub.Config({SVG: {font: \"STIX-Web\"}});}</script>\n",
              "                <script type=\"text/javascript\">window.PlotlyConfig = {MathJaxConfig: 'local'};</script>\n",
              "        <script src=\"https://cdn.plot.ly/plotly-latest.min.js\"></script>    \n",
              "            <div id=\"e51dfa8b-11d8-41fa-bbb4-0eec850440be\" class=\"plotly-graph-div\" style=\"height:525px; width:100%;\"></div>\n",
              "            <script type=\"text/javascript\">\n",
              "                \n",
              "                    window.PLOTLYENV=window.PLOTLYENV || {};\n",
              "                    \n",
              "                if (document.getElementById(\"e51dfa8b-11d8-41fa-bbb4-0eec850440be\")) {\n",
              "                    Plotly.newPlot(\n",
              "                        'e51dfa8b-11d8-41fa-bbb4-0eec850440be',\n",
              "                        [{\"type\": \"scatter\", \"x\": [\"2015-01-02T00:00:00\", \"2015-01-05T00:00:00\", \"2015-01-06T00:00:00\", \"2015-01-07T00:00:00\", \"2015-01-08T00:00:00\", \"2015-01-09T00:00:00\", \"2015-01-12T00:00:00\", \"2015-01-13T00:00:00\", \"2015-01-14T00:00:00\", \"2015-01-15T00:00:00\", \"2015-01-16T00:00:00\", \"2015-01-19T00:00:00\", \"2015-01-20T00:00:00\", \"2015-01-21T00:00:00\", \"2015-01-22T00:00:00\", \"2015-01-23T00:00:00\", \"2015-01-26T00:00:00\", \"2015-01-27T00:00:00\", \"2015-01-28T00:00:00\", \"2015-01-29T00:00:00\", \"2015-01-30T00:00:00\", \"2015-02-02T00:00:00\", \"2015-02-03T00:00:00\", \"2015-02-04T00:00:00\", \"2015-02-05T00:00:00\", \"2015-02-06T00:00:00\", \"2015-02-09T00:00:00\", \"2015-02-10T00:00:00\", \"2015-02-11T00:00:00\", \"2015-02-12T00:00:00\", \"2015-02-13T00:00:00\", \"2015-02-18T00:00:00\", \"2015-02-19T00:00:00\", \"2015-02-20T00:00:00\", \"2015-02-23T00:00:00\", \"2015-02-24T00:00:00\", \"2015-02-25T00:00:00\", \"2015-02-26T00:00:00\", \"2015-02-27T00:00:00\", \"2015-03-02T00:00:00\", \"2015-03-03T00:00:00\", \"2015-03-04T00:00:00\", \"2015-03-05T00:00:00\", \"2015-03-06T00:00:00\", \"2015-03-09T00:00:00\", \"2015-03-10T00:00:00\", \"2015-03-11T00:00:00\", \"2015-03-12T00:00:00\", \"2015-03-13T00:00:00\", \"2015-03-16T00:00:00\", \"2015-03-17T00:00:00\", \"2015-03-18T00:00:00\", \"2015-03-19T00:00:00\", \"2015-03-20T00:00:00\", \"2015-03-23T00:00:00\", \"2015-03-24T00:00:00\", \"2015-03-25T00:00:00\", \"2015-03-26T00:00:00\", \"2015-03-27T00:00:00\", \"2015-03-30T00:00:00\", \"2015-03-31T00:00:00\", \"2015-04-01T00:00:00\", \"2015-04-02T00:00:00\", \"2015-04-06T00:00:00\", \"2015-04-07T00:00:00\", \"2015-04-08T00:00:00\", \"2015-04-09T00:00:00\", \"2015-04-10T00:00:00\", \"2015-04-13T00:00:00\", \"2015-04-14T00:00:00\", \"2015-04-15T00:00:00\", \"2015-04-16T00:00:00\", \"2015-04-17T00:00:00\", \"2015-04-20T00:00:00\", \"2015-04-22T00:00:00\", \"2015-04-23T00:00:00\", \"2015-04-24T00:00:00\", \"2015-04-27T00:00:00\", \"2015-04-28T00:00:00\", \"2015-04-29T00:00:00\", \"2015-04-30T00:00:00\", \"2015-05-04T00:00:00\", \"2015-05-05T00:00:00\", \"2015-05-06T00:00:00\", \"2015-05-07T00:00:00\", \"2015-05-08T00:00:00\", \"2015-05-11T00:00:00\", \"2015-05-12T00:00:00\", \"2015-05-13T00:00:00\", \"2015-05-14T00:00:00\", \"2015-05-15T00:00:00\", \"2015-05-18T00:00:00\", \"2015-05-19T00:00:00\", \"2015-05-20T00:00:00\", \"2015-05-21T00:00:00\", \"2015-05-22T00:00:00\", \"2015-05-25T00:00:00\", \"2015-05-26T00:00:00\", \"2015-05-27T00:00:00\", \"2015-05-28T00:00:00\", \"2015-05-29T00:00:00\", \"2015-06-01T00:00:00\", \"2015-06-02T00:00:00\", \"2015-06-03T00:00:00\", \"2015-06-05T00:00:00\", \"2015-06-08T00:00:00\", \"2015-06-09T00:00:00\", \"2015-06-10T00:00:00\", \"2015-06-11T00:00:00\", \"2015-06-12T00:00:00\", \"2015-06-15T00:00:00\", \"2015-06-16T00:00:00\", \"2015-06-17T00:00:00\", \"2015-06-18T00:00:00\", \"2015-06-19T00:00:00\", \"2015-06-22T00:00:00\", \"2015-06-23T00:00:00\", \"2015-06-24T00:00:00\", \"2015-06-25T00:00:00\", \"2015-06-26T00:00:00\", \"2015-06-29T00:00:00\", \"2015-06-30T00:00:00\", \"2015-07-01T00:00:00\", \"2015-07-02T00:00:00\", \"2015-07-03T00:00:00\", \"2015-07-06T00:00:00\", \"2015-07-07T00:00:00\", \"2015-07-08T00:00:00\", \"2015-07-10T00:00:00\", \"2015-07-13T00:00:00\", \"2015-07-14T00:00:00\", \"2015-07-15T00:00:00\", \"2015-07-16T00:00:00\", \"2015-07-17T00:00:00\", \"2015-07-20T00:00:00\", \"2015-07-21T00:00:00\", \"2015-07-22T00:00:00\", \"2015-07-23T00:00:00\", \"2015-07-24T00:00:00\", \"2015-07-27T00:00:00\", \"2015-07-28T00:00:00\", \"2015-07-29T00:00:00\", \"2015-07-30T00:00:00\", \"2015-07-31T00:00:00\", \"2015-08-03T00:00:00\", \"2015-08-04T00:00:00\", \"2015-08-05T00:00:00\", \"2015-08-06T00:00:00\", \"2015-08-07T00:00:00\", \"2015-08-10T00:00:00\", \"2015-08-11T00:00:00\", \"2015-08-12T00:00:00\", \"2015-08-13T00:00:00\", \"2015-08-14T00:00:00\", \"2015-08-17T00:00:00\", \"2015-08-18T00:00:00\", \"2015-08-19T00:00:00\", \"2015-08-20T00:00:00\", \"2015-08-21T00:00:00\", \"2015-08-24T00:00:00\", \"2015-08-25T00:00:00\", \"2015-08-26T00:00:00\", \"2015-08-27T00:00:00\", \"2015-08-28T00:00:00\", \"2015-08-31T00:00:00\", \"2015-09-01T00:00:00\", \"2015-09-02T00:00:00\", \"2015-09-03T00:00:00\", \"2015-09-04T00:00:00\", \"2015-09-08T00:00:00\", \"2015-09-09T00:00:00\", \"2015-09-10T00:00:00\", \"2015-09-11T00:00:00\", \"2015-09-14T00:00:00\", \"2015-09-15T00:00:00\", \"2015-09-16T00:00:00\", \"2015-09-17T00:00:00\", \"2015-09-18T00:00:00\", \"2015-09-21T00:00:00\", \"2015-09-22T00:00:00\", \"2015-09-23T00:00:00\", \"2015-09-24T00:00:00\", \"2015-09-25T00:00:00\", \"2015-09-28T00:00:00\", \"2015-09-29T00:00:00\", \"2015-09-30T00:00:00\", \"2015-10-01T00:00:00\", \"2015-10-02T00:00:00\", \"2015-10-05T00:00:00\", \"2015-10-06T00:00:00\", \"2015-10-07T00:00:00\", \"2015-10-08T00:00:00\", \"2015-10-09T00:00:00\", \"2015-10-13T00:00:00\", \"2015-10-14T00:00:00\", \"2015-10-15T00:00:00\", \"2015-10-16T00:00:00\", \"2015-10-19T00:00:00\", \"2015-10-20T00:00:00\", \"2015-10-21T00:00:00\", \"2015-10-22T00:00:00\", \"2015-10-23T00:00:00\", \"2015-10-26T00:00:00\", \"2015-10-27T00:00:00\", \"2015-10-28T00:00:00\", \"2015-10-29T00:00:00\", \"2015-10-30T00:00:00\", \"2015-11-03T00:00:00\", \"2015-11-04T00:00:00\", \"2015-11-05T00:00:00\", \"2015-11-06T00:00:00\", \"2015-11-09T00:00:00\", \"2015-11-10T00:00:00\", \"2015-11-11T00:00:00\", \"2015-11-12T00:00:00\", \"2015-11-13T00:00:00\", \"2015-11-16T00:00:00\", \"2015-11-17T00:00:00\", \"2015-11-18T00:00:00\", \"2015-11-19T00:00:00\", \"2015-11-23T00:00:00\", \"2015-11-24T00:00:00\", \"2015-11-25T00:00:00\", \"2015-11-26T00:00:00\", \"2015-11-27T00:00:00\", \"2015-11-30T00:00:00\", \"2015-12-01T00:00:00\", \"2015-12-02T00:00:00\", \"2015-12-03T00:00:00\", \"2015-12-04T00:00:00\", \"2015-12-07T00:00:00\", \"2015-12-08T00:00:00\", \"2015-12-09T00:00:00\", \"2015-12-10T00:00:00\", \"2015-12-11T00:00:00\", \"2015-12-14T00:00:00\", \"2015-12-15T00:00:00\", \"2015-12-16T00:00:00\", \"2015-12-17T00:00:00\", \"2015-12-18T00:00:00\", \"2015-12-21T00:00:00\", \"2015-12-22T00:00:00\", \"2015-12-23T00:00:00\", \"2015-12-28T00:00:00\", \"2015-12-29T00:00:00\", \"2015-12-30T00:00:00\", \"2016-01-04T00:00:00\", \"2016-01-05T00:00:00\", \"2016-01-06T00:00:00\", \"2016-01-07T00:00:00\", \"2016-01-08T00:00:00\", \"2016-01-11T00:00:00\", \"2016-01-12T00:00:00\", \"2016-01-13T00:00:00\", \"2016-01-14T00:00:00\", \"2016-01-15T00:00:00\", \"2016-01-18T00:00:00\", \"2016-01-19T00:00:00\", \"2016-01-20T00:00:00\", \"2016-01-21T00:00:00\", \"2016-01-22T00:00:00\", \"2016-01-26T00:00:00\", \"2016-01-27T00:00:00\", \"2016-01-28T00:00:00\", \"2016-01-29T00:00:00\", \"2016-02-01T00:00:00\", \"2016-02-02T00:00:00\", \"2016-02-03T00:00:00\", \"2016-02-04T00:00:00\", \"2016-02-05T00:00:00\", \"2016-02-10T00:00:00\", \"2016-02-11T00:00:00\", \"2016-02-12T00:00:00\", \"2016-02-15T00:00:00\", \"2016-02-16T00:00:00\", \"2016-02-17T00:00:00\", \"2016-02-18T00:00:00\", \"2016-02-19T00:00:00\", \"2016-02-22T00:00:00\", \"2016-02-23T00:00:00\", \"2016-02-24T00:00:00\", \"2016-02-25T00:00:00\", \"2016-02-26T00:00:00\", \"2016-02-29T00:00:00\", \"2016-03-01T00:00:00\", \"2016-03-02T00:00:00\", \"2016-03-03T00:00:00\", \"2016-03-04T00:00:00\", \"2016-03-07T00:00:00\", \"2016-03-08T00:00:00\", \"2016-03-09T00:00:00\", \"2016-03-10T00:00:00\", \"2016-03-11T00:00:00\", \"2016-03-14T00:00:00\", \"2016-03-15T00:00:00\", \"2016-03-16T00:00:00\", \"2016-03-17T00:00:00\", \"2016-03-18T00:00:00\", \"2016-03-21T00:00:00\", \"2016-03-22T00:00:00\", \"2016-03-23T00:00:00\", \"2016-03-24T00:00:00\", \"2016-03-28T00:00:00\", \"2016-03-29T00:00:00\", \"2016-03-30T00:00:00\", \"2016-03-31T00:00:00\", \"2016-04-01T00:00:00\", \"2016-04-04T00:00:00\", \"2016-04-05T00:00:00\", \"2016-04-06T00:00:00\", \"2016-04-07T00:00:00\", \"2016-04-08T00:00:00\", \"2016-04-11T00:00:00\", \"2016-04-12T00:00:00\", \"2016-04-13T00:00:00\", \"2016-04-14T00:00:00\", \"2016-04-15T00:00:00\", \"2016-04-18T00:00:00\", \"2016-04-19T00:00:00\", \"2016-04-20T00:00:00\", \"2016-04-22T00:00:00\", \"2016-04-25T00:00:00\", \"2016-04-26T00:00:00\", \"2016-04-27T00:00:00\", \"2016-04-28T00:00:00\", \"2016-04-29T00:00:00\", \"2016-05-02T00:00:00\", \"2016-05-03T00:00:00\", \"2016-05-04T00:00:00\", \"2016-05-05T00:00:00\", \"2016-05-06T00:00:00\", \"2016-05-09T00:00:00\", \"2016-05-10T00:00:00\", \"2016-05-11T00:00:00\", \"2016-05-12T00:00:00\", \"2016-05-13T00:00:00\", \"2016-05-16T00:00:00\", \"2016-05-17T00:00:00\", \"2016-05-18T00:00:00\", \"2016-05-19T00:00:00\", \"2016-05-20T00:00:00\", \"2016-05-23T00:00:00\", \"2016-05-24T00:00:00\", \"2016-05-25T00:00:00\", \"2016-05-27T00:00:00\", \"2016-05-30T00:00:00\", \"2016-05-31T00:00:00\", \"2016-06-01T00:00:00\", \"2016-06-02T00:00:00\", \"2016-06-03T00:00:00\", \"2016-06-06T00:00:00\", \"2016-06-07T00:00:00\", \"2016-06-08T00:00:00\", \"2016-06-09T00:00:00\", \"2016-06-10T00:00:00\", \"2016-06-13T00:00:00\", \"2016-06-14T00:00:00\", \"2016-06-15T00:00:00\", \"2016-06-16T00:00:00\", \"2016-06-17T00:00:00\", \"2016-06-20T00:00:00\", \"2016-06-21T00:00:00\", \"2016-06-22T00:00:00\", \"2016-06-23T00:00:00\", \"2016-06-24T00:00:00\", \"2016-06-27T00:00:00\", \"2016-06-28T00:00:00\", \"2016-06-29T00:00:00\", \"2016-06-30T00:00:00\", \"2016-07-01T00:00:00\", \"2016-07-04T00:00:00\", \"2016-07-05T00:00:00\", \"2016-07-06T00:00:00\", \"2016-07-07T00:00:00\", \"2016-07-08T00:00:00\", \"2016-07-11T00:00:00\", \"2016-07-12T00:00:00\", \"2016-07-13T00:00:00\", \"2016-07-14T00:00:00\", \"2016-07-15T00:00:00\", \"2016-07-18T00:00:00\", \"2016-07-19T00:00:00\", \"2016-07-20T00:00:00\", \"2016-07-21T00:00:00\", \"2016-07-22T00:00:00\", \"2016-07-25T00:00:00\", \"2016-07-26T00:00:00\", \"2016-07-27T00:00:00\", \"2016-07-28T00:00:00\", \"2016-07-29T00:00:00\", \"2016-08-01T00:00:00\", \"2016-08-02T00:00:00\", \"2016-08-03T00:00:00\", \"2016-08-04T00:00:00\", \"2016-08-05T00:00:00\", \"2016-08-08T00:00:00\", \"2016-08-09T00:00:00\", \"2016-08-10T00:00:00\", \"2016-08-11T00:00:00\", \"2016-08-12T00:00:00\", \"2016-08-15T00:00:00\", \"2016-08-16T00:00:00\", \"2016-08-17T00:00:00\", \"2016-08-18T00:00:00\", \"2016-08-19T00:00:00\", \"2016-08-22T00:00:00\", \"2016-08-23T00:00:00\", \"2016-08-24T00:00:00\", \"2016-08-25T00:00:00\", \"2016-08-26T00:00:00\", \"2016-08-29T00:00:00\", \"2016-08-30T00:00:00\", \"2016-08-31T00:00:00\", \"2016-09-01T00:00:00\", \"2016-09-02T00:00:00\", \"2016-09-05T00:00:00\", \"2016-09-06T00:00:00\", \"2016-09-08T00:00:00\", \"2016-09-09T00:00:00\", \"2016-09-12T00:00:00\", \"2016-09-13T00:00:00\", \"2016-09-14T00:00:00\", \"2016-09-15T00:00:00\", \"2016-09-16T00:00:00\", \"2016-09-19T00:00:00\", \"2016-09-20T00:00:00\", \"2016-09-21T00:00:00\", \"2016-09-22T00:00:00\", \"2016-09-23T00:00:00\", \"2016-09-26T00:00:00\", \"2016-09-27T00:00:00\", \"2016-09-28T00:00:00\", \"2016-09-29T00:00:00\", \"2016-09-30T00:00:00\", \"2016-10-03T00:00:00\", \"2016-10-04T00:00:00\", \"2016-10-05T00:00:00\", \"2016-10-06T00:00:00\", \"2016-10-07T00:00:00\", \"2016-10-10T00:00:00\", \"2016-10-11T00:00:00\", \"2016-10-13T00:00:00\", \"2016-10-14T00:00:00\", \"2016-10-17T00:00:00\", \"2016-10-18T00:00:00\", \"2016-10-19T00:00:00\", \"2016-10-20T00:00:00\", \"2016-10-21T00:00:00\", \"2016-10-24T00:00:00\", \"2016-10-25T00:00:00\", \"2016-10-26T00:00:00\", \"2016-10-27T00:00:00\", \"2016-10-28T00:00:00\", \"2016-10-31T00:00:00\", \"2016-11-01T00:00:00\", \"2016-11-03T00:00:00\", \"2016-11-04T00:00:00\", \"2016-11-07T00:00:00\", \"2016-11-08T00:00:00\", \"2016-11-09T00:00:00\", \"2016-11-10T00:00:00\", \"2016-11-11T00:00:00\", \"2016-11-14T00:00:00\", \"2016-11-16T00:00:00\", \"2016-11-17T00:00:00\", \"2016-11-18T00:00:00\", \"2016-11-21T00:00:00\", \"2016-11-22T00:00:00\", \"2016-11-23T00:00:00\", \"2016-11-24T00:00:00\", \"2016-11-25T00:00:00\", \"2016-11-28T00:00:00\", \"2016-11-29T00:00:00\", \"2016-11-30T00:00:00\", \"2016-12-01T00:00:00\", \"2016-12-02T00:00:00\", \"2016-12-05T00:00:00\", \"2016-12-06T00:00:00\", \"2016-12-07T00:00:00\", \"2016-12-08T00:00:00\", \"2016-12-09T00:00:00\", \"2016-12-12T00:00:00\", \"2016-12-13T00:00:00\", \"2016-12-14T00:00:00\", \"2016-12-15T00:00:00\", \"2016-12-16T00:00:00\", \"2016-12-19T00:00:00\", \"2016-12-20T00:00:00\", \"2016-12-21T00:00:00\", \"2016-12-22T00:00:00\", \"2016-12-23T00:00:00\", \"2016-12-26T00:00:00\", \"2016-12-27T00:00:00\", \"2016-12-28T00:00:00\", \"2016-12-29T00:00:00\", \"2017-01-02T00:00:00\", \"2017-01-03T00:00:00\", \"2017-01-04T00:00:00\", \"2017-01-05T00:00:00\", \"2017-01-06T00:00:00\", \"2017-01-09T00:00:00\", \"2017-01-10T00:00:00\", \"2017-01-11T00:00:00\", \"2017-01-12T00:00:00\", \"2017-01-13T00:00:00\", \"2017-01-16T00:00:00\", \"2017-01-17T00:00:00\", \"2017-01-18T00:00:00\", \"2017-01-19T00:00:00\", \"2017-01-20T00:00:00\", \"2017-01-23T00:00:00\", \"2017-01-24T00:00:00\", \"2017-01-26T00:00:00\", \"2017-01-27T00:00:00\", \"2017-01-30T00:00:00\", \"2017-01-31T00:00:00\", \"2017-02-01T00:00:00\", \"2017-02-02T00:00:00\", \"2017-02-03T00:00:00\", \"2017-02-06T00:00:00\", \"2017-02-07T00:00:00\", \"2017-02-08T00:00:00\", \"2017-02-09T00:00:00\", \"2017-02-10T00:00:00\", \"2017-02-13T00:00:00\", \"2017-02-14T00:00:00\", \"2017-02-15T00:00:00\", \"2017-02-16T00:00:00\", \"2017-02-17T00:00:00\", \"2017-02-20T00:00:00\", \"2017-02-21T00:00:00\", \"2017-02-22T00:00:00\", \"2017-02-23T00:00:00\", \"2017-02-24T00:00:00\", \"2017-03-01T00:00:00\", \"2017-03-02T00:00:00\", \"2017-03-03T00:00:00\", \"2017-03-06T00:00:00\", \"2017-03-07T00:00:00\", \"2017-03-08T00:00:00\", \"2017-03-09T00:00:00\", \"2017-03-10T00:00:00\", \"2017-03-13T00:00:00\", \"2017-03-14T00:00:00\", \"2017-03-15T00:00:00\", \"2017-03-16T00:00:00\", \"2017-03-17T00:00:00\", \"2017-03-20T00:00:00\", \"2017-03-21T00:00:00\", \"2017-03-22T00:00:00\", \"2017-03-23T00:00:00\", \"2017-03-24T00:00:00\", \"2017-03-27T00:00:00\", \"2017-03-28T00:00:00\", \"2017-03-29T00:00:00\", \"2017-03-30T00:00:00\", \"2017-03-31T00:00:00\", \"2017-04-03T00:00:00\", \"2017-04-04T00:00:00\", \"2017-04-05T00:00:00\", \"2017-04-06T00:00:00\", \"2017-04-07T00:00:00\", \"2017-04-10T00:00:00\", \"2017-04-11T00:00:00\", \"2017-04-12T00:00:00\", \"2017-04-13T00:00:00\", \"2017-04-17T00:00:00\", \"2017-04-18T00:00:00\", \"2017-04-19T00:00:00\", \"2017-04-20T00:00:00\", \"2017-04-24T00:00:00\", \"2017-04-25T00:00:00\", \"2017-04-26T00:00:00\", \"2017-04-27T00:00:00\", \"2017-04-28T00:00:00\", \"2017-05-02T00:00:00\", \"2017-05-03T00:00:00\", \"2017-05-04T00:00:00\", \"2017-05-05T00:00:00\", \"2017-05-08T00:00:00\", \"2017-05-09T00:00:00\", \"2017-05-10T00:00:00\", \"2017-05-11T00:00:00\", \"2017-05-12T00:00:00\", \"2017-05-15T00:00:00\", \"2017-05-16T00:00:00\", \"2017-05-17T00:00:00\", \"2017-05-18T00:00:00\", \"2017-05-19T00:00:00\", \"2017-05-22T00:00:00\", \"2017-05-23T00:00:00\", \"2017-05-24T00:00:00\", \"2017-05-25T00:00:00\", \"2017-05-26T00:00:00\", \"2017-05-29T00:00:00\", \"2017-05-30T00:00:00\", \"2017-05-31T00:00:00\", \"2017-06-01T00:00:00\", \"2017-06-02T00:00:00\", \"2017-06-05T00:00:00\", \"2017-06-06T00:00:00\", \"2017-06-07T00:00:00\", \"2017-06-08T00:00:00\", \"2017-06-09T00:00:00\", \"2017-06-12T00:00:00\", \"2017-06-13T00:00:00\", \"2017-06-14T00:00:00\", \"2017-06-15T00:00:00\", \"2017-06-16T00:00:00\", \"2017-06-19T00:00:00\", \"2017-06-20T00:00:00\", \"2017-06-21T00:00:00\", \"2017-06-22T00:00:00\", \"2017-06-23T00:00:00\", \"2017-06-26T00:00:00\", \"2017-06-27T00:00:00\", \"2017-06-28T00:00:00\", \"2017-06-29T00:00:00\", \"2017-06-30T00:00:00\", \"2017-07-03T00:00:00\", \"2017-07-04T00:00:00\", \"2017-07-05T00:00:00\", \"2017-07-06T00:00:00\", \"2017-07-07T00:00:00\", \"2017-07-10T00:00:00\", \"2017-07-11T00:00:00\", \"2017-07-12T00:00:00\", \"2017-07-13T00:00:00\", \"2017-07-14T00:00:00\", \"2017-07-17T00:00:00\", \"2017-07-18T00:00:00\", \"2017-07-19T00:00:00\", \"2017-07-20T00:00:00\", \"2017-07-21T00:00:00\", \"2017-07-24T00:00:00\", \"2017-07-25T00:00:00\", \"2017-07-26T00:00:00\", \"2017-07-27T00:00:00\", \"2017-07-28T00:00:00\", \"2017-07-31T00:00:00\", \"2017-08-01T00:00:00\", \"2017-08-02T00:00:00\", \"2017-08-03T00:00:00\", \"2017-08-04T00:00:00\", \"2017-08-07T00:00:00\", \"2017-08-08T00:00:00\", \"2017-08-09T00:00:00\", \"2017-08-10T00:00:00\", \"2017-08-11T00:00:00\", \"2017-08-14T00:00:00\", \"2017-08-15T00:00:00\", \"2017-08-16T00:00:00\", \"2017-08-17T00:00:00\", \"2017-08-18T00:00:00\", \"2017-08-21T00:00:00\", \"2017-08-22T00:00:00\", \"2017-08-23T00:00:00\", \"2017-08-24T00:00:00\", \"2017-08-25T00:00:00\", \"2017-08-28T00:00:00\", \"2017-08-29T00:00:00\", \"2017-08-30T00:00:00\", \"2017-08-31T00:00:00\", \"2017-09-01T00:00:00\", \"2017-09-04T00:00:00\", \"2017-09-05T00:00:00\", \"2017-09-06T00:00:00\", \"2017-09-07T00:00:00\", \"2017-09-08T00:00:00\", \"2017-09-11T00:00:00\", \"2017-09-12T00:00:00\", \"2017-09-13T00:00:00\", \"2017-09-14T00:00:00\", \"2017-09-15T00:00:00\", \"2017-09-18T00:00:00\", \"2017-09-19T00:00:00\", \"2017-09-20T00:00:00\", \"2017-09-21T00:00:00\", \"2017-09-22T00:00:00\", \"2017-09-25T00:00:00\", \"2017-09-26T00:00:00\", \"2017-09-27T00:00:00\", \"2017-09-28T00:00:00\", \"2017-09-29T00:00:00\", \"2017-10-02T00:00:00\", \"2017-10-03T00:00:00\", \"2017-10-04T00:00:00\", \"2017-10-05T00:00:00\", \"2017-10-06T00:00:00\", \"2017-10-09T00:00:00\", \"2017-10-10T00:00:00\", \"2017-10-11T00:00:00\", \"2017-10-12T00:00:00\", \"2017-10-13T00:00:00\", \"2017-10-16T00:00:00\", \"2017-10-17T00:00:00\", \"2017-10-18T00:00:00\", \"2017-10-19T00:00:00\", \"2017-10-20T00:00:00\", \"2017-10-23T00:00:00\", \"2017-10-24T00:00:00\", \"2017-10-25T00:00:00\", \"2017-10-26T00:00:00\", \"2017-10-27T00:00:00\", \"2017-10-30T00:00:00\", \"2017-10-31T00:00:00\", \"2017-11-01T00:00:00\", \"2017-11-02T00:00:00\", \"2017-11-03T00:00:00\", \"2017-11-06T00:00:00\", \"2017-11-07T00:00:00\", \"2017-11-08T00:00:00\", \"2017-11-09T00:00:00\", \"2017-11-10T00:00:00\", \"2017-11-13T00:00:00\", \"2017-11-14T00:00:00\", \"2017-11-15T00:00:00\", \"2017-11-16T00:00:00\", \"2017-11-17T00:00:00\", \"2017-11-20T00:00:00\", \"2017-11-21T00:00:00\", \"2017-11-22T00:00:00\", \"2017-11-23T00:00:00\", \"2017-11-24T00:00:00\", \"2017-11-27T00:00:00\", \"2017-11-28T00:00:00\", \"2017-11-29T00:00:00\", \"2017-11-30T00:00:00\", \"2017-12-01T00:00:00\", \"2017-12-04T00:00:00\", \"2017-12-05T00:00:00\", \"2017-12-06T00:00:00\", \"2017-12-07T00:00:00\", \"2017-12-08T00:00:00\", \"2017-12-11T00:00:00\", \"2017-12-12T00:00:00\", \"2017-12-13T00:00:00\", \"2017-12-14T00:00:00\", \"2017-12-15T00:00:00\", \"2017-12-18T00:00:00\", \"2017-12-19T00:00:00\", \"2017-12-20T00:00:00\", \"2017-12-21T00:00:00\", \"2017-12-22T00:00:00\", \"2017-12-25T00:00:00\", \"2017-12-26T00:00:00\", \"2017-12-27T00:00:00\", \"2017-12-28T00:00:00\", \"2017-12-29T00:00:00\", \"2018-01-02T00:00:00\", \"2018-01-03T00:00:00\", \"2018-01-04T00:00:00\", \"2018-01-05T00:00:00\", \"2018-01-08T00:00:00\", \"2018-01-09T00:00:00\", \"2018-01-10T00:00:00\", \"2018-01-11T00:00:00\", \"2018-01-12T00:00:00\", \"2018-01-15T00:00:00\", \"2018-01-16T00:00:00\", \"2018-01-17T00:00:00\", \"2018-01-18T00:00:00\", \"2018-01-19T00:00:00\", \"2018-01-22T00:00:00\", \"2018-01-23T00:00:00\", \"2018-01-24T00:00:00\", \"2018-01-25T00:00:00\", \"2018-01-26T00:00:00\", \"2018-01-29T00:00:00\", \"2018-01-30T00:00:00\", \"2018-01-31T00:00:00\", \"2018-02-01T00:00:00\", \"2018-02-02T00:00:00\", \"2018-02-05T00:00:00\", \"2018-02-06T00:00:00\", \"2018-02-07T00:00:00\", \"2018-02-08T00:00:00\", \"2018-02-09T00:00:00\", \"2018-02-15T00:00:00\", \"2018-02-16T00:00:00\", \"2018-02-19T00:00:00\", \"2018-02-20T00:00:00\", \"2018-02-21T00:00:00\", \"2018-02-22T00:00:00\", \"2018-02-23T00:00:00\", \"2018-02-26T00:00:00\", \"2018-02-27T00:00:00\", \"2018-02-28T00:00:00\", \"2018-03-01T00:00:00\", \"2018-03-02T00:00:00\", \"2018-03-05T00:00:00\", \"2018-03-06T00:00:00\", \"2018-03-07T00:00:00\", \"2018-03-08T00:00:00\", \"2018-03-09T00:00:00\", \"2018-03-12T00:00:00\", \"2018-03-13T00:00:00\", \"2018-03-14T00:00:00\", \"2018-03-15T00:00:00\", \"2018-03-16T00:00:00\", \"2018-03-19T00:00:00\", \"2018-03-20T00:00:00\", \"2018-03-21T00:00:00\", \"2018-03-22T00:00:00\", \"2018-03-23T00:00:00\", \"2018-03-26T00:00:00\", \"2018-03-27T00:00:00\", \"2018-03-28T00:00:00\", \"2018-03-29T00:00:00\", \"2018-04-02T00:00:00\", \"2018-04-03T00:00:00\", \"2018-04-04T00:00:00\", \"2018-04-05T00:00:00\", \"2018-04-06T00:00:00\", \"2018-04-09T00:00:00\", \"2018-04-10T00:00:00\", \"2018-04-11T00:00:00\", \"2018-04-12T00:00:00\", \"2018-04-13T00:00:00\", \"2018-04-16T00:00:00\", \"2018-04-17T00:00:00\", \"2018-04-18T00:00:00\", \"2018-04-19T00:00:00\", \"2018-04-20T00:00:00\", \"2018-04-23T00:00:00\", \"2018-04-24T00:00:00\", \"2018-04-25T00:00:00\", \"2018-04-26T00:00:00\", \"2018-04-27T00:00:00\", \"2018-04-30T00:00:00\", \"2018-05-02T00:00:00\", \"2018-05-03T00:00:00\", \"2018-05-04T00:00:00\", \"2018-05-07T00:00:00\", \"2018-05-08T00:00:00\", \"2018-05-09T00:00:00\", \"2018-05-10T00:00:00\", \"2018-05-11T00:00:00\", \"2018-05-14T00:00:00\", \"2018-05-15T00:00:00\", \"2018-05-16T00:00:00\", \"2018-05-17T00:00:00\", \"2018-05-18T00:00:00\", \"2018-05-21T00:00:00\", \"2018-05-22T00:00:00\", \"2018-05-23T00:00:00\", \"2018-05-24T00:00:00\", \"2018-05-25T00:00:00\", \"2018-05-28T00:00:00\", \"2018-05-29T00:00:00\", \"2018-05-30T00:00:00\", \"2018-06-01T00:00:00\", \"2018-06-04T00:00:00\", \"2018-06-05T00:00:00\", \"2018-06-06T00:00:00\", \"2018-06-07T00:00:00\", \"2018-06-08T00:00:00\", \"2018-06-11T00:00:00\", \"2018-06-12T00:00:00\", \"2018-06-13T00:00:00\", \"2018-06-14T00:00:00\", \"2018-06-15T00:00:00\", \"2018-06-18T00:00:00\", \"2018-06-19T00:00:00\", \"2018-06-20T00:00:00\", \"2018-06-21T00:00:00\", \"2018-06-22T00:00:00\", \"2018-06-25T00:00:00\", \"2018-06-26T00:00:00\", \"2018-06-27T00:00:00\", \"2018-06-28T00:00:00\", \"2018-06-29T00:00:00\", \"2018-07-02T00:00:00\", \"2018-07-03T00:00:00\", \"2018-07-04T00:00:00\", \"2018-07-05T00:00:00\", \"2018-07-06T00:00:00\", \"2018-07-10T00:00:00\", \"2018-07-11T00:00:00\", \"2018-07-12T00:00:00\", \"2018-07-13T00:00:00\", \"2018-07-16T00:00:00\", \"2018-07-17T00:00:00\", \"2018-07-18T00:00:00\", \"2018-07-19T00:00:00\", \"2018-07-20T00:00:00\", \"2018-07-23T00:00:00\", \"2018-07-24T00:00:00\", \"2018-07-25T00:00:00\", \"2018-07-26T00:00:00\", \"2018-07-27T00:00:00\", \"2018-07-30T00:00:00\", \"2018-07-31T00:00:00\", \"2018-08-01T00:00:00\", \"2018-08-02T00:00:00\", \"2018-08-03T00:00:00\", \"2018-08-06T00:00:00\", \"2018-08-07T00:00:00\", \"2018-08-08T00:00:00\", \"2018-08-09T00:00:00\", \"2018-08-10T00:00:00\", \"2018-08-13T00:00:00\", \"2018-08-14T00:00:00\", \"2018-08-15T00:00:00\", \"2018-08-16T00:00:00\", \"2018-08-17T00:00:00\", \"2018-08-20T00:00:00\", \"2018-08-21T00:00:00\", \"2018-08-22T00:00:00\", \"2018-08-23T00:00:00\", \"2018-08-24T00:00:00\", \"2018-08-27T00:00:00\", \"2018-08-28T00:00:00\", \"2018-08-29T00:00:00\", \"2018-08-30T00:00:00\", \"2018-08-31T00:00:00\", \"2018-09-03T00:00:00\", \"2018-09-04T00:00:00\", \"2018-09-05T00:00:00\", \"2018-09-06T00:00:00\", \"2018-09-10T00:00:00\", \"2018-09-11T00:00:00\", \"2018-09-12T00:00:00\", \"2018-09-13T00:00:00\", \"2018-09-14T00:00:00\", \"2018-09-17T00:00:00\", \"2018-09-18T00:00:00\", \"2018-09-19T00:00:00\", \"2018-09-20T00:00:00\", \"2018-09-21T00:00:00\", \"2018-09-24T00:00:00\", \"2018-09-25T00:00:00\", \"2018-09-26T00:00:00\", \"2018-09-27T00:00:00\", \"2018-09-28T00:00:00\", \"2018-10-01T00:00:00\", \"2018-10-02T00:00:00\", \"2018-10-03T00:00:00\", \"2018-10-04T00:00:00\", \"2018-10-05T00:00:00\", \"2018-10-08T00:00:00\", \"2018-10-09T00:00:00\", \"2018-10-10T00:00:00\", \"2018-10-11T00:00:00\", \"2018-10-15T00:00:00\", \"2018-10-16T00:00:00\", \"2018-10-17T00:00:00\", \"2018-10-18T00:00:00\", \"2018-10-19T00:00:00\", \"2018-10-22T00:00:00\", \"2018-10-23T00:00:00\", \"2018-10-24T00:00:00\", \"2018-10-25T00:00:00\", \"2018-10-26T00:00:00\", \"2018-10-29T00:00:00\", \"2018-10-30T00:00:00\", \"2018-10-31T00:00:00\", \"2018-11-01T00:00:00\", \"2018-11-05T00:00:00\", \"2018-11-06T00:00:00\", \"2018-11-07T00:00:00\", \"2018-11-08T00:00:00\", \"2018-11-09T00:00:00\", \"2018-11-12T00:00:00\", \"2018-11-13T00:00:00\", \"2018-11-14T00:00:00\", \"2018-11-16T00:00:00\", \"2018-11-19T00:00:00\", \"2018-11-21T00:00:00\", \"2018-11-22T00:00:00\", \"2018-11-23T00:00:00\", \"2018-11-26T00:00:00\", \"2018-11-27T00:00:00\", \"2018-11-28T00:00:00\", \"2018-11-29T00:00:00\", \"2018-11-30T00:00:00\", \"2018-12-03T00:00:00\", \"2018-12-04T00:00:00\", \"2018-12-05T00:00:00\", \"2018-12-06T00:00:00\", \"2018-12-07T00:00:00\", \"2018-12-10T00:00:00\", \"2018-12-11T00:00:00\", \"2018-12-12T00:00:00\", \"2018-12-13T00:00:00\", \"2018-12-14T00:00:00\", \"2018-12-17T00:00:00\", \"2018-12-18T00:00:00\", \"2018-12-19T00:00:00\", \"2018-12-20T00:00:00\", \"2018-12-21T00:00:00\", \"2018-12-26T00:00:00\", \"2018-12-27T00:00:00\", \"2018-12-28T00:00:00\", \"2019-01-02T00:00:00\", \"2019-01-03T00:00:00\", \"2019-01-04T00:00:00\", \"2019-01-07T00:00:00\", \"2019-01-08T00:00:00\", \"2019-01-09T00:00:00\", \"2019-01-10T00:00:00\", \"2019-01-11T00:00:00\", \"2019-01-14T00:00:00\", \"2019-01-15T00:00:00\", \"2019-01-16T00:00:00\", \"2019-01-17T00:00:00\", \"2019-01-18T00:00:00\", \"2019-01-21T00:00:00\", \"2019-01-22T00:00:00\", \"2019-01-23T00:00:00\", \"2019-01-24T00:00:00\", \"2019-01-28T00:00:00\", \"2019-01-29T00:00:00\", \"2019-01-30T00:00:00\", \"2019-01-31T00:00:00\", \"2019-02-01T00:00:00\", \"2019-02-04T00:00:00\", \"2019-02-05T00:00:00\", \"2019-02-06T00:00:00\", \"2019-02-07T00:00:00\", \"2019-02-08T00:00:00\", \"2019-02-11T00:00:00\", \"2019-02-12T00:00:00\", \"2019-02-13T00:00:00\", \"2019-02-14T00:00:00\", \"2019-02-15T00:00:00\", \"2019-02-18T00:00:00\", \"2019-02-19T00:00:00\", \"2019-02-20T00:00:00\", \"2019-02-21T00:00:00\", \"2019-02-22T00:00:00\", \"2019-02-25T00:00:00\", \"2019-02-26T00:00:00\", \"2019-02-27T00:00:00\", \"2019-02-28T00:00:00\", \"2019-03-01T00:00:00\", \"2019-03-07T00:00:00\", \"2019-03-08T00:00:00\", \"2019-03-11T00:00:00\", \"2019-03-12T00:00:00\", \"2019-03-13T00:00:00\", \"2019-03-14T00:00:00\", \"2019-03-15T00:00:00\", \"2019-03-18T00:00:00\", \"2019-03-19T00:00:00\", \"2019-03-20T00:00:00\", \"2019-03-21T00:00:00\", \"2019-03-22T00:00:00\", \"2019-03-25T00:00:00\", \"2019-03-26T00:00:00\", \"2019-03-27T00:00:00\", \"2019-03-28T00:00:00\", \"2019-03-29T00:00:00\", \"2019-04-01T00:00:00\", \"2019-04-02T00:00:00\", \"2019-04-03T00:00:00\", \"2019-04-04T00:00:00\", \"2019-04-05T00:00:00\", \"2019-04-08T00:00:00\", \"2019-04-09T00:00:00\", \"2019-04-10T00:00:00\", \"2019-04-11T00:00:00\", \"2019-04-12T00:00:00\", \"2019-04-15T00:00:00\", \"2019-04-16T00:00:00\", \"2019-04-17T00:00:00\", \"2019-04-18T00:00:00\", \"2019-04-22T00:00:00\", \"2019-04-23T00:00:00\", \"2019-04-24T00:00:00\", \"2019-04-25T00:00:00\", \"2019-04-26T00:00:00\", \"2019-04-29T00:00:00\", \"2019-04-30T00:00:00\", \"2019-05-02T00:00:00\", \"2019-05-03T00:00:00\", \"2019-05-06T00:00:00\", \"2019-05-07T00:00:00\", \"2019-05-08T00:00:00\", \"2019-05-09T00:00:00\", \"2019-05-10T00:00:00\", \"2019-05-13T00:00:00\", \"2019-05-14T00:00:00\", \"2019-05-15T00:00:00\", \"2019-05-16T00:00:00\", \"2019-05-17T00:00:00\", \"2019-05-20T00:00:00\", \"2019-05-21T00:00:00\", \"2019-05-22T00:00:00\", \"2019-05-23T00:00:00\", \"2019-05-24T00:00:00\", \"2019-05-27T00:00:00\", \"2019-05-28T00:00:00\", \"2019-05-29T00:00:00\", \"2019-05-30T00:00:00\", \"2019-05-31T00:00:00\", \"2019-06-03T00:00:00\", \"2019-06-04T00:00:00\", \"2019-06-05T00:00:00\", \"2019-06-06T00:00:00\", \"2019-06-07T00:00:00\", \"2019-06-10T00:00:00\", \"2019-06-11T00:00:00\", \"2019-06-12T00:00:00\", \"2019-06-13T00:00:00\", \"2019-06-14T00:00:00\", \"2019-06-17T00:00:00\", \"2019-06-18T00:00:00\", \"2019-06-19T00:00:00\", \"2019-06-21T00:00:00\", \"2019-06-24T00:00:00\", \"2019-06-25T00:00:00\", \"2019-06-26T00:00:00\", \"2019-06-27T00:00:00\", \"2019-06-28T00:00:00\", \"2019-07-01T00:00:00\", \"2019-07-02T00:00:00\", \"2019-07-03T00:00:00\", \"2019-07-04T00:00:00\", \"2019-07-05T00:00:00\", \"2019-07-08T00:00:00\", \"2019-07-10T00:00:00\", \"2019-07-11T00:00:00\", \"2019-07-12T00:00:00\", \"2019-07-15T00:00:00\", \"2019-07-16T00:00:00\", \"2019-07-17T00:00:00\", \"2019-07-18T00:00:00\", \"2019-07-19T00:00:00\", \"2019-07-22T00:00:00\", \"2019-07-23T00:00:00\", \"2019-07-24T00:00:00\", \"2019-07-25T00:00:00\", \"2019-07-26T00:00:00\", \"2019-07-29T00:00:00\", \"2019-07-30T00:00:00\", \"2019-07-31T00:00:00\", \"2019-08-01T00:00:00\", \"2019-08-02T00:00:00\", \"2019-08-05T00:00:00\", \"2019-08-06T00:00:00\", \"2019-08-07T00:00:00\", \"2019-08-08T00:00:00\", \"2019-08-09T00:00:00\", \"2019-08-12T00:00:00\", \"2019-08-13T00:00:00\", \"2019-08-14T00:00:00\", \"2019-08-15T00:00:00\", \"2019-08-16T00:00:00\", \"2019-08-19T00:00:00\", \"2019-08-20T00:00:00\", \"2019-08-21T00:00:00\", \"2019-08-22T00:00:00\", \"2019-08-23T00:00:00\", \"2019-08-26T00:00:00\", \"2019-08-27T00:00:00\", \"2019-08-28T00:00:00\", \"2019-08-29T00:00:00\", \"2019-08-30T00:00:00\", \"2019-09-02T00:00:00\", \"2019-09-03T00:00:00\", \"2019-09-04T00:00:00\", \"2019-09-05T00:00:00\", \"2019-09-06T00:00:00\", \"2019-09-09T00:00:00\", \"2019-09-10T00:00:00\", \"2019-09-11T00:00:00\", \"2019-09-12T00:00:00\", \"2019-09-13T00:00:00\", \"2019-09-16T00:00:00\", \"2019-09-17T00:00:00\", \"2019-09-18T00:00:00\", \"2019-09-19T00:00:00\", \"2019-09-20T00:00:00\", \"2019-09-23T00:00:00\", \"2019-09-24T00:00:00\", \"2019-09-25T00:00:00\", \"2019-09-26T00:00:00\", \"2019-09-27T00:00:00\", \"2019-09-30T00:00:00\", \"2019-10-01T00:00:00\", \"2019-10-02T00:00:00\", \"2019-10-03T00:00:00\", \"2019-10-04T00:00:00\", \"2019-10-07T00:00:00\", \"2019-10-08T00:00:00\", \"2019-10-09T00:00:00\", \"2019-10-10T00:00:00\", \"2019-10-11T00:00:00\", \"2019-10-14T00:00:00\", \"2019-10-15T00:00:00\", \"2019-10-16T00:00:00\", \"2019-10-17T00:00:00\", \"2019-10-18T00:00:00\", \"2019-10-21T00:00:00\", \"2019-10-22T00:00:00\", \"2019-10-23T00:00:00\", \"2019-10-24T00:00:00\", \"2019-10-25T00:00:00\", \"2019-10-28T00:00:00\", \"2019-10-29T00:00:00\", \"2019-10-30T00:00:00\", \"2019-10-31T00:00:00\", \"2019-11-01T00:00:00\", \"2019-11-04T00:00:00\", \"2019-11-05T00:00:00\", \"2019-11-06T00:00:00\", \"2019-11-07T00:00:00\", \"2019-11-08T00:00:00\", \"2019-11-11T00:00:00\", \"2019-11-12T00:00:00\", \"2019-11-13T00:00:00\", \"2019-11-14T00:00:00\", \"2019-11-18T00:00:00\", \"2019-11-19T00:00:00\", \"2019-11-21T00:00:00\", \"2019-11-22T00:00:00\", \"2019-11-25T00:00:00\", \"2019-11-26T00:00:00\", \"2019-11-27T00:00:00\", \"2019-11-28T00:00:00\", \"2019-11-29T00:00:00\", \"2019-12-02T00:00:00\", \"2019-12-03T00:00:00\", \"2019-12-04T00:00:00\", \"2019-12-05T00:00:00\", \"2019-12-06T00:00:00\", \"2019-12-09T00:00:00\", \"2019-12-10T00:00:00\", \"2019-12-11T00:00:00\", \"2019-12-12T00:00:00\", \"2019-12-13T00:00:00\", \"2019-12-16T00:00:00\", \"2019-12-17T00:00:00\", \"2019-12-18T00:00:00\", \"2019-12-19T00:00:00\", \"2019-12-20T00:00:00\", \"2019-12-23T00:00:00\", \"2019-12-26T00:00:00\", \"2019-12-27T00:00:00\", \"2019-12-30T00:00:00\", \"2020-01-02T00:00:00\", \"2020-01-03T00:00:00\", \"2020-01-06T00:00:00\", \"2020-01-07T00:00:00\", \"2020-01-08T00:00:00\", \"2020-01-09T00:00:00\", \"2020-01-10T00:00:00\", \"2020-01-13T00:00:00\", \"2020-01-14T00:00:00\", \"2020-01-15T00:00:00\", \"2020-01-16T00:00:00\", \"2020-01-17T00:00:00\", \"2020-01-20T00:00:00\", \"2020-01-21T00:00:00\", \"2020-01-22T00:00:00\", \"2020-01-23T00:00:00\", \"2020-01-24T00:00:00\", \"2020-01-27T00:00:00\", \"2020-01-28T00:00:00\", \"2020-01-29T00:00:00\", \"2020-01-30T00:00:00\", \"2020-01-31T00:00:00\", \"2020-02-03T00:00:00\", \"2020-02-04T00:00:00\", \"2020-02-05T00:00:00\", \"2020-02-06T00:00:00\", \"2020-02-07T00:00:00\", \"2020-02-10T00:00:00\", \"2020-02-11T00:00:00\", \"2020-02-12T00:00:00\", \"2020-02-13T00:00:00\", \"2020-02-14T00:00:00\", \"2020-02-17T00:00:00\", \"2020-02-18T00:00:00\", \"2020-02-19T00:00:00\", \"2020-02-20T00:00:00\", \"2020-02-21T00:00:00\", \"2020-02-27T00:00:00\", \"2020-02-28T00:00:00\", \"2020-03-02T00:00:00\", \"2020-03-03T00:00:00\", \"2020-03-04T00:00:00\", \"2020-03-05T00:00:00\", \"2020-03-06T00:00:00\", \"2020-03-09T00:00:00\", \"2020-03-10T00:00:00\", \"2020-03-11T00:00:00\", \"2020-03-12T00:00:00\", \"2020-03-13T00:00:00\", \"2020-03-16T00:00:00\", \"2020-03-17T00:00:00\", \"2020-03-18T00:00:00\", \"2020-03-19T00:00:00\", \"2020-03-20T00:00:00\", \"2020-03-23T00:00:00\", \"2020-03-24T00:00:00\", \"2020-03-25T00:00:00\", \"2020-03-26T00:00:00\", \"2020-03-27T00:00:00\", \"2020-03-30T00:00:00\", \"2020-03-31T00:00:00\", \"2020-04-01T00:00:00\", \"2020-04-02T00:00:00\", \"2020-04-03T00:00:00\", \"2020-04-06T00:00:00\", \"2020-04-07T00:00:00\", \"2020-04-08T00:00:00\", \"2020-04-09T00:00:00\", \"2020-04-13T00:00:00\", \"2020-04-14T00:00:00\", \"2020-04-15T00:00:00\", \"2020-04-16T00:00:00\", \"2020-04-17T00:00:00\", \"2020-04-20T00:00:00\", \"2020-04-22T00:00:00\", \"2020-04-23T00:00:00\", \"2020-04-24T00:00:00\", \"2020-04-27T00:00:00\", \"2020-04-28T00:00:00\", \"2020-04-29T00:00:00\", \"2020-04-30T00:00:00\", \"2020-05-04T00:00:00\", \"2020-05-05T00:00:00\", \"2020-05-06T00:00:00\", \"2020-05-07T00:00:00\", \"2020-05-08T00:00:00\", \"2020-05-11T00:00:00\", \"2020-05-12T00:00:00\", \"2020-05-13T00:00:00\", \"2020-05-14T00:00:00\", \"2020-05-15T00:00:00\", \"2020-05-18T00:00:00\", \"2020-05-19T00:00:00\", \"2020-05-20T00:00:00\", \"2020-05-21T00:00:00\", \"2020-05-22T00:00:00\", \"2020-05-25T00:00:00\", \"2020-05-26T00:00:00\", \"2020-05-27T00:00:00\", \"2020-05-28T00:00:00\", \"2020-05-29T00:00:00\", \"2020-06-01T00:00:00\", \"2020-06-02T00:00:00\", \"2020-06-03T00:00:00\", \"2020-06-04T00:00:00\", \"2020-06-05T00:00:00\", \"2020-06-08T00:00:00\", \"2020-06-09T00:00:00\", \"2020-06-10T00:00:00\", \"2020-06-12T00:00:00\", \"2020-06-15T00:00:00\", \"2020-06-16T00:00:00\", \"2020-06-17T00:00:00\", \"2020-06-18T00:00:00\", \"2020-06-19T00:00:00\", \"2020-06-22T00:00:00\", \"2020-06-23T00:00:00\", \"2020-06-24T00:00:00\", \"2020-06-25T00:00:00\", \"2020-06-26T00:00:00\", \"2020-06-29T00:00:00\", \"2020-06-30T00:00:00\", \"2020-07-01T00:00:00\", \"2020-07-02T00:00:00\", \"2020-07-03T00:00:00\", \"2020-07-06T00:00:00\", \"2020-07-07T00:00:00\", \"2020-07-08T00:00:00\", \"2020-07-09T00:00:00\", \"2020-07-10T00:00:00\", \"2020-07-13T00:00:00\", \"2020-07-14T00:00:00\", \"2020-07-15T00:00:00\", \"2020-07-16T00:00:00\", \"2020-07-17T00:00:00\", \"2020-07-20T00:00:00\", \"2020-07-21T00:00:00\", \"2020-07-22T00:00:00\", \"2020-07-23T00:00:00\", \"2020-07-24T00:00:00\", \"2020-07-27T00:00:00\", \"2020-07-28T00:00:00\", \"2020-07-29T00:00:00\", \"2020-07-30T00:00:00\", \"2020-07-31T00:00:00\", \"2020-08-03T00:00:00\", \"2020-08-04T00:00:00\", \"2020-08-05T00:00:00\", \"2020-08-06T00:00:00\", \"2020-08-07T00:00:00\", \"2020-08-10T00:00:00\", \"2020-08-11T00:00:00\", \"2020-08-12T00:00:00\", \"2020-08-13T00:00:00\", \"2020-08-14T00:00:00\", \"2020-08-17T00:00:00\", \"2020-08-18T00:00:00\", \"2020-08-19T00:00:00\", \"2020-08-20T00:00:00\", \"2020-08-21T00:00:00\", \"2020-08-24T00:00:00\", \"2020-08-25T00:00:00\", \"2020-08-26T00:00:00\", \"2020-08-27T00:00:00\", \"2020-08-28T00:00:00\", \"2020-08-31T00:00:00\", \"2020-09-01T00:00:00\", \"2020-09-02T00:00:00\", \"2020-09-03T00:00:00\", \"2020-09-04T00:00:00\", \"2020-09-08T00:00:00\", \"2020-09-09T00:00:00\", \"2020-09-10T00:00:00\", \"2020-09-11T00:00:00\", \"2020-09-14T00:00:00\", \"2020-09-15T00:00:00\", \"2020-09-16T00:00:00\", \"2020-09-17T00:00:00\", \"2020-09-18T00:00:00\", \"2020-09-21T00:00:00\", \"2020-09-22T00:00:00\", \"2020-09-23T00:00:00\", \"2020-09-24T00:00:00\", \"2020-09-25T00:00:00\", \"2020-09-28T00:00:00\", \"2020-09-29T00:00:00\", \"2020-09-30T00:00:00\", \"2020-10-01T00:00:00\", \"2020-10-02T00:00:00\", \"2020-10-05T00:00:00\", \"2020-10-06T00:00:00\", \"2020-10-07T00:00:00\", \"2020-10-08T00:00:00\", \"2020-10-09T00:00:00\", \"2020-10-13T00:00:00\", \"2020-10-14T00:00:00\", \"2020-10-15T00:00:00\", \"2020-10-16T00:00:00\", \"2020-10-19T00:00:00\", \"2020-10-20T00:00:00\", \"2020-10-21T00:00:00\", \"2020-10-22T00:00:00\", \"2020-10-23T00:00:00\", \"2020-10-26T00:00:00\", \"2020-10-27T00:00:00\", \"2020-10-28T00:00:00\", \"2020-10-29T00:00:00\", \"2020-10-30T00:00:00\", \"2020-11-03T00:00:00\", \"2020-11-04T00:00:00\", \"2020-11-05T00:00:00\", \"2020-11-06T00:00:00\", \"2020-11-09T00:00:00\", \"2020-11-10T00:00:00\", \"2020-11-11T00:00:00\", \"2020-11-12T00:00:00\", \"2020-11-13T00:00:00\", \"2020-11-16T00:00:00\", \"2020-11-17T00:00:00\", \"2020-11-18T00:00:00\", \"2020-11-19T00:00:00\", \"2020-11-23T00:00:00\", \"2020-11-24T00:00:00\", \"2020-11-25T00:00:00\", \"2020-11-26T00:00:00\", \"2020-11-27T00:00:00\", \"2020-11-30T00:00:00\", \"2020-12-01T00:00:00\", \"2020-12-02T00:00:00\", \"2020-12-03T00:00:00\", \"2020-12-04T00:00:00\", \"2020-12-07T00:00:00\", \"2020-12-08T00:00:00\", \"2020-12-09T00:00:00\", \"2020-12-10T00:00:00\", \"2020-12-11T00:00:00\", \"2020-12-14T00:00:00\", \"2020-12-15T00:00:00\", \"2020-12-16T00:00:00\", \"2020-12-17T00:00:00\", \"2020-12-18T00:00:00\", \"2020-12-21T00:00:00\", \"2020-12-22T00:00:00\", \"2020-12-23T00:00:00\", \"2020-12-28T00:00:00\", \"2020-12-29T00:00:00\", \"2020-12-30T00:00:00\"], \"y\": [null, -0.03196346825974394, 0.0028301805020638504, -0.00987767615077606, -0.032779095871041, 0.0019646308223442155, -0.024509829560258267, 0.006030133390339643, -0.010988979536526888, 0.004040392347564037, 0.007042233223012895, -0.012986975815895363, 0.009109285325379135, 0.033099301869275566, 0.07184474121137296, 0.033061496568907556, 0.006576130955753046, -0.037456508512412556, 0.004524963338775834, 0.027026947645101718, -0.008333309501345587, 0.018575885212856802, -0.01128967509549339, 0.010101067951644893, -0.018260902135626034, -0.03321522631141283, 0.005038922647545574, -0.04284408691531405, -0.053809555038416446, -0.01660800323301881, 0.01995910295066694, 0.033617664303597916, 0.019902951267493973, -0.020466478927494203, -0.018464475485158394, -0.009901058860929735, -0.00999997134961772, 0.01010098086890987, 0.0, -0.006499981377251496, 0.004026158495086918, 0.06265665972448087, -0.040094316981521105, 0.0, 0.0, -0.03882062283689991, -0.003067475676420961, 0.07589741552798923, -0.026215460921157674, -0.06412139749757562, 0.0015690331167985683, -0.023498729808148933, -0.010695156653614202, 0.0, 0.05189184905451594, -0.0339157296765249, -0.04042552229932039, -0.06319283422799604, -0.03017754350315649, 0.10616222803053832, 0.11417551230058698, 0.054455383561978765, 0.02769954362543614, 0.03334855492513866, -0.06719715164594031, 0.04739332099167881, 0.006787400304805402, 0.02921348633901899, 0.10087332536995697, -0.03451009333309718, 0.08299096238100234, -0.01365709117907532, 0.00884612829990461, 0.010674844620065516, 0.056205191272103994, -0.04285715999495021, 0.023880602076791435, 0.014941719933084796, 0.02692997465896596, -0.019580431851817792, -0.030670452611622046, -0.008462079882010864, 0.05602966691802114, -0.057624776723230076, -0.07531693228073444, 0.04717744338521945, -0.0007701171419539632, 0.047013503731307305, 0.004784675076906497, 0.017948738362705052, -0.010795289721114654, 0.005820281556551565, -0.06509941434380673, 0.05570598720159414, 0.004030768831993603, -0.03102188044000298, 0.017325824511047694, -0.05035179370935983, 0.0019493892155160175, -0.04046696160964325, 0.019870258008076958, -0.013916539104676717, 0.00806457267110483, -0.044000029401218166, -0.004184088311462886, -0.031092429649450026, -0.017346088923543612, 0.03265674414922093, -0.014957305192406345, -0.008242926084031876, 0.02405950829250747, 0.03374624699396578, 0.0, -0.04752068477429472, -0.014316746815155157, -0.0171654436943548, -0.03179578605757272, -0.03330249168472721, 0.04162676680103017, -0.032613684601567106, -0.029439704303524272, -0.0019569414872174784, -0.035294111949572216, 0.011178829239974819, -0.0125627778965407, 0.05852410292155952, 0.02644232733062224, 0.04074939015846524, -0.04050402407204823, -0.052532774771056, 0.0004949502359816726, -0.004453228343685334, 0.01143147717991222, -0.019164660436064462, -0.018036020366697603, -0.026530635493063226, -0.016247435901684426, -0.053276458904677804, 0.049521744946279034, -0.03270788966343474, -0.023835852299051385, 0.05621800612110239, -0.04032257122148253, 0.013445450148888982, -0.042564936710409285, -0.01674371337847458, 0.016441642027041015, -0.02484117271648789, -0.004739322623815823, 0.057142806737543905, -0.03716216592077626, -0.05730994929130895, -0.044665006323884704, -0.008441598224266489, 0.008513465479339288, -0.046753240088081016, -0.047002723374483524, 0.03145101601126332, -0.03672899957880582, 0.11151075071602845, 0.02394827904276209, -0.032869813503997425, 0.04575163018860362, 0.05187503469382104, -0.07308385796709149, -0.051923055610177515, 0.03177827085181839, 0.012450815626894318, 0.0355987309552972, -0.06499999660394185, -0.015374352916376899, 0.008825500684149779, -0.020861313174661666, 0.10378003732188223, 0.024906589753837638, 0.046172526508235556, 0.039488967784183426, -0.011731809904963031, -0.04691913880755305, -0.09311988895648371, -0.004578078027822952, 0.024967075560007546, 0.0006410238142056102, -0.0429212086943902, -0.032797830966444175, 0.028373689315954298, -0.03970392255740596, 0.04204626999124561, 0.03900472891096185, 0.12233006480466369, 0.08189168872258801, -0.061300669527000196, -0.03463942057663849, 0.048823503773075094, -0.074593388653037, 0.04606059343233859, 0.026651254889493936, -0.016929973490536154, -0.021814055983652048, 0.009389644141809983, -0.01569762933596941, -0.013585428518009035, -0.0011976013897003757, -0.03537166130523306, 0.004350515723448023, -0.06930691495530505, -0.0305850836717787, 0.06310008884043872, -0.007096753838402248, 0.007147477728406182, 0.0, -0.032903195170928656, -0.03935959072352713, -0.002777769773600225, -0.0076601449966337, 0.05263156435170213, -0.04000001580710688, 0.009027751764200787, 0.010323507197918191, -0.012261612197045912, 0.006896531988747956, -0.006849295602524896, 0.03034480888457547, 0.010709540360597014, -0.025165555894611558, 0.0027173834620155546, -0.004065028950580363, 0.05714282641961699, 0.04954959851892293, -0.012875559617978816, -0.06956520084997564, -0.02202937452185616, 0.005460735018332219, -0.016972116700287865, -0.008977942441200426, 0.0139373107759857, -0.030927880551507747, 0.020567386868652004, -0.002084775086505175, -0.03481897849047355, 0.031024585127575888, -0.013296041724567553, 0.03546096110435637, 0.02260281082315929, 0.019423988184372964, 0.0006570283042106606, -0.04858836531307942, 0.014492780302751473, 0.005442161143375257, -0.031799704806549145, 0.026554848783095775, -0.042886327706535, 0.0277382549349956, -0.0034601976763551923, -0.022222226796037914, -0.018465855967698674, -0.024602025428481444, 0.02002961487181354, -0.0625454184895734, 0.018619106978181588, -0.006854511492469073, -0.003067551361540799, 0.07692308276890047, -0.007857120124345474, -0.04535638147561305, 0.014328766810976612, -0.06319706534292424, -0.008730134087558183, 0.04003206982463947, -0.020785235383217415, -0.0361634957566942, 0.004893949913647555, -0.07873377951202609, -0.0361234183426683, 0.021023797446498182, -0.04655322436877263, 0.11267601060894372, -0.048945175680664366, 0.0026620145332125755, 0.010619438387821978, -0.006129579698940013, 0.03259911234736146, -0.01023896280019132, -0.004310247545618484, 0.01298706075403322, 0.01794866490328495, 0.01931152982284945, 0.03047767018355252, -0.016786523019100774, 0.02195123635994456, 0.002386549309064012, 0.10158740687841283, 0.012247802874105984, 0.004982192042148226, -0.03611901649174154, 0.09257901430747983, -0.024882308735958203, 0.07034483068748254, 0.043814434794376744, -0.010493797082478773, -0.032439205840790075, 0.008381728904922836, -0.04219949220680075, 0.01602138127522612, -0.014454687603553174, -0.053333376363791096, -0.029577449992106875, -0.1204643825319992, 0.0420791659534232, 0.0015835266916628399, 0.016600742543539937, -0.00699842489730107, -0.039154310465609576, 0.03504488705027309, 0.0826771607603809, -0.050909088296345884, 0.03908049875360042, -0.0007374609776625851, 0.0036899532275880276, 0.018382373505543725, -0.002165987469871289, -0.015195467466648793, 0.024246881242931062, 0.022238242258670216, -0.004912335727416672, -0.03385046662946667, 0.013868645247267386, -0.002879832346799893, -0.0036100266709275797, -0.013043583156010508, -0.08737148292390584, -0.1150442365337162, -0.0045454414817295286, -0.011872111842139654, -0.028650745852186743, -0.09990475878931993, 0.09408027202927483, -0.000966180808109729, 0.003868556410945745, 0.023121319063409862, 0.048022646434586536, -0.012578668270811, -0.04913552634772578, 0.004784580432409369, 0.03428571159743066, 0.008287360417622125, -0.09589040477923194, -0.040404123060323816, -0.006315771739947684, -0.015889785608770968, -0.03121637839220326, -0.007777755579524759, 0.06382971426396722, 0.014736904720678456, -0.029045559805674248, -0.020299296406458778, -0.007633566403430381, 0.010989088535656055, 0.010869533702158707, 0.0010752657330912463, 0.042964643376014466, 0.008238904629408461, 0.002042894940767148, -0.00509692578162646, -0.01946715793948839, -0.04806683994746652, 0.012074607894074996, 0.008676764484927935, 0.010752657330912463, -0.0148935747574781, 0.015118746945347983, 0.12553197907197777, 0.07277880405901249, -0.02378856496795101, 0.04512640336229157, 0.054404157897026906, -0.004913990600208806, 0.04362135279884183, 0.02523659822140445, 0.03846150338659671, -0.007407386266214067, 0.037313473000627706, 0.014388447279425565, -0.031914872000617156, -0.018315037668538592, -0.03731339927344812, -0.03100781486814619, 0.0112000471684095, 0.01819622806972987, 0.010100980636294388, 0.03846150338659671, -0.022222231979696083, 0.018939414918466957, 0.011152384408874116, 0.013235329264019935, -0.049346881408553256, 0.03053433905551639, 0.0, 0.020740754726453314, 0.015239505494489824, 0.08649031168544474, 0.0401316591665235, 0.010752656591802578, 0.0043804628660655265, 0.02180685204849464, -0.014634164266685179, -0.004950480824987169, 0.0037313939480922986, 0.008674014914406225, 0.0018428072714393728, 0.03985285628531776, -0.025353816243083638, -0.010889260956767455, -0.0030580951058514216, 0.012269902953577327, 0.02242429772734522, -0.00592778204370803, 0.009540937593853327, -0.03662139201974535, 0.011649261040775905, -0.023030296716169296, -0.004342419253487995, -0.008099665040754656, 0.0376883943431261, 0.0, -0.007263901666779149, 0.006097543344244061, -0.003030294321152982, -0.02735560429813977, -0.0006249981861962128, 0.0006253890532201822, 0.00624998186196235, -0.027950291311607645, 0.01916927340840613, 0.033228931268564965, -0.001820442950272172, 0.033434674186813895, 0.0011764671697434004, 0.0017626270817208134, -0.03929618972236737, -0.02564107203645094, -0.026942341073756704, 0.0045073921192586575, 0.038461555511857926, 0.03950624255725832, 0.010688804750673686, 0.013513474293193273, 0.013913118181037243, -0.010863318577247427, -0.033526026216953, 0.0011961687148585032, -0.03225814637838209, -0.032716016594291575, 0.0006381602424025967, -0.053571462324987995, -0.06603774652586825, 0.020923603826665804, 0.04240277233186651, 0.0033898877246627546, -0.020270344239791682, -0.07862066907398013, -0.15419161577016272, -0.008849531989851611, -0.009821488191465, 0.004508642507614402, -0.0035907424489006745, -0.009008983350202504, -0.02181820892541131, -0.021375403842864293, 0.011395978250967387, -0.03661970576702456, -0.034113058176432176, 0.07971752572119173, 0.05887842304173785, -0.04236545407633363, -0.047926223054503336, -0.05130682161610456, 0.025510129502341217, 0.07761191564941994, -0.03416426165033026, -0.004780195176584678, -0.03938518930188306, 0.034999998518083775, 0.0028986378778768085, -0.001926871766279481, 0.08976836903950658, -0.06111611792010885, -0.01792447818367371, -0.0009606120584999545, -0.03846152384697887, 0.0069999799447324484, 0.024826243958652405, -0.01647282090811597, -0.0009852187979980664, 0.0059171424679780316, 0.0, 0.025490218868377656, 0.022944577938640354, 0.02990645369422773, -0.03085299569428457, 0.008426942126727566, -0.011142029597048131, 0.014084559304064381, 0.09814804379739384, 0.011804434353603677, -0.0074999783887206295, -0.011754876699008876, 0.0, 0.0033985449268685297, 0.003386866633478647, 0.008438878015480933, 0.02677816519336207, 0.03422989342199023, -0.020488592514279036, -0.027353179010564777, -0.007444147443769866, 0.023333266098241934, -0.007328969591027246, 0.004922134351826424, 0.017959212180246764, 0.002405687579418725, 0.09600004299533316, -0.05766421146909462, 0.019364777150098655, -0.008358638769003446, -0.0038314066024046634, 0.007692285478178018, -0.01450377522896551, -0.008520501946043368, 0.0, 0.027343746985033723, -0.02661596672513944, -0.027343824168170272, -0.012048158352937488, 0.03495932882766528, 0.00864098068635033, 0.000778813982180937, -0.0038909626321048663, 0.017968697298389458, -0.01765152243490109, -0.05078125542693934, -0.05843628687166147, 0.052447662056749556, 0.0074750609751894626, -0.01896127894216182, 0.01680667385347623, -0.0173553223045555, 0.0084104044729858, -0.005004155710222724, 0.007543984840149731, 0.021630553415603382, -0.008957629500144448, -0.008039609339084763, -0.002544463251402118, 0.011904780462638875, 0.004201733476542513, 0.033472737808675435, 0.012145745508568728, 0.004000050326749438, -0.00956181130714251, -0.016090151921319462, -0.0032705610610578306, -0.010664517975042864, -0.02155887177443172, 0.006779730034036424, 0.010942638092390933, 0.023313942806286958, 0.05370221453863633, 0.028571430700172762, 0.012762793053374688, 0.02075614745304466, 0.010893242523613234, -0.008620742238337642, -0.03623192053635782, 0.0060150264667258035, 0.06053820357858197, 0.015503880185754992, -0.028452459013319942, 0.029285709461447818, -0.012491334900979978, 0.017568534418344717, 0.0497236608212861, -0.01315780703808489, -0.11000002894559868, -0.03295881124289013, 0.037955132750664644, -0.019403055359104693, -0.1118721018603166, 0.05312761701987978, 0.021155489218725565, 0.035059692896811656, -0.0069283749032361674, 0.0147286727777034, 0.0160427318719798, 0.0, -0.026315758928266986, -0.024710378223252727, -0.0023753114287444754, -0.00317459709716994, 0.011146436998805465, 0.0007874570887167476, 0.010228128214200716, 0.0007787959502010278, -0.007782049162319615, 0.025882284566796754, 0.018348663781351915, -0.024024051214878606, 0.0, -0.023846128154792146, -0.010244248554126645, -0.03025475737588479, -0.032840817191118865, -0.02376905636602966, 0.008695677708783878, 0.021551662113695746, -0.01434594463174721, -0.029965799749815503, 0.004413118360938162, 0.028119454266080313, 0.0025642008890669477, -0.0008525749449569409, -0.014505153732747522, -0.004328975398411372, -0.018260898018359062, 0.03011513290021761, 0.008598560850265669, 0.044330771440902694, 0.006530599514139368, 0.0340632334948856, -0.018823569118761263, -0.0007993397348897702, -0.016800026120509237, 0.021155489218725565, 0.0007967919820155434, 0.029458599765869398, -0.0015468247483900743, 0.015491912272037611, 0.014492670426871301, 0.015037638712180446, -0.014814858226596783, 0.005263166294726673, 0.024682204582396672, -0.007299361577006946, 0.0, -0.014705784281772383, -0.001492642417743717, -0.020926717871680545, -0.02290075717418172, 0.0992188080066243, 0.05899066334726055, 0.01744972935862954, 0.005936648215438156, 0.08852462916257497, 0.11325296919072292, -0.022186092432740945, 0.018262264529344874, 0.027173940402268393, 0.008994679012704898, -0.02307289646541899, 0.006441263530087005, -0.0010666388926139359, -0.006940761923974081, -0.005914031986028134, -0.0027040941404649077, 0.022234217192659944, 0.0021220631092908615, 0.00899944049746182, 0.0, -0.003147973165130935, -0.007894734703926098, -0.014323542093812591, -0.005920397839434877, 0.07742281878633683, 0.0713568689025148, -0.01735459679270457, -0.01050119591145382, -0.014471775179226265, 0.003426338954701569, 0.011219502047230323, -0.03666191112998518, -0.023535270970147737, 0.029230800136524238, 0.0024912156045668876, 0.05069585012355593, 0.07852409025148521, 0.08333336859844143, 0.039271249019423804, -0.05336965722335729, 0.006172837545387777, -0.018813889467669376, 0.04085033536996874, -0.04285138763060392, 0.0, -0.11087867612120594, -0.04094119916233485, -0.05593725177397135, 0.08731812589370547, 0.023422598562165664, 0.05137778436335583, -0.025766256879027227, 0.025079762085568502, 0.03380789409687446, -0.030550808326168855, -0.029294282398386384, -0.03932322091770213, 0.010471114745804977, 0.04804524257767362, 0.0, -0.0669662843390213, -0.043352588260839875, -0.09566972284516095, 0.04788423135249009, -0.026036171437512468, -0.03218767571200443, 0.018602089587339776, 0.03541775103645639, 0.0, 0.031533944582454065, -0.008808261144306107, 0.0, -0.0282278857436139, -0.032813315992617054, -0.02113457942862007, -0.010227334774911778, 0.014351389826325223, 0.03508767714776506, -0.03772549950544013, -0.02329550450750928, -0.017452001495270042, -0.034931916432851096, -0.020858944367624477, 0.04824568986832656, -0.025702353203889583, 0.04294473225617024, -0.0011764400067244551, -0.01060065812315003, 0.01190468122683841, -0.005882313545780393, 0.013017755127767039, 0.07768692201088512, -0.018970218613269973, -0.005524824769842507, 0.025555533042312062, 0.02275182645268181, 0.0, 0.029661064588961228, 0.05298355083893602, 0.0014656154934609145, 0.0, -0.024390266861469723, -0.007999984562347406, 0.02721771330552114, -0.01864571902922696, -0.007999984562347406, 0.0005040191196570287, -0.03324937894556945, -0.016675420234084748, -0.016428175231687492, 0.024245683269006335, -0.0026301262846355478, 0.002109649672764169, -0.014210461528961438, 0.011211873227861213, 0.032207049583375946, -0.015345362199506218, 0.05870137853237822, 0.0, 0.018645719029226848, -0.02215797716179191, -0.004926075126994611, 0.05198017981234648, 0.05364702279877909, -0.02411788533802184, -0.02791759932137916, 0.009886929554354884, 0.02237767031595639, 0.0009119689501146944, -0.07015947376944054, 0.061734446077273075, 0.026765129496942208, 0.04269664577957988, 0.028017260560215362, -0.004192843790374101, 0.005473622699393665, 0.008793983452684673, -0.012453296333805763, 0.01345100406795785, -0.01327247594009573, -0.011349335378708747, 0.016156534653782195, 0.009205023082600405, 0.02280261870455247, 0.012565855050484798, -0.09527621262709474, 0.03761057923217326, 0.0255864292164667, -0.00873182174325915, 0.006711396358002553, 0.05833326096933655, 0.031496080340224, 0.0251909212751118, 0.03239011682770898, 0.009736772149872674, -0.008571412031086467, -0.02773779375454921, -0.03408666963808604, -0.056003089899159364, -0.00040632830856868196, 0.04227641995812381, -0.027691139169627066, 0.022864043844669224, -0.029411755802968287, 0.024242416681896417, -0.02998025685574901, 0.011386681336308158, -0.011258484560290327, -0.0032533487354104995, 0.06691145308006274, -0.0022944690919671773, 0.019547728249381002, 0.03383457582981553, 0.02363637983952005, 0.056483094330775696, 0.05581712142922357, 0.01878974949704726, -0.037199062424352225, -0.008441589035657948, -0.009168317932749637, -0.012557824239819326, -0.03279784405012609, -0.03910032938555874, -0.00540151064684502, 0.04417085742060545, 0.0006934632258739359, -0.02113650628548791, -0.036460184414377705, 0.034166087057559524, 0.08063945609009227, -0.020381367611315704, -0.05335567562331145, 0.01311584813065747, -0.06158147767863442, -0.00782998953986791, 0.008643359688102592, 0.034277240749594595, -0.02737757259738849, -0.02481481248540207, -0.03911888407402775, -0.06719368252176205, 0.0050847770837192385, 0.06871838193612367, 0.01972388524617119, 0.07969053627852096, -0.04156218698877212, -0.06953270297213054, -0.07593414777443352, 0.058260948358532794, 0.031224300475442, -0.013944244088966662, 0.030303020852370466, 0.04901961822987033, -0.040373862437961705, -0.03467082226401874, 0.05891850766236839, 0.059070128509341346, -0.07700612582895272, 0.015204658740600507, -0.015360954075427036, -0.001170091594833278, -0.012104633353092531, 0.027668027300544074, 0.03461537348246213, -0.002230496925274328, 0.03204175758599748, 0.04693136946329224, -0.022758627435597534, -0.00035284897287723993, -0.019061046845076146, -0.03850302819503415, 0.04977537912558727, 0.023885916016964437, -0.012883009315739602, 0.024691396680169397, -0.01617904541898285, 0.03848846574882048, 0.03706200600029552, -0.03508768410188179, -0.008754240562679039, 0.0054347722779026775, -0.00844592182901771, -0.026235133862465232, -0.001049657807908555, -0.014010481247205608, 0.024866754274659897, 0.034662079605716434, 0.06532661205004464, 0.020440265598021812, -0.012943008896036612, -0.03840146308271808, -0.02597403817911892, -0.08999997105440127, 0.04249079448703341, 0.057624727800169806, -0.042857181323055604, -0.014578227469619343, -0.03628038752641449, 0.0328947270977995, -0.07289456611406453, 0.05763363605422711, -0.0382533167833079, -0.01726084491458968, 0.028636949970052283, -0.03118044747416171, -0.006130256528249278, -0.015034750341046288, 0.034050902264395555, -0.01892500292158472, -0.06250000930606947, 0.022633711195824135, 0.03219317567202906, 0.017154000970194705, -0.04331159547314056, -0.011618596279176274, -0.007701695990723678, -0.01960780604177914, 0.06874997788877879, 0.04873295388204313, 0.022304825780134152, 0.0174545822497445, 0.03288059944216437, -0.04498266268795448, -0.006884088192342541, 0.01605253983460697, 0.012567274698615849, -0.01773044598121476, -0.0028880810593796546, 0.07168713154709017, 0.022973027329665996, -0.025759606870086715, 0.03220340180455694, 0.07848937371737086, -0.005176713872004246, -0.0471380033849903, -0.0035335388959548686, -0.010960695883784122, 0.03422423970629218, 0.06271662066711525, 0.015421172224721724, -0.011390228493267762, 0.045790314936112075, -0.005649679325287371, -0.02755686658645229, 0.012269957326593639, -0.012698415880777691, -0.05641630533790343, 0.09386618105968991, -0.022939626905892685, -0.0684058599091214, 0.018668381107583176, 0.004886978960068511, -0.04316108463352941, -0.02414229661196121, 0.019531243374878438, 0.057790460114869324, -0.0009055001708953014, 0.036253766571720414, 0.014577330660924037, 0.014367774344107742, -0.010481532324827514, 0.03292290377686613, 0.033813831012247775, 0.008042892668377544, 0.006382914953111163, 0.03858352595552361, -0.014503832161678942, -0.011877087899757721, 0.02665274306261134, 0.0027997199297782327, 0.01269031853480218, -0.016040069802180423, -0.03260319383642085, -0.02001051939085896, 0.005910854190185333, 0.001602522307850629, -0.009333296145742964, 0.012113050987053953, -0.027393621334507068, 0.002460969482036557, 0.040643749303205245, 0.03119265887985767, 0.004575572935015204, -0.03846160982642499, 0.05026317136526548, 0.05286903040823132, 0.023322170242915163, 0.010232561061751522, -0.03314919679515893, -0.044285665321048495, 0.04633776403063483, 0.06619050082596045, 0.038410038956113945, -0.030537668536005924, 0.011535091038661571, 0.014254352927077107, 0.035891875346877766, -0.024212078747175347, -0.016042776333994868, -0.0326086865325772, -0.011460636152728743, 0.010456912753750602, 0.02609675275314216, 0.007892969445649989, 0.03980862616222103, 0.0066945475617350425, 0.039068938245139684, -0.038399927381279286, -0.002703836688392469, -0.04066742813945945, -0.03369561478356664, -0.00787398429926467, 0.02018140466532148, -0.014225441364072222, 0.04622323995090594, -0.0006465348915491997, 0.024369235225280894, -0.003157893624989083, 0.0025342528001122133, 0.0016853123673503667, -0.05362774284149885, -0.016444444520679724, 0.04993213763612259, 0.016354710568912578, -0.0021173248506326514, 0.02482496091248887, 0.0010351697214894262, 0.019855264419298857, -0.026161044676052736, 0.039150379358938725, 0.011623252909815696, -0.051109393947525894, -0.03382046541300998, 0.02960248376761454, -0.014690473049026154, 0.034291810432203196, 0.027594724112366853, 0.0, -0.06312630869101932, -0.0909090383745389, -0.030823543364411177, 0.024763302911837703, -0.0722577959962315, 0.05873345015384435, 0.018330909021178066, -0.005210847638467908, -0.016904689858003863, -0.010656335765383607, 0.005630302618609306, 0.0029211474332506704, -0.04975729724169986, -0.029374225960907663, -0.0355263061676675, 0.05320609309220825, -0.02590675958186761, -0.01781919758285777, -0.03655563511959481, 0.019674004324538696, 0.044652707604884156, -0.021108240142254542, 0.05498654926837587, -0.038068467213426715, -0.01354577156435599, 0.0032309334968267933, 0.00939351794642751, 0.017016717795424352, -0.03790851889038993, 0.03586957616090736, 0.017838447106548694, -0.04432993525933959, 0.008629972819655274, -0.03342241629819931, -0.0650069303957238, -0.04437868471197359, -0.009287922737177046, 0.010312472561984531, -0.009588606601399263, 0.011555338706298546, 0.046928031182245755, 0.020347904865637645, -0.03757217019388426, -0.05405409320888177, -0.033968227227547665, 0.0006572290086070964, 0.0656814453039718, -0.006779662831198907, 0.005895154843835959, -0.03146207352860475, -0.022293027294163048, -0.006514614164901511, -0.01704917879281609, 0.028352203756413896, 0.007784610442748363, 0.027035705410873856, 0.04356008928778765, -0.04474479486292415, 0.015089626410373702, -0.03530508427779788, 0.008988777966033368, 0.05727010673862387, 0.02768580264356446, 0.01171306532918881, -0.01881327119845566, -0.03244844239666589, -0.00030487012073965314, -0.004574564124052105, 0.0024510348761368483, -0.02169929062052922, -0.00531088290617554, 0.014761346981321255, 0.06097180048255213, 0.043757280730325254, 0.019284554504721774, 0.07513029884895928, 0.00790613702776577, -0.032388698365091284, -0.029027248224256175, -0.035012041307469044, 0.029025953287421746, 0.0013560807372055006, -0.02546041953243605, -0.006670413093428973, -0.020145510894419516, 0.02398633093223901, -0.010317849473845508, 0.017751450977244954, 0.022978894181988174, -0.009742851311584255, 0.036895314657669376, 0.002899340929412686, 0.007884360014979164, -0.04850069600263429, 0.016990937412246998, -0.047426480567578144, 0.05827429759775282, 0.17749267707006045, -0.020431322069395463, 0.027346469589433653, -0.0029325620427013144, -0.04841625221632484, 0.009272409784153668, -0.004711393615521198, 0.030769251849321222, 0.010332947273858473, -0.021363693816264018, -0.01600276271616663, -0.019579743885167034, 0.006575753744112234, 0.0745220875853716, 0.03039852462867687, 0.027097939771629997, -0.004255335381690539, -0.01923072063789566, 0.025490155338789178, -0.009985154530493978, -0.010729614085237982, -0.05639910108848789, -0.04827582699128952, 0.03260865759333886, 0.00865494577508219, -0.03177177564519207, 0.02467062944423648, 0.014726533101728778, 0.03432392729104383, 0.057460978367013915, 0.0008424792736521081, -0.004840057660368768, 0.043560954085694714, -0.037487305599233745, 0.005894711143092035, 0.02197578649191545, -0.009830090905880828, 0.0053775004019831485, -0.010285949263977634, -0.00020790139479476277, 0.018711051027644476, -0.0026530830227599056, -0.02455495783030448, 0.038179223398987494, -0.007880444354791627, 0.07942976877961527, 0.018867924528301883, 0.014814800686306473, 0.024270106744002096, -0.022804250305301532, -0.006381011556203187, 0.0, 0.003302757893133501, -0.0056693740226930744, 0.0075409206449637, -0.01478637416289752, -0.015193620090370952, -0.018250257626631128, 0.014373323028240792, -0.04024184877828063, 0.0064960991340712315, -0.011539216512080563, 0.03977044489755199, 0.03254042072881114, -0.02137854558229424, -0.01920897688092238, 0.019585188310385027, -0.015254191748960477, -0.0057372199619041275, 0.042700468057983, -0.0097767715965279, 0.005216072610004785, 0.018532246422660936, 0.018558960603255237, -0.015362640539192896, -0.030841814148803826, 0.0464246245215203, -0.01323795453072063, 0.02139231886221893, 0.04366345541019068, 0.016156475769827594, -0.009205008151640937, 0.00506755461476871, 0.032100837771632085, -0.011073120124823421, 0.009385801072298694, 0.0016313587285967657, 0.05228011408305422, 0.024609136710577406, 0.005136011827175491, -0.033964564249097995, -0.006222739868975702, -0.0010957998380366485, -0.017395401762460683, -0.001594932816611161, 0.0020766944294572376, -0.005260609258178506, 0.00737178001961869, 0.03690740808618709, -0.013501031747434555, -0.00622086324874549, -0.0025039099153590927, 0.013335341026684988, 0.053413915052551664, -0.0185185496660234, 0.03578914994513882, -0.011854846270508701, 0.02574984894691479, 0.003565825100892761, 0.012791380302326072, 0.06202635470730744, 0.011627870637809457, -0.009273760542237164, -0.006591957944080851, -0.01459852019106389, -0.028552225543192367, 0.04048254414984709, 0.005196527298999332, -0.0190880487116194, -0.03783787907780822, 0.0030899049175949767, 0.028423394446116745, 0.000680776771073921, -0.027210884353741527, -0.049510502315067706, -0.03222487449836675, 0.07343776915889322, 0.004674246999816223, 0.03383619787893588, -0.03722900980178978, 0.014872564793931176, 0.004884835543160104, 0.016666624281141518, -0.03019124558209052, 0.024933150101759338, -0.1381253814828225, -0.008929956414756357, 0.019308075925670076, 0.04988166911164571, 0.031123133789475732, -0.0908428578389524, -0.09767442344229726, -0.12460004498169641, 0.11512686637452418, -0.05699194023622234, -0.16972389959722867, 0.2739534599836482, -0.09638552203276707, 0.084848500261403, -0.05027934310203652, -0.045686310412836995, 0.011095149698852946, -0.07864253208462013, 0.20864576648954203, 0.09489052619224769, -0.06483332316080725, -0.08608094419025214, -0.005655169807592841, -0.058638979800808344, 0.001666704813639397, 0.0345257858609298, -0.09328514370264751, 0.1937916180525352, 0.06797919459582658, 0.06765216329823365, -0.05961882853560119, 0.00987354407316765, 0.020583203750311974, 0.055462172051437664, 0.030095592791509862, -0.044674649795590216, 0.04627838932615602, 0.17151246071440207, -0.03894385410220713, -0.056593441948798784, 0.09478745060139238, 0.026865229119264145, 0.007512004117758542, -0.05836226844189607, 0.011194535082924562, 0.010665599011505655, 0.1912904031267677, 0.011437504368422946, -0.029933448332503554, -0.006399972098214302, 0.02956061217684325, 0.021226695123827355, -0.028005744288679413, -0.031288675599770444, -0.022655942316210487, 0.09557775383993339, -0.03938807225009844, -0.021800523345620104, -0.016743614016061392, 0.026189027452469427, 0.09178306848879214, -0.014675068170718286, -0.01606385251309006, -0.009406369740314391, -0.0024012356920752875, -0.02417942065183576, -0.020630159400365056, -0.015111616690128393, 0.003487191166042569, 0.07726164748609987, 0.016129032258064502, 0.055026422732721514, -0.002306877979730171, 0.024429478992205045, -0.017860644431511696, 0.06115102922878313, -0.012429376014648441, -0.008390515603196147, -0.015384600712702867, 0.008789077270193735, 0.02875114717877114, -0.009598161995735377, -0.020427567941842306, 0.02958295923276255, 0.008478582316925332, 0.04642684212634385, -0.036511305663780136, 0.008616698809841283, 0.0862575724508634, -0.00972517146620644, -0.014432065192427901, 0.041330876801908056, 0.0004992308074671659, -0.026946090496777986, -0.01119656032986116, -0.01801457689801711, -0.029651687862209508, 0.04402851625528714, 0.03602360752343148, -0.0034269833524585014, 0.05300681121190265, -0.04420547272578834, 0.013249984482293309, -0.005613868566585745, 0.01103735959381491, 0.012968905912401851, -0.01142535953543844, -0.02196721561619497, 0.05598391151743809, -0.023888905843098995, -0.012114788923079267, 0.012428001121238319, -0.010893455361468352, 0.0009040898496506244, -0.014616511718995695, 0.0021666844685872544, 0.014468633235167117, -0.06885247152359764, -0.0452464741081785, 0.0547667572519519, -0.017569948508923572, 0.0037369710047707727, 0.026238801068453332, -0.00544180074013767, -0.007034892851202956, -0.02912622914128371, 0.002072102314716995, 0.03892829336492376, -0.03002770244040276, 0.012668443614355152, -0.022993573792899236, -0.07574392615241521, -0.0019511897389481447, -0.02873902594038813, 0.034621602458483336, -0.02548640728408258, -0.020163671759961477, 0.023532981585303592, -0.0056733322175650525, -0.014014029074025935, -0.012081243059961944, -0.03206243135818432, 0.04013163479476867, -0.037970819376870746, -0.030238710600754337, 0.04102844570454667, 0.0027325499953854138, -0.04381092280406029, -0.02258034760701033, 0.009083830936652104, -0.00833518528583388, -0.021181294944959905, -0.0037782713017701086, 0.024364958799429237, -0.005609783635226462, -0.016134495650349745, 0.020986260264904466, 0.06728066882959971, 0.006209261083237605, -0.011191294718058686, -0.011529553170399165, -0.03520592181458282, 0.00044358123900134494, -0.011640747870155455, -0.022994986165678633, -0.006314528495964256, 0.003581716321932049, -0.013930452175571983, -0.028604839859768805, -0.006610522145877318, -0.08965521506722773, 0.009835267333525577, 0.06593832963260526, 0.03753551050391213, -0.023920054330950347, -0.028407635906153472, -0.08307193554736714, 0.022717991912444946, 0.015121065203500095, -0.0067229387309136746, -0.01393490966989075, 0.027187033110338765, -0.009433978296411794, -0.012830704236524104, -0.010317522060891426, 0.003249361789686933, 0.009446755628222947, 0.012700493442290961, 0.016633691567399023, -0.08583301424480538, -0.009090900224102638, -0.018061956674970903, 0.05751828381614965, 0.051904947268289314, 0.10275593365670477, -0.0033321288035751406, -0.02805968327308772, 0.0012284824600317101, -0.030429489042129942, -0.01151602216367209, 0.004736944612608207, 0.03835364905817129, -0.018898036027707787, -0.004627831536091587, -0.03116365041305913, -0.014656255198205459, -0.0048703796319171655, 0.019047651725802472, -0.01739361307581555, -0.0011888552380280304]}],\n",
              "                        {\"legend\": {\"tracegroupgap\": 0}, \"template\": {\"data\": {\"bar\": [{\"error_x\": {\"color\": \"#2a3f5f\"}, \"error_y\": {\"color\": \"#2a3f5f\"}, \"marker\": {\"line\": {\"color\": \"#E5ECF6\", \"width\": 0.5}}, \"type\": \"bar\"}], \"barpolar\": [{\"marker\": {\"line\": {\"color\": \"#E5ECF6\", \"width\": 0.5}}, \"type\": \"barpolar\"}], \"carpet\": [{\"aaxis\": {\"endlinecolor\": \"#2a3f5f\", \"gridcolor\": \"white\", \"linecolor\": \"white\", \"minorgridcolor\": \"white\", \"startlinecolor\": \"#2a3f5f\"}, \"baxis\": {\"endlinecolor\": \"#2a3f5f\", \"gridcolor\": \"white\", \"linecolor\": \"white\", \"minorgridcolor\": \"white\", \"startlinecolor\": \"#2a3f5f\"}, \"type\": \"carpet\"}], \"choropleth\": [{\"colorbar\": {\"outlinewidth\": 0, \"ticks\": \"\"}, \"type\": \"choropleth\"}], \"contour\": [{\"colorbar\": {\"outlinewidth\": 0, \"ticks\": \"\"}, \"colorscale\": [[0.0, \"#0d0887\"], [0.1111111111111111, \"#46039f\"], [0.2222222222222222, \"#7201a8\"], [0.3333333333333333, \"#9c179e\"], [0.4444444444444444, \"#bd3786\"], [0.5555555555555556, \"#d8576b\"], [0.6666666666666666, \"#ed7953\"], [0.7777777777777778, \"#fb9f3a\"], [0.8888888888888888, \"#fdca26\"], [1.0, \"#f0f921\"]], \"type\": \"contour\"}], \"contourcarpet\": [{\"colorbar\": {\"outlinewidth\": 0, \"ticks\": \"\"}, \"type\": \"contourcarpet\"}], \"heatmap\": [{\"colorbar\": {\"outlinewidth\": 0, \"ticks\": \"\"}, \"colorscale\": [[0.0, \"#0d0887\"], [0.1111111111111111, \"#46039f\"], [0.2222222222222222, \"#7201a8\"], [0.3333333333333333, \"#9c179e\"], [0.4444444444444444, \"#bd3786\"], [0.5555555555555556, \"#d8576b\"], [0.6666666666666666, \"#ed7953\"], [0.7777777777777778, \"#fb9f3a\"], [0.8888888888888888, \"#fdca26\"], [1.0, \"#f0f921\"]], \"type\": \"heatmap\"}], \"heatmapgl\": [{\"colorbar\": {\"outlinewidth\": 0, \"ticks\": \"\"}, \"colorscale\": [[0.0, \"#0d0887\"], [0.1111111111111111, \"#46039f\"], [0.2222222222222222, \"#7201a8\"], [0.3333333333333333, \"#9c179e\"], [0.4444444444444444, \"#bd3786\"], [0.5555555555555556, \"#d8576b\"], [0.6666666666666666, \"#ed7953\"], [0.7777777777777778, \"#fb9f3a\"], [0.8888888888888888, \"#fdca26\"], [1.0, \"#f0f921\"]], \"type\": \"heatmapgl\"}], \"histogram\": [{\"marker\": {\"colorbar\": {\"outlinewidth\": 0, \"ticks\": \"\"}}, \"type\": \"histogram\"}], \"histogram2d\": [{\"colorbar\": {\"outlinewidth\": 0, \"ticks\": \"\"}, \"colorscale\": [[0.0, \"#0d0887\"], [0.1111111111111111, \"#46039f\"], [0.2222222222222222, \"#7201a8\"], [0.3333333333333333, \"#9c179e\"], [0.4444444444444444, \"#bd3786\"], [0.5555555555555556, \"#d8576b\"], [0.6666666666666666, \"#ed7953\"], [0.7777777777777778, \"#fb9f3a\"], [0.8888888888888888, \"#fdca26\"], [1.0, \"#f0f921\"]], \"type\": \"histogram2d\"}], \"histogram2dcontour\": [{\"colorbar\": {\"outlinewidth\": 0, \"ticks\": \"\"}, \"colorscale\": [[0.0, \"#0d0887\"], [0.1111111111111111, \"#46039f\"], [0.2222222222222222, \"#7201a8\"], [0.3333333333333333, \"#9c179e\"], [0.4444444444444444, \"#bd3786\"], [0.5555555555555556, \"#d8576b\"], [0.6666666666666666, \"#ed7953\"], [0.7777777777777778, \"#fb9f3a\"], [0.8888888888888888, \"#fdca26\"], [1.0, \"#f0f921\"]], \"type\": \"histogram2dcontour\"}], \"mesh3d\": [{\"colorbar\": {\"outlinewidth\": 0, \"ticks\": \"\"}, \"type\": \"mesh3d\"}], \"parcoords\": [{\"line\": {\"colorbar\": {\"outlinewidth\": 0, \"ticks\": \"\"}}, \"type\": \"parcoords\"}], \"pie\": [{\"automargin\": true, \"type\": \"pie\"}], \"scatter\": [{\"marker\": {\"colorbar\": {\"outlinewidth\": 0, \"ticks\": \"\"}}, \"type\": \"scatter\"}], \"scatter3d\": [{\"line\": {\"colorbar\": {\"outlinewidth\": 0, \"ticks\": \"\"}}, \"marker\": {\"colorbar\": {\"outlinewidth\": 0, \"ticks\": \"\"}}, \"type\": \"scatter3d\"}], \"scattercarpet\": [{\"marker\": {\"colorbar\": {\"outlinewidth\": 0, \"ticks\": \"\"}}, \"type\": \"scattercarpet\"}], \"scattergeo\": [{\"marker\": {\"colorbar\": {\"outlinewidth\": 0, \"ticks\": \"\"}}, \"type\": \"scattergeo\"}], \"scattergl\": [{\"marker\": {\"colorbar\": {\"outlinewidth\": 0, \"ticks\": \"\"}}, \"type\": \"scattergl\"}], \"scattermapbox\": [{\"marker\": {\"colorbar\": {\"outlinewidth\": 0, \"ticks\": \"\"}}, \"type\": \"scattermapbox\"}], \"scatterpolar\": [{\"marker\": {\"colorbar\": {\"outlinewidth\": 0, \"ticks\": \"\"}}, \"type\": \"scatterpolar\"}], \"scatterpolargl\": [{\"marker\": {\"colorbar\": {\"outlinewidth\": 0, \"ticks\": \"\"}}, \"type\": \"scatterpolargl\"}], \"scatterternary\": [{\"marker\": {\"colorbar\": {\"outlinewidth\": 0, \"ticks\": \"\"}}, \"type\": \"scatterternary\"}], \"surface\": [{\"colorbar\": {\"outlinewidth\": 0, \"ticks\": \"\"}, \"colorscale\": [[0.0, \"#0d0887\"], [0.1111111111111111, \"#46039f\"], [0.2222222222222222, \"#7201a8\"], [0.3333333333333333, \"#9c179e\"], [0.4444444444444444, \"#bd3786\"], [0.5555555555555556, \"#d8576b\"], [0.6666666666666666, \"#ed7953\"], [0.7777777777777778, \"#fb9f3a\"], [0.8888888888888888, \"#fdca26\"], [1.0, \"#f0f921\"]], \"type\": \"surface\"}], \"table\": [{\"cells\": {\"fill\": {\"color\": \"#EBF0F8\"}, \"line\": {\"color\": \"white\"}}, \"header\": {\"fill\": {\"color\": \"#C8D4E3\"}, \"line\": {\"color\": \"white\"}}, \"type\": \"table\"}]}, \"layout\": {\"annotationdefaults\": {\"arrowcolor\": \"#2a3f5f\", \"arrowhead\": 0, \"arrowwidth\": 1}, \"coloraxis\": {\"colorbar\": {\"outlinewidth\": 0, \"ticks\": \"\"}}, \"colorscale\": {\"diverging\": [[0, \"#8e0152\"], [0.1, \"#c51b7d\"], [0.2, \"#de77ae\"], [0.3, \"#f1b6da\"], [0.4, \"#fde0ef\"], [0.5, \"#f7f7f7\"], [0.6, \"#e6f5d0\"], [0.7, \"#b8e186\"], [0.8, \"#7fbc41\"], [0.9, \"#4d9221\"], [1, \"#276419\"]], \"sequential\": [[0.0, \"#0d0887\"], [0.1111111111111111, \"#46039f\"], [0.2222222222222222, \"#7201a8\"], [0.3333333333333333, \"#9c179e\"], [0.4444444444444444, \"#bd3786\"], [0.5555555555555556, \"#d8576b\"], [0.6666666666666666, \"#ed7953\"], [0.7777777777777778, \"#fb9f3a\"], [0.8888888888888888, \"#fdca26\"], [1.0, \"#f0f921\"]], \"sequentialminus\": [[0.0, \"#0d0887\"], [0.1111111111111111, \"#46039f\"], [0.2222222222222222, \"#7201a8\"], [0.3333333333333333, \"#9c179e\"], [0.4444444444444444, \"#bd3786\"], [0.5555555555555556, \"#d8576b\"], [0.6666666666666666, \"#ed7953\"], [0.7777777777777778, \"#fb9f3a\"], [0.8888888888888888, \"#fdca26\"], [1.0, \"#f0f921\"]]}, \"colorway\": [\"#636efa\", \"#EF553B\", \"#00cc96\", \"#ab63fa\", \"#FFA15A\", \"#19d3f3\", \"#FF6692\", \"#B6E880\", \"#FF97FF\", \"#FECB52\"], \"font\": {\"color\": \"#2a3f5f\"}, \"geo\": {\"bgcolor\": \"white\", \"lakecolor\": \"white\", \"landcolor\": \"#E5ECF6\", \"showlakes\": true, \"showland\": true, \"subunitcolor\": \"white\"}, \"hoverlabel\": {\"align\": \"left\"}, \"hovermode\": \"closest\", \"mapbox\": {\"style\": \"light\"}, \"paper_bgcolor\": \"white\", \"plot_bgcolor\": \"#E5ECF6\", \"polar\": {\"angularaxis\": {\"gridcolor\": \"white\", \"linecolor\": \"white\", \"ticks\": \"\"}, \"bgcolor\": \"#E5ECF6\", \"radialaxis\": {\"gridcolor\": \"white\", \"linecolor\": \"white\", \"ticks\": \"\"}}, \"scene\": {\"xaxis\": {\"backgroundcolor\": \"#E5ECF6\", \"gridcolor\": \"white\", \"gridwidth\": 2, \"linecolor\": \"white\", \"showbackground\": true, \"ticks\": \"\", \"zerolinecolor\": \"white\"}, \"yaxis\": {\"backgroundcolor\": \"#E5ECF6\", \"gridcolor\": \"white\", \"gridwidth\": 2, \"linecolor\": \"white\", \"showbackground\": true, \"ticks\": \"\", \"zerolinecolor\": \"white\"}, \"zaxis\": {\"backgroundcolor\": \"#E5ECF6\", \"gridcolor\": \"white\", \"gridwidth\": 2, \"linecolor\": \"white\", \"showbackground\": true, \"ticks\": \"\", \"zerolinecolor\": \"white\"}}, \"shapedefaults\": {\"line\": {\"color\": \"#2a3f5f\"}}, \"ternary\": {\"aaxis\": {\"gridcolor\": \"white\", \"linecolor\": \"white\", \"ticks\": \"\"}, \"baxis\": {\"gridcolor\": \"white\", \"linecolor\": \"white\", \"ticks\": \"\"}, \"bgcolor\": \"#E5ECF6\", \"caxis\": {\"gridcolor\": \"white\", \"linecolor\": \"white\", \"ticks\": \"\"}}, \"title\": {\"x\": 0.05}, \"xaxis\": {\"automargin\": true, \"gridcolor\": \"white\", \"linecolor\": \"white\", \"ticks\": \"\", \"title\": {\"standoff\": 15}, \"zerolinecolor\": \"white\", \"zerolinewidth\": 2}, \"yaxis\": {\"automargin\": true, \"gridcolor\": \"white\", \"linecolor\": \"white\", \"ticks\": \"\", \"title\": {\"standoff\": 15}, \"zerolinecolor\": \"white\", \"zerolinewidth\": 2}}}, \"title\": {\"text\": \"Taxa de retorno di\\u00e1rio das a\\u00e7\\u00f5es\"}, \"xaxis\": {\"anchor\": \"y\", \"domain\": [0.0, 1.0]}, \"yaxis\": {\"anchor\": \"x\", \"domain\": [0.0, 1.0]}},\n",
              "                        {\"responsive\": true}\n",
              "                    ).then(function(){\n",
              "                            \n",
              "var gd = document.getElementById('e51dfa8b-11d8-41fa-bbb4-0eec850440be');\n",
              "var x = new MutationObserver(function (mutations, observer) {{\n",
              "        var display = window.getComputedStyle(gd).display;\n",
              "        if (!display || display === 'none') {{\n",
              "            console.log([gd, 'removed!']);\n",
              "            Plotly.purge(gd);\n",
              "            observer.disconnect();\n",
              "        }}\n",
              "}});\n",
              "\n",
              "// Listen for the removal of the full notebook cells\n",
              "var notebookContainer = gd.closest('#notebook-container');\n",
              "if (notebookContainer) {{\n",
              "    x.observe(notebookContainer, {childList: true});\n",
              "}}\n",
              "\n",
              "// Listen for the clearing of the current output cell\n",
              "var outputEl = gd.closest('.output');\n",
              "if (outputEl) {{\n",
              "    x.observe(outputEl, {childList: true});\n",
              "}}\n",
              "\n",
              "                        })\n",
              "                };\n",
              "                \n",
              "            </script>\n",
              "        </div>\n",
              "</body>\n",
              "</html>"
            ]
          },
          "metadata": {
            "tags": []
          }
        }
      ]
    },
    {
      "cell_type": "markdown",
      "metadata": {
        "id": "nLa69rJz-pSC"
      },
      "source": [
        "- ## Taxa de Retorno Anual"
      ]
    },
    {
      "cell_type": "markdown",
      "metadata": {
        "id": "t5EnKEfyJdVL"
      },
      "source": [
        "A taxa de retorno anual pode ser calculada pela média do retorno diário multiplicada pelo número de dias úteis do ano. \r\n",
        "Podemos aplicar essa fórmula para todos os anos e veroficar a taxa de retorno anual"
      ]
    },
    {
      "cell_type": "code",
      "metadata": {
        "colab": {
          "base_uri": "https://localhost:8080/",
          "height": 77
        },
        "id": "UDnJMSetKdK8",
        "outputId": "47a95285-76a6-4132-9ea5-ec28f9a9d8f4"
      },
      "source": [
        "TRS = pd.DataFrame()\r\n",
        "for i in df_b2w['Date'].dt.year.unique(): \r\n",
        "  x =  {i: (df_b2w.query('Date.dt.year in ['+str(i)+']')['TRS Daily'].mean() * len(df_b2w.query('Date.dt.year in ['+str(i)+']'))) * 100}\r\n",
        "  df = pd.DataFrame([x], columns=x.keys())\r\n",
        "  TRS = pd.concat([TRS, df], axis = 1)\r\n",
        "\r\n",
        "TRS"
      ],
      "execution_count": 22,
      "outputs": [
        {
          "output_type": "execute_result",
          "data": {
            "text/html": [
              "<div>\n",
              "<style scoped>\n",
              "    .dataframe tbody tr th:only-of-type {\n",
              "        vertical-align: middle;\n",
              "    }\n",
              "\n",
              "    .dataframe tbody tr th {\n",
              "        vertical-align: top;\n",
              "    }\n",
              "\n",
              "    .dataframe thead th {\n",
              "        text-align: right;\n",
              "    }\n",
              "</style>\n",
              "<table border=\"1\" class=\"dataframe\">\n",
              "  <thead>\n",
              "    <tr style=\"text-align: right;\">\n",
              "      <th></th>\n",
              "      <th>2015</th>\n",
              "      <th>2016</th>\n",
              "      <th>2017</th>\n",
              "      <th>2018</th>\n",
              "      <th>2019</th>\n",
              "      <th>2020</th>\n",
              "    </tr>\n",
              "  </thead>\n",
              "  <tbody>\n",
              "    <tr>\n",
              "      <th>0</th>\n",
              "      <td>-18.972303</td>\n",
              "      <td>-22.119363</td>\n",
              "      <td>85.730894</td>\n",
              "      <td>86.583274</td>\n",
              "      <td>53.707383</td>\n",
              "      <td>48.70979</td>\n",
              "    </tr>\n",
              "  </tbody>\n",
              "</table>\n",
              "</div>"
            ],
            "text/plain": [
              "        2015       2016       2017       2018       2019      2020\n",
              "0 -18.972303 -22.119363  85.730894  86.583274  53.707383  48.70979"
            ]
          },
          "metadata": {
            "tags": []
          },
          "execution_count": 22
        }
      ]
    },
    {
      "cell_type": "markdown",
      "metadata": {
        "id": "00kODeZ-H2D2"
      },
      "source": [
        "Vemos que nos dois primeiros anos a taxa de retorno das ações estava negativa, nos dois anos seguintes deram um enorme crescimento, tendendo a se estabilizarem nos dois anos últimos anos. "
      ]
    },
    {
      "cell_type": "markdown",
      "metadata": {
        "id": "s0CUcvnAqARf"
      },
      "source": [
        "- # Previsão de Preços das Ações"
      ]
    },
    {
      "cell_type": "markdown",
      "metadata": {
        "id": "0lgN4_8Mp7Iv"
      },
      "source": [
        "- ## Simulação Monte Carlo"
      ]
    },
    {
      "cell_type": "markdown",
      "metadata": {
        "id": "n_EOtXAGqGgO"
      },
      "source": [
        "Nessa abordagem, utilizamos dados históricos para criar simulações de vários cenários futuros baseados na média, variância e desvio padrão.\r\n",
        "Com isso é possível entender o impacto do risco e da incerteza pra ajudar na tomada de decisão. Simulação pelo movimento browniano.\r\n",
        "\r\n",
        "Para isso precisamos isolar o preço da ação num dataframe para realizar as previsões.\r\n"
      ]
    },
    {
      "cell_type": "code",
      "metadata": {
        "colab": {
          "base_uri": "https://localhost:8080/",
          "height": 406
        },
        "id": "RCw5njgRp_Dy",
        "outputId": "7eda45b7-66b5-45da-d588-726a7ba8201b"
      },
      "source": [
        "df_mc = pd.DataFrame(df_b2w['Close'])\r\n",
        "df_mc.columns= ['BTOW3']\r\n",
        "df_mc"
      ],
      "execution_count": 30,
      "outputs": [
        {
          "output_type": "execute_result",
          "data": {
            "text/html": [
              "<div>\n",
              "<style scoped>\n",
              "    .dataframe tbody tr th:only-of-type {\n",
              "        vertical-align: middle;\n",
              "    }\n",
              "\n",
              "    .dataframe tbody tr th {\n",
              "        vertical-align: top;\n",
              "    }\n",
              "\n",
              "    .dataframe thead th {\n",
              "        text-align: right;\n",
              "    }\n",
              "</style>\n",
              "<table border=\"1\" class=\"dataframe\">\n",
              "  <thead>\n",
              "    <tr style=\"text-align: right;\">\n",
              "      <th></th>\n",
              "      <th>BTOW3</th>\n",
              "    </tr>\n",
              "  </thead>\n",
              "  <tbody>\n",
              "    <tr>\n",
              "      <th>0</th>\n",
              "      <td>21.140331</td>\n",
              "    </tr>\n",
              "    <tr>\n",
              "      <th>1</th>\n",
              "      <td>20.464613</td>\n",
              "    </tr>\n",
              "    <tr>\n",
              "      <th>2</th>\n",
              "      <td>20.522532</td>\n",
              "    </tr>\n",
              "    <tr>\n",
              "      <th>3</th>\n",
              "      <td>20.319817</td>\n",
              "    </tr>\n",
              "    <tr>\n",
              "      <th>4</th>\n",
              "      <td>19.653751</td>\n",
              "    </tr>\n",
              "    <tr>\n",
              "      <th>...</th>\n",
              "      <td>...</td>\n",
              "    </tr>\n",
              "    <tr>\n",
              "      <th>1483</th>\n",
              "      <td>75.970001</td>\n",
              "    </tr>\n",
              "    <tr>\n",
              "      <th>1484</th>\n",
              "      <td>75.599998</td>\n",
              "    </tr>\n",
              "    <tr>\n",
              "      <th>1485</th>\n",
              "      <td>77.040001</td>\n",
              "    </tr>\n",
              "    <tr>\n",
              "      <th>1486</th>\n",
              "      <td>75.699997</td>\n",
              "    </tr>\n",
              "    <tr>\n",
              "      <th>1487</th>\n",
              "      <td>75.610001</td>\n",
              "    </tr>\n",
              "  </tbody>\n",
              "</table>\n",
              "<p>1488 rows × 1 columns</p>\n",
              "</div>"
            ],
            "text/plain": [
              "          BTOW3\n",
              "0     21.140331\n",
              "1     20.464613\n",
              "2     20.522532\n",
              "3     20.319817\n",
              "4     19.653751\n",
              "...         ...\n",
              "1483  75.970001\n",
              "1484  75.599998\n",
              "1485  77.040001\n",
              "1486  75.699997\n",
              "1487  75.610001\n",
              "\n",
              "[1488 rows x 1 columns]"
            ]
          },
          "metadata": {
            "tags": []
          },
          "execution_count": 30
        }
      ]
    },
    {
      "cell_type": "markdown",
      "metadata": {
        "id": "TSXAvy9IthR1"
      },
      "source": [
        "Precisamos normalizar os dados e calcular as taxas de retorno diária  logaritmicas "
      ]
    },
    {
      "cell_type": "code",
      "metadata": {
        "colab": {
          "base_uri": "https://localhost:8080/",
          "height": 406
        },
        "id": "_ALFKSJ9sZWn",
        "outputId": "00f2f353-df19-4f4d-cf81-d5fbee9c2a9f"
      },
      "source": [
        "df_mc_norm = df_mc.copy()\r\n",
        "for i in df_mc:\r\n",
        "  df_mc_norm[i] = df_mc[i] / df_mc[i][0]\r\n",
        "df_mc_norm"
      ],
      "execution_count": 31,
      "outputs": [
        {
          "output_type": "execute_result",
          "data": {
            "text/html": [
              "<div>\n",
              "<style scoped>\n",
              "    .dataframe tbody tr th:only-of-type {\n",
              "        vertical-align: middle;\n",
              "    }\n",
              "\n",
              "    .dataframe tbody tr th {\n",
              "        vertical-align: top;\n",
              "    }\n",
              "\n",
              "    .dataframe thead th {\n",
              "        text-align: right;\n",
              "    }\n",
              "</style>\n",
              "<table border=\"1\" class=\"dataframe\">\n",
              "  <thead>\n",
              "    <tr style=\"text-align: right;\">\n",
              "      <th></th>\n",
              "      <th>BTOW3</th>\n",
              "    </tr>\n",
              "  </thead>\n",
              "  <tbody>\n",
              "    <tr>\n",
              "      <th>0</th>\n",
              "      <td>1.000000</td>\n",
              "    </tr>\n",
              "    <tr>\n",
              "      <th>1</th>\n",
              "      <td>0.968037</td>\n",
              "    </tr>\n",
              "    <tr>\n",
              "      <th>2</th>\n",
              "      <td>0.970776</td>\n",
              "    </tr>\n",
              "    <tr>\n",
              "      <th>3</th>\n",
              "      <td>0.961187</td>\n",
              "    </tr>\n",
              "    <tr>\n",
              "      <th>4</th>\n",
              "      <td>0.929680</td>\n",
              "    </tr>\n",
              "    <tr>\n",
              "      <th>...</th>\n",
              "      <td>...</td>\n",
              "    </tr>\n",
              "    <tr>\n",
              "      <th>1483</th>\n",
              "      <td>3.593605</td>\n",
              "    </tr>\n",
              "    <tr>\n",
              "      <th>1484</th>\n",
              "      <td>3.576103</td>\n",
              "    </tr>\n",
              "    <tr>\n",
              "      <th>1485</th>\n",
              "      <td>3.644219</td>\n",
              "    </tr>\n",
              "    <tr>\n",
              "      <th>1486</th>\n",
              "      <td>3.580833</td>\n",
              "    </tr>\n",
              "    <tr>\n",
              "      <th>1487</th>\n",
              "      <td>3.576576</td>\n",
              "    </tr>\n",
              "  </tbody>\n",
              "</table>\n",
              "<p>1488 rows × 1 columns</p>\n",
              "</div>"
            ],
            "text/plain": [
              "         BTOW3\n",
              "0     1.000000\n",
              "1     0.968037\n",
              "2     0.970776\n",
              "3     0.961187\n",
              "4     0.929680\n",
              "...        ...\n",
              "1483  3.593605\n",
              "1484  3.576103\n",
              "1485  3.644219\n",
              "1486  3.580833\n",
              "1487  3.576576\n",
              "\n",
              "[1488 rows x 1 columns]"
            ]
          },
          "metadata": {
            "tags": []
          },
          "execution_count": 31
        }
      ]
    },
    {
      "cell_type": "code",
      "metadata": {
        "colab": {
          "base_uri": "https://localhost:8080/",
          "height": 406
        },
        "id": "hez8Ixvytdtq",
        "outputId": "bf87b309-902c-4abe-8128-f23a19c0e866"
      },
      "source": [
        "df_mc_trl = np.log(1 + df_mc_norm.pct_change()).fillna(0)\r\n",
        "df_mc_trl"
      ],
      "execution_count": 32,
      "outputs": [
        {
          "output_type": "execute_result",
          "data": {
            "text/html": [
              "<div>\n",
              "<style scoped>\n",
              "    .dataframe tbody tr th:only-of-type {\n",
              "        vertical-align: middle;\n",
              "    }\n",
              "\n",
              "    .dataframe tbody tr th {\n",
              "        vertical-align: top;\n",
              "    }\n",
              "\n",
              "    .dataframe thead th {\n",
              "        text-align: right;\n",
              "    }\n",
              "</style>\n",
              "<table border=\"1\" class=\"dataframe\">\n",
              "  <thead>\n",
              "    <tr style=\"text-align: right;\">\n",
              "      <th></th>\n",
              "      <th>BTOW3</th>\n",
              "    </tr>\n",
              "  </thead>\n",
              "  <tbody>\n",
              "    <tr>\n",
              "      <th>0</th>\n",
              "      <td>0.000000</td>\n",
              "    </tr>\n",
              "    <tr>\n",
              "      <th>1</th>\n",
              "      <td>-0.032485</td>\n",
              "    </tr>\n",
              "    <tr>\n",
              "      <th>2</th>\n",
              "      <td>0.002826</td>\n",
              "    </tr>\n",
              "    <tr>\n",
              "      <th>3</th>\n",
              "      <td>-0.009927</td>\n",
              "    </tr>\n",
              "    <tr>\n",
              "      <th>4</th>\n",
              "      <td>-0.033328</td>\n",
              "    </tr>\n",
              "    <tr>\n",
              "      <th>...</th>\n",
              "      <td>...</td>\n",
              "    </tr>\n",
              "    <tr>\n",
              "      <th>1483</th>\n",
              "      <td>-0.014765</td>\n",
              "    </tr>\n",
              "    <tr>\n",
              "      <th>1484</th>\n",
              "      <td>-0.004882</td>\n",
              "    </tr>\n",
              "    <tr>\n",
              "      <th>1485</th>\n",
              "      <td>0.018869</td>\n",
              "    </tr>\n",
              "    <tr>\n",
              "      <th>1486</th>\n",
              "      <td>-0.017547</td>\n",
              "    </tr>\n",
              "    <tr>\n",
              "      <th>1487</th>\n",
              "      <td>-0.001190</td>\n",
              "    </tr>\n",
              "  </tbody>\n",
              "</table>\n",
              "<p>1488 rows × 1 columns</p>\n",
              "</div>"
            ],
            "text/plain": [
              "         BTOW3\n",
              "0     0.000000\n",
              "1    -0.032485\n",
              "2     0.002826\n",
              "3    -0.009927\n",
              "4    -0.033328\n",
              "...        ...\n",
              "1483 -0.014765\n",
              "1484 -0.004882\n",
              "1485  0.018869\n",
              "1486 -0.017547\n",
              "1487 -0.001190\n",
              "\n",
              "[1488 rows x 1 columns]"
            ]
          },
          "metadata": {
            "tags": []
          },
          "execution_count": 32
        }
      ]
    },
    {
      "cell_type": "markdown",
      "metadata": {
        "id": "n5WbL--uu16m"
      },
      "source": [
        "- ## Cálculo do drift"
      ]
    },
    {
      "cell_type": "markdown",
      "metadata": {
        "id": "R1Rh8h2Au8-U"
      },
      "source": [
        "Drift é a direção que as taxas de retorno tiveram no passado. \r\n",
        "É possível calcular através da fórmula:\r\n",
        "\r\n",
        "Drift = µ - ((1/2) * σ²)\r\n",
        "\r\n",
        "Onde:\r\n",
        "- µ é a média dos retornos\r\n",
        "- σ² é a variancia dos retornos"
      ]
    },
    {
      "cell_type": "code",
      "metadata": {
        "colab": {
          "base_uri": "https://localhost:8080/"
        },
        "id": "jVHwR4j_vBW_",
        "outputId": "e08e3961-f419-4878-90ac-f3966fbea331"
      },
      "source": [
        "media = df_mc_trl.mean()\r\n",
        "media"
      ],
      "execution_count": 33,
      "outputs": [
        {
          "output_type": "execute_result",
          "data": {
            "text/plain": [
              "BTOW3    0.000856\n",
              "dtype: float64"
            ]
          },
          "metadata": {
            "tags": []
          },
          "execution_count": 33
        }
      ]
    },
    {
      "cell_type": "code",
      "metadata": {
        "colab": {
          "base_uri": "https://localhost:8080/"
        },
        "id": "nCBOyA2ewd2u",
        "outputId": "aec9cb94-f517-4891-8f68-b73f150de87d"
      },
      "source": [
        "variancia = df_mc_trl.var()\r\n",
        "variancia"
      ],
      "execution_count": 34,
      "outputs": [
        {
          "output_type": "execute_result",
          "data": {
            "text/plain": [
              "BTOW3    0.001421\n",
              "dtype: float64"
            ]
          },
          "metadata": {
            "tags": []
          },
          "execution_count": 34
        }
      ]
    },
    {
      "cell_type": "code",
      "metadata": {
        "colab": {
          "base_uri": "https://localhost:8080/"
        },
        "id": "BrtPzIunwk-R",
        "outputId": "17d8c33a-b084-4173-c3e0-8df216735f00"
      },
      "source": [
        "drift = media - (0.5 * variancia)\r\n",
        "drift"
      ],
      "execution_count": 35,
      "outputs": [
        {
          "output_type": "execute_result",
          "data": {
            "text/plain": [
              "BTOW3    0.000146\n",
              "dtype: float64"
            ]
          },
          "metadata": {
            "tags": []
          },
          "execution_count": 35
        }
      ]
    },
    {
      "cell_type": "markdown",
      "metadata": {
        "id": "QDvPH3ynw32G"
      },
      "source": [
        "- ## Cálculo dos retornos diários"
      ]
    },
    {
      "cell_type": "markdown",
      "metadata": {
        "id": "lofhW7I18kA_"
      },
      "source": [
        "Baseado no drift, vamos calular agora os retornos diários para 50 dias a frente com 10 simulações."
      ]
    },
    {
      "cell_type": "code",
      "metadata": {
        "id": "ufGouzT-w4Zj"
      },
      "source": [
        "dias_frente = 50\r\n",
        "simulacoes = 10"
      ],
      "execution_count": 36,
      "outputs": []
    },
    {
      "cell_type": "code",
      "metadata": {
        "colab": {
          "base_uri": "https://localhost:8080/"
        },
        "id": "WYwLtyAUyG6j",
        "outputId": "7da306fe-7cdc-4d55-b9ec-203e599d8d16"
      },
      "source": [
        "desvio_padrao = df_mc_trl.std()\r\n",
        "desvio_padrao"
      ],
      "execution_count": 37,
      "outputs": [
        {
          "output_type": "execute_result",
          "data": {
            "text/plain": [
              "BTOW3    0.0377\n",
              "dtype: float64"
            ]
          },
          "metadata": {
            "tags": []
          },
          "execution_count": 37
        }
      ]
    },
    {
      "cell_type": "markdown",
      "metadata": {
        "id": "UQ9JoUzf-S6J"
      },
      "source": [
        "Indica o qunato as taxas de retorno estão afastadas da média."
      ]
    },
    {
      "cell_type": "markdown",
      "metadata": {
        "id": "8vU-dR_G-L2N"
      },
      "source": [
        "Agora precisamos gerar os números aleatórios que sigam a distribuição normal, usando a função ppf."
      ]
    },
    {
      "cell_type": "code",
      "metadata": {
        "colab": {
          "base_uri": "https://localhost:8080/"
        },
        "id": "4g70JOeLyNNj",
        "outputId": "29611b03-4398-479b-92db-60a9cabe0bf3"
      },
      "source": [
        "Z = stats.norm.ppf(np.random.rand(dias_frente, simulacoes))\r\n",
        "Z.shape"
      ],
      "execution_count": 38,
      "outputs": [
        {
          "output_type": "execute_result",
          "data": {
            "text/plain": [
              "(50, 10)"
            ]
          },
          "metadata": {
            "tags": []
          },
          "execution_count": 38
        }
      ]
    },
    {
      "cell_type": "code",
      "metadata": {
        "colab": {
          "base_uri": "https://localhost:8080/",
          "height": 264
        },
        "id": "iHYzyB0uyPmb",
        "outputId": "a0560933-e2c1-427b-db37-f9cf41afb100"
      },
      "source": [
        "sns.histplot(Z);"
      ],
      "execution_count": 39,
      "outputs": [
        {
          "output_type": "display_data",
          "data": {
            "image/png": "[encoded data removed]",
            "text/plain": [
              "<Figure size 432x288 with 1 Axes>"
            ]
          },
          "metadata": {
            "tags": [],
            "needs_background": "light"
          }
        }
      ]
    },
    {
      "cell_type": "markdown",
      "metadata": {
        "id": "RVH_lfSB-pN-"
      },
      "source": [
        "Nossa distribuição está normalizada, podemos aplicar as variaveis a formula de pra calcular o retorno diário que seria:\r\n",
        "\r\n",
        "exponenciação de r que é igual drift + desvio_padrao * matriz Z"
      ]
    },
    {
      "cell_type": "code",
      "metadata": {
        "id": "ju4_eGCfyRvN"
      },
      "source": [
        "retornos_diarios = np.exp(drift.values + desvio_padrao.values * Z)"
      ],
      "execution_count": 40,
      "outputs": []
    },
    {
      "cell_type": "code",
      "metadata": {
        "colab": {
          "base_uri": "https://localhost:8080/"
        },
        "id": "jcu1pIo4yXWi",
        "outputId": "913b1e1d-884d-4de9-d22f-2a8aeba94d5d"
      },
      "source": [
        "retornos_diarios.shape"
      ],
      "execution_count": 41,
      "outputs": [
        {
          "output_type": "execute_result",
          "data": {
            "text/plain": [
              "(50, 10)"
            ]
          },
          "metadata": {
            "tags": []
          },
          "execution_count": 41
        }
      ]
    },
    {
      "cell_type": "markdown",
      "metadata": {
        "id": "q_V6a-NfBwqF"
      },
      "source": [
        "Agora que temos nossas taxas de retornos reais, e as taxas futuras, agora podemos partir para a previsão dos valores futuros\r\n",
        "."
      ]
    },
    {
      "cell_type": "markdown",
      "metadata": {
        "id": "61B6xk-PB-q6"
      },
      "source": [
        "- ## Previsões de preços futuros"
      ]
    },
    {
      "cell_type": "markdown",
      "metadata": {
        "id": "8vH6iL10C5TJ"
      },
      "source": [
        "Começamos criando uma variável zerado com o mesmo formato dos retornos diários"
      ]
    },
    {
      "cell_type": "code",
      "metadata": {
        "id": "6fLGYm-SB9vK"
      },
      "source": [
        "previsoes = np.zeros_like(retornos_diarios)"
      ],
      "execution_count": 42,
      "outputs": []
    },
    {
      "cell_type": "code",
      "metadata": {
        "colab": {
          "base_uri": "https://localhost:8080/"
        },
        "id": "Z3otc07tC_f5",
        "outputId": "b8a927b7-1d3b-4aa4-c933-88765bfb87b2"
      },
      "source": [
        "previsoes"
      ],
      "execution_count": 43,
      "outputs": [
        {
          "output_type": "execute_result",
          "data": {
            "text/plain": [
              "array([[0., 0., 0., 0., 0., 0., 0., 0., 0., 0.],\n",
              "       [0., 0., 0., 0., 0., 0., 0., 0., 0., 0.],\n",
              "       [0., 0., 0., 0., 0., 0., 0., 0., 0., 0.],\n",
              "       [0., 0., 0., 0., 0., 0., 0., 0., 0., 0.],\n",
              "       [0., 0., 0., 0., 0., 0., 0., 0., 0., 0.],\n",
              "       [0., 0., 0., 0., 0., 0., 0., 0., 0., 0.],\n",
              "       [0., 0., 0., 0., 0., 0., 0., 0., 0., 0.],\n",
              "       [0., 0., 0., 0., 0., 0., 0., 0., 0., 0.],\n",
              "       [0., 0., 0., 0., 0., 0., 0., 0., 0., 0.],\n",
              "       [0., 0., 0., 0., 0., 0., 0., 0., 0., 0.],\n",
              "       [0., 0., 0., 0., 0., 0., 0., 0., 0., 0.],\n",
              "       [0., 0., 0., 0., 0., 0., 0., 0., 0., 0.],\n",
              "       [0., 0., 0., 0., 0., 0., 0., 0., 0., 0.],\n",
              "       [0., 0., 0., 0., 0., 0., 0., 0., 0., 0.],\n",
              "       [0., 0., 0., 0., 0., 0., 0., 0., 0., 0.],\n",
              "       [0., 0., 0., 0., 0., 0., 0., 0., 0., 0.],\n",
              "       [0., 0., 0., 0., 0., 0., 0., 0., 0., 0.],\n",
              "       [0., 0., 0., 0., 0., 0., 0., 0., 0., 0.],\n",
              "       [0., 0., 0., 0., 0., 0., 0., 0., 0., 0.],\n",
              "       [0., 0., 0., 0., 0., 0., 0., 0., 0., 0.],\n",
              "       [0., 0., 0., 0., 0., 0., 0., 0., 0., 0.],\n",
              "       [0., 0., 0., 0., 0., 0., 0., 0., 0., 0.],\n",
              "       [0., 0., 0., 0., 0., 0., 0., 0., 0., 0.],\n",
              "       [0., 0., 0., 0., 0., 0., 0., 0., 0., 0.],\n",
              "       [0., 0., 0., 0., 0., 0., 0., 0., 0., 0.],\n",
              "       [0., 0., 0., 0., 0., 0., 0., 0., 0., 0.],\n",
              "       [0., 0., 0., 0., 0., 0., 0., 0., 0., 0.],\n",
              "       [0., 0., 0., 0., 0., 0., 0., 0., 0., 0.],\n",
              "       [0., 0., 0., 0., 0., 0., 0., 0., 0., 0.],\n",
              "       [0., 0., 0., 0., 0., 0., 0., 0., 0., 0.],\n",
              "       [0., 0., 0., 0., 0., 0., 0., 0., 0., 0.],\n",
              "       [0., 0., 0., 0., 0., 0., 0., 0., 0., 0.],\n",
              "       [0., 0., 0., 0., 0., 0., 0., 0., 0., 0.],\n",
              "       [0., 0., 0., 0., 0., 0., 0., 0., 0., 0.],\n",
              "       [0., 0., 0., 0., 0., 0., 0., 0., 0., 0.],\n",
              "       [0., 0., 0., 0., 0., 0., 0., 0., 0., 0.],\n",
              "       [0., 0., 0., 0., 0., 0., 0., 0., 0., 0.],\n",
              "       [0., 0., 0., 0., 0., 0., 0., 0., 0., 0.],\n",
              "       [0., 0., 0., 0., 0., 0., 0., 0., 0., 0.],\n",
              "       [0., 0., 0., 0., 0., 0., 0., 0., 0., 0.],\n",
              "       [0., 0., 0., 0., 0., 0., 0., 0., 0., 0.],\n",
              "       [0., 0., 0., 0., 0., 0., 0., 0., 0., 0.],\n",
              "       [0., 0., 0., 0., 0., 0., 0., 0., 0., 0.],\n",
              "       [0., 0., 0., 0., 0., 0., 0., 0., 0., 0.],\n",
              "       [0., 0., 0., 0., 0., 0., 0., 0., 0., 0.],\n",
              "       [0., 0., 0., 0., 0., 0., 0., 0., 0., 0.],\n",
              "       [0., 0., 0., 0., 0., 0., 0., 0., 0., 0.],\n",
              "       [0., 0., 0., 0., 0., 0., 0., 0., 0., 0.],\n",
              "       [0., 0., 0., 0., 0., 0., 0., 0., 0., 0.],\n",
              "       [0., 0., 0., 0., 0., 0., 0., 0., 0., 0.]])"
            ]
          },
          "metadata": {
            "tags": []
          },
          "execution_count": 43
        }
      ]
    },
    {
      "cell_type": "markdown",
      "metadata": {
        "id": "Wj2d64vcDKmR"
      },
      "source": [
        "A ideia agora é colocar essa variável o nosso último valor real conhecido da nossa base de dados que será o marco zero da nossa simulação\r\n"
      ]
    },
    {
      "cell_type": "code",
      "metadata": {
        "colab": {
          "base_uri": "https://localhost:8080/"
        },
        "id": "4_3caW2sDeVI",
        "outputId": "08391082-47d8-4c90-b33c-bbe2845843c6"
      },
      "source": [
        "previsoes[0] = df_mc.iloc[-1]\r\n",
        "previsoes[0]"
      ],
      "execution_count": 44,
      "outputs": [
        {
          "output_type": "execute_result",
          "data": {
            "text/plain": [
              "array([75.61000061, 75.61000061, 75.61000061, 75.61000061, 75.61000061,\n",
              "       75.61000061, 75.61000061, 75.61000061, 75.61000061, 75.61000061])"
            ]
          },
          "metadata": {
            "tags": []
          },
          "execution_count": 44
        }
      ]
    },
    {
      "cell_type": "markdown",
      "metadata": {
        "id": "OftQUi88EA4s"
      },
      "source": [
        "Agora basta percorrer os registros com a quantidade dos dias pra frente e prever os valores"
      ]
    },
    {
      "cell_type": "code",
      "metadata": {
        "id": "0oxmI8r7CKMS"
      },
      "source": [
        "for dia in range(1, dias_frente):\r\n",
        "  #print(dia)\r\n",
        "  previsoes[dia] = previsoes[dia - 1] * retornos_diarios[dia]"
      ],
      "execution_count": 45,
      "outputs": []
    },
    {
      "cell_type": "markdown",
      "metadata": {
        "id": "BplIcmIPEuv9"
      },
      "source": [
        "Agora que já temos as previsões, podemos gerar o gráfico delas para melhor visualização."
      ]
    },
    {
      "cell_type": "markdown",
      "metadata": {
        "id": "zF09GELaE0wl"
      },
      "source": [
        "- ## Gráfico das previsões"
      ]
    },
    {
      "cell_type": "code",
      "metadata": {
        "colab": {
          "base_uri": "https://localhost:8080/",
          "height": 542
        },
        "id": "2Frxhgp9FEyU",
        "outputId": "7dfd5475-d8ad-4555-e931-0ba776210af1"
      },
      "source": [
        "figura = px.line(title = 'Previsões do preço das simulações')\r\n",
        "for i in range(len(previsoes.T)):\r\n",
        "  figura.add_scatter(y = previsoes.T[i], name = i)\r\n",
        "figura.show()"
      ],
      "execution_count": 46,
      "outputs": [
        {
          "output_type": "display_data",
          "data": {
            "text/html": [
              "<html>\n",
              "<head><meta charset=\"utf-8\" /></head>\n",
              "<body>\n",
              "    <div>\n",
              "            <script src=\"https://cdnjs.cloudflare.com/ajax/libs/mathjax/2.7.5/MathJax.js?config=TeX-AMS-MML_SVG\"></script><script type=\"text/javascript\">if (window.MathJax) {MathJax.Hub.Config({SVG: {font: \"STIX-Web\"}});}</script>\n",
              "                <script type=\"text/javascript\">window.PlotlyConfig = {MathJaxConfig: 'local'};</script>\n",
              "        <script src=\"https://cdn.plot.ly/plotly-latest.min.js\"></script>    \n",
              "            <div id=\"1621df3c-9a39-4e02-af6b-ff8b8d5e4c08\" class=\"plotly-graph-div\" style=\"height:525px; width:100%;\"></div>\n",
              "            <script type=\"text/javascript\">\n",
              "                \n",
              "                    window.PLOTLYENV=window.PLOTLYENV || {};\n",
              "                    \n",
              "                if (document.getElementById(\"1621df3c-9a39-4e02-af6b-ff8b8d5e4c08\")) {\n",
              "                    Plotly.newPlot(\n",
              "                        '1621df3c-9a39-4e02-af6b-ff8b8d5e4c08',\n",
              "                        [{\"name\": \"0\", \"type\": \"scatter\", \"y\": [75.61000061035156, 75.326372793838, 70.3879928536076, 69.508790233591, 70.68101509622264, 70.75912746974743, 66.74189458538652, 65.17165845277668, 69.32341436899476, 67.09998365724965, 68.83768820014349, 61.24119495894487, 56.57018381861099, 57.471836822726885, 53.88382967311575, 51.25725215436025, 52.60053669878943, 53.4392872999975, 57.65742495315965, 55.86014334677983, 53.549259216956, 54.70862522152834, 53.68434694139299, 54.68866524465847, 55.24934209483217, 55.396279568967934, 56.71736538861183, 59.91154122958935, 60.872820413757516, 59.91134755427905, 62.74489080952604, 59.865420203855976, 58.96336516985603, 60.66205434484197, 59.32469243723999, 58.64886690739712, 55.89600195825967, 55.37282346368232, 55.420431998844094, 57.15327425972315, 60.27159953802942, 62.19947038829671, 63.827119543736366, 63.792931697144255, 63.791463848758916, 64.20623837175577, 60.44241872496756, 53.437045144561644, 54.111869658389466, 52.425894196882595]}, {\"name\": \"1\", \"type\": \"scatter\", \"y\": [75.61000061035156, 79.6907606804614, 84.62385599340382, 84.19966462680732, 79.28760023898532, 78.70248823248721, 79.71147671844054, 83.26376423796556, 89.71989271733248, 83.00623829198385, 76.5480788408856, 80.13098366511787, 77.86558848027695, 75.79113523413416, 75.87201056054421, 80.45143930337606, 80.77175061104799, 83.36864093584805, 87.79489345380814, 89.74816509206478, 92.6272123938684, 96.9893759486107, 102.52236370180984, 102.36588137852593, 100.1666860477116, 95.27848407671229, 90.7573208013799, 91.60544882384512, 90.55214617181366, 88.61828318468972, 87.2765004413519, 94.6908874048019, 99.91553377524215, 98.10819007287955, 99.40546482279862, 102.53558287119397, 101.37934708040498, 96.33637391625267, 95.71138114296343, 98.1309519248376, 98.7393459050408, 98.2172077331328, 93.03280979753515, 87.62421057953816, 87.81828893885034, 86.85689295932747, 84.12842566369062, 84.79920516403241, 87.76113850649296, 90.14263363686983]}, {\"name\": \"2\", \"type\": \"scatter\", \"y\": [75.61000061035156, 75.90732727858342, 77.85691892181126, 80.3954486339653, 80.76842477446465, 78.60380816019428, 78.80194681116798, 81.699329784231, 83.79778802552944, 89.85949290017854, 88.51443899176252, 88.54927161438252, 92.18614900781546, 90.0721840164365, 79.57565699512422, 76.44875061678559, 78.14165441383403, 79.0977656712272, 79.34986495830816, 85.57003728869391, 86.06226941248472, 88.22864184606992, 84.36408000535693, 79.70599787765686, 80.01488047815893, 83.08491039695751, 81.33602861705786, 76.46118224191929, 80.05415213356625, 80.71642876643517, 80.14512602492422, 80.82912589927754, 85.64735449848294, 89.05779900002571, 93.96651715319422, 98.97938954889594, 96.54320460583457, 94.33221736068793, 101.09424438401653, 98.64245417894085, 98.48172481922664, 99.10667876280615, 94.15578999415993, 92.82862695601011, 95.65520584668177, 97.19075297869865, 94.58631580683098, 90.71351028535473, 95.2374112127682, 97.26484460494665]}, {\"name\": \"3\", \"type\": \"scatter\", \"y\": [75.61000061035156, 80.6909108556866, 84.396309752086, 84.25634976280135, 87.65467098170048, 94.91520504385191, 92.50553860403915, 96.84481749096823, 92.07389547319482, 88.16841952577647, 88.52740220683484, 85.88813189548995, 88.20647309414353, 86.06310327746907, 84.45070271091546, 83.7688612996022, 87.9137730896869, 91.64314587705039, 93.11476735115747, 91.90290971394651, 92.51364162904886, 93.89567811336, 86.60459028190024, 83.47210604599933, 79.91632412917066, 77.76287478990105, 84.48057688688851, 85.01901156809043, 86.44925295330158, 80.55790487272341, 78.77569120671969, 83.89914363083908, 86.39193692346072, 80.82007078394318, 81.46308001401478, 79.03384398309235, 74.66621766703891, 76.01698354979006, 73.12691206286134, 78.26563887396287, 75.24437005405625, 76.10074971649581, 75.17598742253256, 76.65496027794602, 75.13211382887104, 74.67836017669379, 71.35819420802875, 70.7094863017903, 67.94831721602304, 68.06985361367246]}, {\"name\": \"4\", \"type\": \"scatter\", \"y\": [75.61000061035156, 80.32553219663048, 80.0340665640658, 75.12489762763835, 71.92863521779607, 70.25715325702551, 67.25256131449609, 66.10860699174248, 65.77323159417872, 65.73154207821511, 59.54022450099686, 61.36778607109774, 62.690397393378454, 60.339668634365395, 60.28372501017843, 56.864076568190185, 58.02600127744987, 55.421563311493735, 53.47829481679937, 52.87098386588584, 56.1027855485873, 57.774131024006714, 56.378559474594326, 54.43764869953684, 54.27958290626606, 54.34708149175296, 52.45720162070373, 52.9163065423386, 50.71677729400726, 50.45338054632133, 50.68647842751167, 50.30740000898428, 50.505428693222804, 49.46483296121665, 48.04491810095113, 46.39754184688673, 45.28753169491793, 47.23120918400391, 47.15115968774485, 46.98390551754314, 47.75338279270321, 43.051482103055974, 44.64892853619352, 44.52105911668894, 45.267603653445846, 41.29524455912336, 41.172126498879564, 38.70625837254634, 37.329342052599216, 37.57942416676282]}, {\"name\": \"5\", \"type\": \"scatter\", \"y\": [75.61000061035156, 77.345466860295, 77.84004857572833, 76.61288078324192, 78.90933228695081, 82.05929267472972, 84.16146923418022, 86.18579481270534, 91.46736252897512, 91.0034562769337, 89.3589754622534, 90.94584420237518, 91.56646910306041, 94.17301879846529, 94.46200415137403, 90.19187924297067, 91.26881125288912, 89.0300824869296, 94.83148265646189, 94.6410413030481, 93.44922888149925, 94.3012396074662, 90.85187705879942, 95.02878835889511, 92.66087825746786, 89.23751406899777, 89.4963118595186, 85.1756624949981, 86.89093563829236, 86.51139975473681, 86.86982128975225, 87.20643109321122, 85.82681933887159, 82.45930208512547, 82.6673662570208, 87.15326287067433, 89.8194345997516, 91.22960883097306, 93.40058468275807, 95.5800748327746, 98.3780154544807, 97.0051667980893, 92.76466098570961, 91.17218268914554, 95.16039790894322, 98.23612584760747, 105.91273480382605, 105.69423127305684, 102.55092782590629, 99.53189005214011]}, {\"name\": \"6\", \"type\": \"scatter\", \"y\": [75.61000061035156, 74.63710730710822, 73.65989004664328, 71.356907808729, 76.21944974575621, 76.81034090403885, 78.00130246355194, 80.07627209660691, 79.8749858990203, 86.95621156500626, 81.34166893564533, 78.97970029465812, 82.40266545041312, 85.71098572195585, 86.95235668922147, 87.74350049548997, 85.56144849311153, 89.23658061614898, 90.2005959038118, 88.74095843659184, 85.71792000720613, 83.93169306259338, 88.11933255140629, 86.79506624535892, 82.15497202959654, 79.76076182215444, 77.90891951780308, 77.58424855174569, 78.66523500301255, 75.91373408314801, 72.59533577395732, 72.1807663458886, 70.017220065969, 66.16675525333055, 64.40285130169147, 64.70859884131764, 66.97305578538081, 68.14517661716484, 72.38469654672045, 71.00686010651762, 71.84561333730261, 72.86176578127107, 71.43593946827447, 70.39187831705485, 69.75605301574134, 72.99335344954659, 72.32877189333173, 72.85261183270046, 70.22142473632626, 70.40382167674788]}, {\"name\": \"7\", \"type\": \"scatter\", \"y\": [75.61000061035156, 72.53035084071263, 70.28920927675647, 73.79508287506131, 71.31052346312694, 68.90175079443965, 73.47771548177612, 73.38601633023524, 71.44203827127087, 73.35687289847614, 75.51559138917435, 71.92747177294085, 70.46589486526972, 73.93266406530914, 72.99194560885782, 73.58339749085124, 73.6589160866613, 75.2743595056291, 76.7203442498807, 83.1020858672894, 80.16184515094434, 79.60851015493822, 80.57366404461604, 80.01389547197294, 85.65952989806246, 84.49400979619861, 83.34522281443867, 79.47694736830232, 82.53875643820118, 86.33809852672469, 83.49806101827086, 83.58573285712168, 86.64615734274514, 84.84920856926873, 86.1704528497929, 87.8647378825176, 88.06674156439142, 88.37470282672567, 90.25963474503108, 90.59894264109138, 87.99470975855701, 92.21574016783906, 90.21315026525474, 88.54691756441828, 89.41418176545984, 87.61631933944375, 85.2256869903108, 82.39630916846149, 80.58818302441378, 83.99161121367798]}, {\"name\": \"8\", \"type\": \"scatter\", \"y\": [75.61000061035156, 70.72479423350246, 71.41041324999549, 74.8306989385695, 78.61549781216662, 74.30880917154165, 72.36987235499168, 72.58160283531467, 76.67707412066142, 74.92702471491968, 72.51738653065556, 72.85172221977705, 74.72838278325013, 73.8615964223794, 74.19318114605505, 72.21746632785116, 71.49414036788662, 67.62143162449097, 68.7819025271327, 71.71608924752681, 72.19300366612336, 68.71486763098478, 64.67643592449834, 65.13988873693563, 65.02351022820231, 63.841332878537784, 64.96953785143101, 61.55401942054135, 61.47553658419276, 64.11219518722123, 62.09177478278439, 61.76345123345315, 66.5965726999794, 66.77882490911048, 61.78092887415385, 57.86446697182061, 55.790721592855995, 51.11364266166615, 51.27225549522618, 51.754167241331096, 51.44496845884247, 55.275661311895995, 52.1077516384222, 51.44677957994155, 51.69966536858376, 51.68785179262311, 51.20717896975607, 52.19030379514046, 51.011601746734335, 51.24853040995418]}, {\"name\": \"9\", \"type\": \"scatter\", \"y\": [75.61000061035156, 76.52340174225498, 78.59071684099997, 81.88637208558654, 81.40004008901924, 82.86331015995184, 78.20161386976028, 78.20715076808033, 81.13857874322997, 81.11268827835083, 77.21454813843373, 82.03624515279523, 79.58816661951812, 75.99958612940453, 74.88518683943079, 76.97348777530298, 84.52082659547587, 87.19871629306022, 88.09570443772894, 86.78860600642668, 90.1390905743882, 88.52463585638756, 94.75536743647537, 92.74537422050732, 92.61482035941351, 92.75092769094087, 92.08170916190753, 91.05030773490671, 96.7681123317704, 96.76560902504914, 93.82594315603357, 97.13559937300107, 97.61681991499712, 95.8367123046169, 92.45796718656726, 95.26508783854662, 95.5006499677333, 93.88586476047986, 89.06503078914014, 92.50283830456213, 93.71917132114062, 89.81294124414856, 89.49014886404058, 89.01807756992419, 89.028972586725, 87.43963813093902, 86.07224965092601, 83.71815152825299, 81.37889710967266, 82.6665880349527]}],\n",
              "                        {\"legend\": {\"tracegroupgap\": 0}, \"template\": {\"data\": {\"bar\": [{\"error_x\": {\"color\": \"#2a3f5f\"}, \"error_y\": {\"color\": \"#2a3f5f\"}, \"marker\": {\"line\": {\"color\": \"#E5ECF6\", \"width\": 0.5}}, \"type\": \"bar\"}], \"barpolar\": [{\"marker\": {\"line\": {\"color\": \"#E5ECF6\", \"width\": 0.5}}, \"type\": \"barpolar\"}], \"carpet\": [{\"aaxis\": {\"endlinecolor\": \"#2a3f5f\", \"gridcolor\": \"white\", \"linecolor\": \"white\", \"minorgridcolor\": \"white\", \"startlinecolor\": \"#2a3f5f\"}, \"baxis\": {\"endlinecolor\": \"#2a3f5f\", \"gridcolor\": \"white\", \"linecolor\": \"white\", \"minorgridcolor\": \"white\", \"startlinecolor\": \"#2a3f5f\"}, \"type\": \"carpet\"}], \"choropleth\": [{\"colorbar\": {\"outlinewidth\": 0, \"ticks\": \"\"}, \"type\": \"choropleth\"}], \"contour\": [{\"colorbar\": {\"outlinewidth\": 0, \"ticks\": \"\"}, \"colorscale\": [[0.0, \"#0d0887\"], [0.1111111111111111, \"#46039f\"], [0.2222222222222222, \"#7201a8\"], [0.3333333333333333, \"#9c179e\"], [0.4444444444444444, \"#bd3786\"], [0.5555555555555556, \"#d8576b\"], [0.6666666666666666, \"#ed7953\"], [0.7777777777777778, \"#fb9f3a\"], [0.8888888888888888, \"#fdca26\"], [1.0, \"#f0f921\"]], \"type\": \"contour\"}], \"contourcarpet\": [{\"colorbar\": {\"outlinewidth\": 0, \"ticks\": \"\"}, \"type\": \"contourcarpet\"}], \"heatmap\": [{\"colorbar\": {\"outlinewidth\": 0, \"ticks\": \"\"}, \"colorscale\": [[0.0, \"#0d0887\"], [0.1111111111111111, \"#46039f\"], [0.2222222222222222, \"#7201a8\"], [0.3333333333333333, \"#9c179e\"], [0.4444444444444444, \"#bd3786\"], [0.5555555555555556, \"#d8576b\"], [0.6666666666666666, \"#ed7953\"], [0.7777777777777778, \"#fb9f3a\"], [0.8888888888888888, \"#fdca26\"], [1.0, \"#f0f921\"]], \"type\": \"heatmap\"}], \"heatmapgl\": [{\"colorbar\": {\"outlinewidth\": 0, \"ticks\": \"\"}, \"colorscale\": [[0.0, \"#0d0887\"], [0.1111111111111111, \"#46039f\"], [0.2222222222222222, \"#7201a8\"], [0.3333333333333333, \"#9c179e\"], [0.4444444444444444, \"#bd3786\"], [0.5555555555555556, \"#d8576b\"], [0.6666666666666666, \"#ed7953\"], [0.7777777777777778, \"#fb9f3a\"], [0.8888888888888888, \"#fdca26\"], [1.0, \"#f0f921\"]], \"type\": \"heatmapgl\"}], \"histogram\": [{\"marker\": {\"colorbar\": {\"outlinewidth\": 0, \"ticks\": \"\"}}, \"type\": \"histogram\"}], \"histogram2d\": [{\"colorbar\": {\"outlinewidth\": 0, \"ticks\": \"\"}, \"colorscale\": [[0.0, \"#0d0887\"], [0.1111111111111111, \"#46039f\"], [0.2222222222222222, \"#7201a8\"], [0.3333333333333333, \"#9c179e\"], [0.4444444444444444, \"#bd3786\"], [0.5555555555555556, \"#d8576b\"], [0.6666666666666666, \"#ed7953\"], [0.7777777777777778, \"#fb9f3a\"], [0.8888888888888888, \"#fdca26\"], [1.0, \"#f0f921\"]], \"type\": \"histogram2d\"}], \"histogram2dcontour\": [{\"colorbar\": {\"outlinewidth\": 0, \"ticks\": \"\"}, \"colorscale\": [[0.0, \"#0d0887\"], [0.1111111111111111, \"#46039f\"], [0.2222222222222222, \"#7201a8\"], [0.3333333333333333, \"#9c179e\"], [0.4444444444444444, \"#bd3786\"], [0.5555555555555556, \"#d8576b\"], [0.6666666666666666, \"#ed7953\"], [0.7777777777777778, \"#fb9f3a\"], [0.8888888888888888, \"#fdca26\"], [1.0, \"#f0f921\"]], \"type\": \"histogram2dcontour\"}], \"mesh3d\": [{\"colorbar\": {\"outlinewidth\": 0, \"ticks\": \"\"}, \"type\": \"mesh3d\"}], \"parcoords\": [{\"line\": {\"colorbar\": {\"outlinewidth\": 0, \"ticks\": \"\"}}, \"type\": \"parcoords\"}], \"pie\": [{\"automargin\": true, \"type\": \"pie\"}], \"scatter\": [{\"marker\": {\"colorbar\": {\"outlinewidth\": 0, \"ticks\": \"\"}}, \"type\": \"scatter\"}], \"scatter3d\": [{\"line\": {\"colorbar\": {\"outlinewidth\": 0, \"ticks\": \"\"}}, \"marker\": {\"colorbar\": {\"outlinewidth\": 0, \"ticks\": \"\"}}, \"type\": \"scatter3d\"}], \"scattercarpet\": [{\"marker\": {\"colorbar\": {\"outlinewidth\": 0, \"ticks\": \"\"}}, \"type\": \"scattercarpet\"}], \"scattergeo\": [{\"marker\": {\"colorbar\": {\"outlinewidth\": 0, \"ticks\": \"\"}}, \"type\": \"scattergeo\"}], \"scattergl\": [{\"marker\": {\"colorbar\": {\"outlinewidth\": 0, \"ticks\": \"\"}}, \"type\": \"scattergl\"}], \"scattermapbox\": [{\"marker\": {\"colorbar\": {\"outlinewidth\": 0, \"ticks\": \"\"}}, \"type\": \"scattermapbox\"}], \"scatterpolar\": [{\"marker\": {\"colorbar\": {\"outlinewidth\": 0, \"ticks\": \"\"}}, \"type\": \"scatterpolar\"}], \"scatterpolargl\": [{\"marker\": {\"colorbar\": {\"outlinewidth\": 0, \"ticks\": \"\"}}, \"type\": \"scatterpolargl\"}], \"scatterternary\": [{\"marker\": {\"colorbar\": {\"outlinewidth\": 0, \"ticks\": \"\"}}, \"type\": \"scatterternary\"}], \"surface\": [{\"colorbar\": {\"outlinewidth\": 0, \"ticks\": \"\"}, \"colorscale\": [[0.0, \"#0d0887\"], [0.1111111111111111, \"#46039f\"], [0.2222222222222222, \"#7201a8\"], [0.3333333333333333, \"#9c179e\"], [0.4444444444444444, \"#bd3786\"], [0.5555555555555556, \"#d8576b\"], [0.6666666666666666, \"#ed7953\"], [0.7777777777777778, \"#fb9f3a\"], [0.8888888888888888, \"#fdca26\"], [1.0, \"#f0f921\"]], \"type\": \"surface\"}], \"table\": [{\"cells\": {\"fill\": {\"color\": \"#EBF0F8\"}, \"line\": {\"color\": \"white\"}}, \"header\": {\"fill\": {\"color\": \"#C8D4E3\"}, \"line\": {\"color\": \"white\"}}, \"type\": \"table\"}]}, \"layout\": {\"annotationdefaults\": {\"arrowcolor\": \"#2a3f5f\", \"arrowhead\": 0, \"arrowwidth\": 1}, \"coloraxis\": {\"colorbar\": {\"outlinewidth\": 0, \"ticks\": \"\"}}, \"colorscale\": {\"diverging\": [[0, \"#8e0152\"], [0.1, \"#c51b7d\"], [0.2, \"#de77ae\"], [0.3, \"#f1b6da\"], [0.4, \"#fde0ef\"], [0.5, \"#f7f7f7\"], [0.6, \"#e6f5d0\"], [0.7, \"#b8e186\"], [0.8, \"#7fbc41\"], [0.9, \"#4d9221\"], [1, \"#276419\"]], \"sequential\": [[0.0, \"#0d0887\"], [0.1111111111111111, \"#46039f\"], [0.2222222222222222, \"#7201a8\"], [0.3333333333333333, \"#9c179e\"], [0.4444444444444444, \"#bd3786\"], [0.5555555555555556, \"#d8576b\"], [0.6666666666666666, \"#ed7953\"], [0.7777777777777778, \"#fb9f3a\"], [0.8888888888888888, \"#fdca26\"], [1.0, \"#f0f921\"]], \"sequentialminus\": [[0.0, \"#0d0887\"], [0.1111111111111111, \"#46039f\"], [0.2222222222222222, \"#7201a8\"], [0.3333333333333333, \"#9c179e\"], [0.4444444444444444, \"#bd3786\"], [0.5555555555555556, \"#d8576b\"], [0.6666666666666666, \"#ed7953\"], [0.7777777777777778, \"#fb9f3a\"], [0.8888888888888888, \"#fdca26\"], [1.0, \"#f0f921\"]]}, \"colorway\": [\"#636efa\", \"#EF553B\", \"#00cc96\", \"#ab63fa\", \"#FFA15A\", \"#19d3f3\", \"#FF6692\", \"#B6E880\", \"#FF97FF\", \"#FECB52\"], \"font\": {\"color\": \"#2a3f5f\"}, \"geo\": {\"bgcolor\": \"white\", \"lakecolor\": \"white\", \"landcolor\": \"#E5ECF6\", \"showlakes\": true, \"showland\": true, \"subunitcolor\": \"white\"}, \"hoverlabel\": {\"align\": \"left\"}, \"hovermode\": \"closest\", \"mapbox\": {\"style\": \"light\"}, \"paper_bgcolor\": \"white\", \"plot_bgcolor\": \"#E5ECF6\", \"polar\": {\"angularaxis\": {\"gridcolor\": \"white\", \"linecolor\": \"white\", \"ticks\": \"\"}, \"bgcolor\": \"#E5ECF6\", \"radialaxis\": {\"gridcolor\": \"white\", \"linecolor\": \"white\", \"ticks\": \"\"}}, \"scene\": {\"xaxis\": {\"backgroundcolor\": \"#E5ECF6\", \"gridcolor\": \"white\", \"gridwidth\": 2, \"linecolor\": \"white\", \"showbackground\": true, \"ticks\": \"\", \"zerolinecolor\": \"white\"}, \"yaxis\": {\"backgroundcolor\": \"#E5ECF6\", \"gridcolor\": \"white\", \"gridwidth\": 2, \"linecolor\": \"white\", \"showbackground\": true, \"ticks\": \"\", \"zerolinecolor\": \"white\"}, \"zaxis\": {\"backgroundcolor\": \"#E5ECF6\", \"gridcolor\": \"white\", \"gridwidth\": 2, \"linecolor\": \"white\", \"showbackground\": true, \"ticks\": \"\", \"zerolinecolor\": \"white\"}}, \"shapedefaults\": {\"line\": {\"color\": \"#2a3f5f\"}}, \"ternary\": {\"aaxis\": {\"gridcolor\": \"white\", \"linecolor\": \"white\", \"ticks\": \"\"}, \"baxis\": {\"gridcolor\": \"white\", \"linecolor\": \"white\", \"ticks\": \"\"}, \"bgcolor\": \"#E5ECF6\", \"caxis\": {\"gridcolor\": \"white\", \"linecolor\": \"white\", \"ticks\": \"\"}}, \"title\": {\"x\": 0.05}, \"xaxis\": {\"automargin\": true, \"gridcolor\": \"white\", \"linecolor\": \"white\", \"ticks\": \"\", \"title\": {\"standoff\": 15}, \"zerolinecolor\": \"white\", \"zerolinewidth\": 2}, \"yaxis\": {\"automargin\": true, \"gridcolor\": \"white\", \"linecolor\": \"white\", \"ticks\": \"\", \"title\": {\"standoff\": 15}, \"zerolinecolor\": \"white\", \"zerolinewidth\": 2}}}, \"title\": {\"text\": \"Previs\\u00f5es do pre\\u00e7o das simula\\u00e7\\u00f5es\"}, \"xaxis\": {\"anchor\": \"y\", \"domain\": [0.0, 1.0]}, \"yaxis\": {\"anchor\": \"x\", \"domain\": [0.0, 1.0]}},\n",
              "                        {\"responsive\": true}\n",
              "                    ).then(function(){\n",
              "                            \n",
              "var gd = document.getElementById('1621df3c-9a39-4e02-af6b-ff8b8d5e4c08');\n",
              "var x = new MutationObserver(function (mutations, observer) {{\n",
              "        var display = window.getComputedStyle(gd).display;\n",
              "        if (!display || display === 'none') {{\n",
              "            console.log([gd, 'removed!']);\n",
              "            Plotly.purge(gd);\n",
              "            observer.disconnect();\n",
              "        }}\n",
              "}});\n",
              "\n",
              "// Listen for the removal of the full notebook cells\n",
              "var notebookContainer = gd.closest('#notebook-container');\n",
              "if (notebookContainer) {{\n",
              "    x.observe(notebookContainer, {childList: true});\n",
              "}}\n",
              "\n",
              "// Listen for the clearing of the current output cell\n",
              "var outputEl = gd.closest('.output');\n",
              "if (outputEl) {{\n",
              "    x.observe(outputEl, {childList: true});\n",
              "}}\n",
              "\n",
              "                        })\n",
              "                };\n",
              "                \n",
              "            </script>\n",
              "        </div>\n",
              "</body>\n",
              "</html>"
            ]
          },
          "metadata": {
            "tags": []
          }
        }
      ]
    },
    {
      "cell_type": "markdown",
      "metadata": {
        "id": "y2uY-VoWGb0t"
      },
      "source": [
        "Podemos clicar no botão \"Compare data on hover\" para verificar os valores e podemos concluir que:\r\n",
        "\r\n",
        "Começamos a nossa previsão com um valor de 75.61, com melhor cenário sendo o 5 (99,53) e o pior sendo o 4 (37.57)\r\n",
        "\r\n",
        "Agora podemos validar nossa simulação, comparando os valores reais com os previstos."
      ]
    },
    {
      "cell_type": "markdown",
      "metadata": {
        "id": "9AcO1l5EHt8j"
      },
      "source": [
        "- ## Comparação das previsões com os preços reais\r\n"
      ]
    },
    {
      "cell_type": "markdown",
      "metadata": {
        "id": "e4GaJVmEMVms"
      },
      "source": [
        "Vamos importar agora os valores novos para comparação. \r\n",
        "\r\n",
        "Obs: Como esse notebook é working process, podem não ter ainda as 50 datas a frente."
      ]
    },
    {
      "cell_type": "code",
      "metadata": {
        "colab": {
          "base_uri": "https://localhost:8080/"
        },
        "id": "FjyjLKe7LqYG",
        "outputId": "481e737d-1556-4ad9-bbd9-d573cb11f0ed"
      },
      "source": [
        "from pandas_datareader import data\r\n",
        "df_b2w_atual = data.DataReader(name = 'BTOW3.SA', data_source='yahoo', start='2021-01-01')['Close']\r\n",
        "df_b2w_atual"
      ],
      "execution_count": 54,
      "outputs": [
        {
          "output_type": "execute_result",
          "data": {
            "text/plain": [
              "Date\n",
              "2021-01-04    75.180000\n",
              "2021-01-05    73.500000\n",
              "2021-01-06    68.699997\n",
              "2021-01-07    67.309998\n",
              "2021-01-08    71.900002\n",
              "2021-01-11    71.309998\n",
              "2021-01-12    74.089996\n",
              "2021-01-13    75.300003\n",
              "2021-01-14    77.349998\n",
              "Name: Close, dtype: float64"
            ]
          },
          "metadata": {
            "tags": []
          },
          "execution_count": 54
        }
      ]
    },
    {
      "cell_type": "code",
      "metadata": {
        "colab": {
          "base_uri": "https://localhost:8080/",
          "height": 317
        },
        "id": "dMQw7dxPMJt4",
        "outputId": "4f60df58-c4c6-4154-903f-50d3e2777a18"
      },
      "source": [
        "#Vamos salvar o dataset para caso ocorra algum erro com o servidor e não perdermos os dados, e ler o arquivo de novo para entrar no formato de dataframe.\r\n",
        "df_b2w_atual.to_csv('b2w_atual.csv')\r\n",
        "df_b2w_atual = pd.read_csv('b2w_atual.csv')\r\n",
        "df_b2w_atual"
      ],
      "execution_count": 55,
      "outputs": [
        {
          "output_type": "execute_result",
          "data": {
            "text/html": [
              "<div>\n",
              "<style scoped>\n",
              "    .dataframe tbody tr th:only-of-type {\n",
              "        vertical-align: middle;\n",
              "    }\n",
              "\n",
              "    .dataframe tbody tr th {\n",
              "        vertical-align: top;\n",
              "    }\n",
              "\n",
              "    .dataframe thead th {\n",
              "        text-align: right;\n",
              "    }\n",
              "</style>\n",
              "<table border=\"1\" class=\"dataframe\">\n",
              "  <thead>\n",
              "    <tr style=\"text-align: right;\">\n",
              "      <th></th>\n",
              "      <th>Date</th>\n",
              "      <th>Close</th>\n",
              "    </tr>\n",
              "  </thead>\n",
              "  <tbody>\n",
              "    <tr>\n",
              "      <th>0</th>\n",
              "      <td>2021-01-04</td>\n",
              "      <td>75.180000</td>\n",
              "    </tr>\n",
              "    <tr>\n",
              "      <th>1</th>\n",
              "      <td>2021-01-05</td>\n",
              "      <td>73.500000</td>\n",
              "    </tr>\n",
              "    <tr>\n",
              "      <th>2</th>\n",
              "      <td>2021-01-06</td>\n",
              "      <td>68.699997</td>\n",
              "    </tr>\n",
              "    <tr>\n",
              "      <th>3</th>\n",
              "      <td>2021-01-07</td>\n",
              "      <td>67.309998</td>\n",
              "    </tr>\n",
              "    <tr>\n",
              "      <th>4</th>\n",
              "      <td>2021-01-08</td>\n",
              "      <td>71.900002</td>\n",
              "    </tr>\n",
              "    <tr>\n",
              "      <th>5</th>\n",
              "      <td>2021-01-11</td>\n",
              "      <td>71.309998</td>\n",
              "    </tr>\n",
              "    <tr>\n",
              "      <th>6</th>\n",
              "      <td>2021-01-12</td>\n",
              "      <td>74.089996</td>\n",
              "    </tr>\n",
              "    <tr>\n",
              "      <th>7</th>\n",
              "      <td>2021-01-13</td>\n",
              "      <td>75.300003</td>\n",
              "    </tr>\n",
              "    <tr>\n",
              "      <th>8</th>\n",
              "      <td>2021-01-14</td>\n",
              "      <td>77.349998</td>\n",
              "    </tr>\n",
              "  </tbody>\n",
              "</table>\n",
              "</div>"
            ],
            "text/plain": [
              "         Date      Close\n",
              "0  2021-01-04  75.180000\n",
              "1  2021-01-05  73.500000\n",
              "2  2021-01-06  68.699997\n",
              "3  2021-01-07  67.309998\n",
              "4  2021-01-08  71.900002\n",
              "5  2021-01-11  71.309998\n",
              "6  2021-01-12  74.089996\n",
              "7  2021-01-13  75.300003\n",
              "8  2021-01-14  77.349998"
            ]
          },
          "metadata": {
            "tags": []
          },
          "execution_count": 55
        }
      ]
    },
    {
      "cell_type": "markdown",
      "metadata": {
        "id": "u4u_EU8JNZXy"
      },
      "source": [
        "Temos agora que fazer as comparações com as simulações executadas. No nosso caso, fizemos 10 simulações. \r\n",
        "Para termos uma idéia do que iremos verificar pela frente, vamos realizar somente com a primeira simulação, por ora.\r\n",
        "\r\n",
        "Para isso precisamos pegar as previsões, transpor no indíce zero (primeira simulação) e retornar somente o tamanho da nossa dataset atual). Isso é útil, pois podemos prever vários dias na frente, e comparar com somente uma parte."
      ]
    },
    {
      "cell_type": "code",
      "metadata": {
        "colab": {
          "base_uri": "https://localhost:8080/"
        },
        "id": "NNe-Ma0fMvLL",
        "outputId": "796fa958-c6f3-4191-fdbb-e9d052c7fbbf"
      },
      "source": [
        "sim1 = previsoes.T[0][0:len(df_b2w_atual)]\r\n",
        "sim1"
      ],
      "execution_count": 59,
      "outputs": [
        {
          "output_type": "execute_result",
          "data": {
            "text/plain": [
              "array([75.61000061, 75.32637279, 70.38799285, 69.50879023, 70.6810151 ,\n",
              "       70.75912747, 66.74189459, 65.17165845, 69.32341437])"
            ]
          },
          "metadata": {
            "tags": []
          },
          "execution_count": 59
        }
      ]
    },
    {
      "cell_type": "markdown",
      "metadata": {
        "id": "kkbmALDJN02L"
      },
      "source": [
        "Temos nosso retorno dos nossos primeiros registros baseados no tamanho atual da amostra.\r\n",
        "\r\n",
        "Podemos agora calcular na mão o erro de previsão, diminuindo o valor real pelo previsto, e depois também calcular o somatório dos valores das diferenças."
      ]
    },
    {
      "cell_type": "code",
      "metadata": {
        "colab": {
          "base_uri": "https://localhost:8080/"
        },
        "id": "e49dlyd0NxRk",
        "outputId": "87f12ed5-8ec5-4fcc-9bf7-91f936d9ee87"
      },
      "source": [
        "# Diferença absoluta dos valores reais e previstos\r\n",
        "abs(df_b2w_atual['Close'] - sim1)"
      ],
      "execution_count": 61,
      "outputs": [
        {
          "output_type": "execute_result",
          "data": {
            "text/plain": [
              "0     0.430000\n",
              "1     1.826373\n",
              "2     1.687996\n",
              "3     2.198793\n",
              "4     1.218986\n",
              "5     0.550870\n",
              "6     7.348102\n",
              "7    10.128345\n",
              "8     8.026584\n",
              "Name: Close, dtype: float64"
            ]
          },
          "metadata": {
            "tags": []
          },
          "execution_count": 61
        }
      ]
    },
    {
      "cell_type": "code",
      "metadata": {
        "colab": {
          "base_uri": "https://localhost:8080/"
        },
        "id": "GEpoM8eEN3zV",
        "outputId": "fa435831-c3f0-4f32-d9f3-7121b7198d9b"
      },
      "source": [
        "# Soma total dos valores absolutos das diferenças\r\n",
        "np.sum(abs(sim1 - df_b2w_atual['Close'])) "
      ],
      "execution_count": 64,
      "outputs": [
        {
          "output_type": "execute_result",
          "data": {
            "text/plain": [
              "33.41604865449061"
            ]
          },
          "metadata": {
            "tags": []
          },
          "execution_count": 64
        }
      ]
    },
    {
      "cell_type": "code",
      "metadata": {
        "colab": {
          "base_uri": "https://localhost:8080/"
        },
        "id": "ruYSMbgDPFnT",
        "outputId": "275d0d87-a721-4298-c773-bf2fcb6509a6"
      },
      "source": [
        "# Extraindo a média, podemos obter nosso erro médio absoluto (MAE)\r\n",
        "np.sum(abs(sim1 - df_b2w_atual['Close'])) / len(sim1)"
      ],
      "execution_count": 67,
      "outputs": [
        {
          "output_type": "execute_result",
          "data": {
            "text/plain": [
              "3.712894294943401"
            ]
          },
          "metadata": {
            "tags": []
          },
          "execution_count": 67
        }
      ]
    },
    {
      "cell_type": "markdown",
      "metadata": {
        "id": "hNQXJ4zNPtFP"
      },
      "source": [
        "Podemos fazer isso de forma mais facil chamando as bibliotecas do sklearn"
      ]
    },
    {
      "cell_type": "code",
      "metadata": {
        "colab": {
          "base_uri": "https://localhost:8080/"
        },
        "id": "AohSEaH6Pjg9",
        "outputId": "d01a9ee7-dff4-4e9f-a453-76c6654c2c17"
      },
      "source": [
        "from sklearn.metrics import mean_absolute_error\r\n",
        "mean_absolute_error(df_b2w_atual['Close'], sim1)"
      ],
      "execution_count": 68,
      "outputs": [
        {
          "output_type": "execute_result",
          "data": {
            "text/plain": [
              "3.712894294943401"
            ]
          },
          "metadata": {
            "tags": []
          },
          "execution_count": 68
        }
      ]
    },
    {
      "cell_type": "markdown",
      "metadata": {
        "id": "FVhXq1JLP3UT"
      },
      "source": [
        "Agora vamos fazer os comparativos com todas as simulações."
      ]
    },
    {
      "cell_type": "code",
      "metadata": {
        "id": "uW10YmH8PzlJ"
      },
      "source": [
        "erros = []\r\n",
        "for i in range(len(previsoes.T)):\r\n",
        "  simulacao = previsoes.T[i][0:len(df_b2w_atual)]\r\n",
        "  erros.append(mean_absolute_error(df_b2w_atual['Close'], simulacao))"
      ],
      "execution_count": 69,
      "outputs": []
    },
    {
      "cell_type": "code",
      "metadata": {
        "colab": {
          "base_uri": "https://localhost:8080/"
        },
        "id": "BOowB7XmP9Rn",
        "outputId": "18e52e5b-df28-4c0f-da23-d643a8081512"
      },
      "source": [
        "erros"
      ],
      "execution_count": 70,
      "outputs": [
        {
          "output_type": "execute_result",
          "data": {
            "text/plain": [
              "[3.712894294943401,\n",
              " 8.907723588442368,\n",
              " 6.5334445822272205,\n",
              " 14.923078534936243,\n",
              " 6.121286460390234,\n",
              " 8.394628511878235,\n",
              " 3.5118072357280425,\n",
              " 2.3228777463153736,\n",
              " 3.1402311339377493,\n",
              " 6.642354794331201]"
            ]
          },
          "metadata": {
            "tags": []
          },
          "execution_count": 70
        }
      ]
    },
    {
      "cell_type": "code",
      "metadata": {
        "id": "5g3NoEtrQg0a"
      },
      "source": [
        "erro_max = erros.index(max(erros))\r\n",
        "erro_min = erros.index(min(erros))"
      ],
      "execution_count": 79,
      "outputs": []
    },
    {
      "cell_type": "markdown",
      "metadata": {
        "id": "zTz_OmlNQCEJ"
      },
      "source": [
        "Com isso, conseguimos visualizar qual simulação tem o pior ou melhor MAE.\r\n",
        "Vamos gerar um gráfico para vermos a pior e a melhor simulação."
      ]
    },
    {
      "cell_type": "code",
      "metadata": {
        "colab": {
          "base_uri": "https://localhost:8080/",
          "height": 542
        },
        "id": "n8Jg-YifP-UF",
        "outputId": "12e74cbd-19f3-4888-f0d7-560e506010b3"
      },
      "source": [
        "figura = px.line(title = 'Previsões do preço das ações - Simulação')\r\n",
        "figura.add_scatter(y = df_b2w_atual['Close'], name = 'Valor real')\r\n",
        "figura.add_scatter(y = previsoes.T[erro_max], name = 'Pior simulação')\r\n",
        "figura.add_scatter(y = previsoes.T[erro_min], name = 'Melhor simulação')"
      ],
      "execution_count": 81,
      "outputs": [
        {
          "output_type": "display_data",
          "data": {
            "text/html": [
              "<html>\n",
              "<head><meta charset=\"utf-8\" /></head>\n",
              "<body>\n",
              "    <div>\n",
              "            <script src=\"https://cdnjs.cloudflare.com/ajax/libs/mathjax/2.7.5/MathJax.js?config=TeX-AMS-MML_SVG\"></script><script type=\"text/javascript\">if (window.MathJax) {MathJax.Hub.Config({SVG: {font: \"STIX-Web\"}});}</script>\n",
              "                <script type=\"text/javascript\">window.PlotlyConfig = {MathJaxConfig: 'local'};</script>\n",
              "        <script src=\"https://cdn.plot.ly/plotly-latest.min.js\"></script>    \n",
              "            <div id=\"e5561b53-f417-43e6-bba6-6827a5f981ba\" class=\"plotly-graph-div\" style=\"height:525px; width:100%;\"></div>\n",
              "            <script type=\"text/javascript\">\n",
              "                \n",
              "                    window.PLOTLYENV=window.PLOTLYENV || {};\n",
              "                    \n",
              "                if (document.getElementById(\"e5561b53-f417-43e6-bba6-6827a5f981ba\")) {\n",
              "                    Plotly.newPlot(\n",
              "                        'e5561b53-f417-43e6-bba6-6827a5f981ba',\n",
              "                        [{\"name\": \"Valor real\", \"type\": \"scatter\", \"y\": [75.18000030517578, 73.5, 68.69999694824219, 67.30999755859375, 71.9000015258789, 71.30999755859375, 74.08999633789062, 75.30000305175781, 77.3499984741211]}, {\"name\": \"Pior simula\\u00e7\\u00e3o\", \"type\": \"scatter\", \"y\": [75.61000061035156, 80.6909108556866, 84.396309752086, 84.25634976280135, 87.65467098170048, 94.91520504385191, 92.50553860403915, 96.84481749096823, 92.07389547319482, 88.16841952577647, 88.52740220683484, 85.88813189548995, 88.20647309414353, 86.06310327746907, 84.45070271091546, 83.7688612996022, 87.9137730896869, 91.64314587705039, 93.11476735115747, 91.90290971394651, 92.51364162904886, 93.89567811336, 86.60459028190024, 83.47210604599933, 79.91632412917066, 77.76287478990105, 84.48057688688851, 85.01901156809043, 86.44925295330158, 80.55790487272341, 78.77569120671969, 83.89914363083908, 86.39193692346072, 80.82007078394318, 81.46308001401478, 79.03384398309235, 74.66621766703891, 76.01698354979006, 73.12691206286134, 78.26563887396287, 75.24437005405625, 76.10074971649581, 75.17598742253256, 76.65496027794602, 75.13211382887104, 74.67836017669379, 71.35819420802875, 70.7094863017903, 67.94831721602304, 68.06985361367246]}, {\"name\": \"Melhor simula\\u00e7\\u00e3o\", \"type\": \"scatter\", \"y\": [75.61000061035156, 72.53035084071263, 70.28920927675647, 73.79508287506131, 71.31052346312694, 68.90175079443965, 73.47771548177612, 73.38601633023524, 71.44203827127087, 73.35687289847614, 75.51559138917435, 71.92747177294085, 70.46589486526972, 73.93266406530914, 72.99194560885782, 73.58339749085124, 73.6589160866613, 75.2743595056291, 76.7203442498807, 83.1020858672894, 80.16184515094434, 79.60851015493822, 80.57366404461604, 80.01389547197294, 85.65952989806246, 84.49400979619861, 83.34522281443867, 79.47694736830232, 82.53875643820118, 86.33809852672469, 83.49806101827086, 83.58573285712168, 86.64615734274514, 84.84920856926873, 86.1704528497929, 87.8647378825176, 88.06674156439142, 88.37470282672567, 90.25963474503108, 90.59894264109138, 87.99470975855701, 92.21574016783906, 90.21315026525474, 88.54691756441828, 89.41418176545984, 87.61631933944375, 85.2256869903108, 82.39630916846149, 80.58818302441378, 83.99161121367798]}],\n",
              "                        {\"legend\": {\"tracegroupgap\": 0}, \"template\": {\"data\": {\"bar\": [{\"error_x\": {\"color\": \"#2a3f5f\"}, \"error_y\": {\"color\": \"#2a3f5f\"}, \"marker\": {\"line\": {\"color\": \"#E5ECF6\", \"width\": 0.5}}, \"type\": \"bar\"}], \"barpolar\": [{\"marker\": {\"line\": {\"color\": \"#E5ECF6\", \"width\": 0.5}}, \"type\": \"barpolar\"}], \"carpet\": [{\"aaxis\": {\"endlinecolor\": \"#2a3f5f\", \"gridcolor\": \"white\", \"linecolor\": \"white\", \"minorgridcolor\": \"white\", \"startlinecolor\": \"#2a3f5f\"}, \"baxis\": {\"endlinecolor\": \"#2a3f5f\", \"gridcolor\": \"white\", \"linecolor\": \"white\", \"minorgridcolor\": \"white\", \"startlinecolor\": \"#2a3f5f\"}, \"type\": \"carpet\"}], \"choropleth\": [{\"colorbar\": {\"outlinewidth\": 0, \"ticks\": \"\"}, \"type\": \"choropleth\"}], \"contour\": [{\"colorbar\": {\"outlinewidth\": 0, \"ticks\": \"\"}, \"colorscale\": [[0.0, \"#0d0887\"], [0.1111111111111111, \"#46039f\"], [0.2222222222222222, \"#7201a8\"], [0.3333333333333333, \"#9c179e\"], [0.4444444444444444, \"#bd3786\"], [0.5555555555555556, \"#d8576b\"], [0.6666666666666666, \"#ed7953\"], [0.7777777777777778, \"#fb9f3a\"], [0.8888888888888888, \"#fdca26\"], [1.0, \"#f0f921\"]], \"type\": \"contour\"}], \"contourcarpet\": [{\"colorbar\": {\"outlinewidth\": 0, \"ticks\": \"\"}, \"type\": \"contourcarpet\"}], \"heatmap\": [{\"colorbar\": {\"outlinewidth\": 0, \"ticks\": \"\"}, \"colorscale\": [[0.0, \"#0d0887\"], [0.1111111111111111, \"#46039f\"], [0.2222222222222222, \"#7201a8\"], [0.3333333333333333, \"#9c179e\"], [0.4444444444444444, \"#bd3786\"], [0.5555555555555556, \"#d8576b\"], [0.6666666666666666, \"#ed7953\"], [0.7777777777777778, \"#fb9f3a\"], [0.8888888888888888, \"#fdca26\"], [1.0, \"#f0f921\"]], \"type\": \"heatmap\"}], \"heatmapgl\": [{\"colorbar\": {\"outlinewidth\": 0, \"ticks\": \"\"}, \"colorscale\": [[0.0, \"#0d0887\"], [0.1111111111111111, \"#46039f\"], [0.2222222222222222, \"#7201a8\"], [0.3333333333333333, \"#9c179e\"], [0.4444444444444444, \"#bd3786\"], [0.5555555555555556, \"#d8576b\"], [0.6666666666666666, \"#ed7953\"], [0.7777777777777778, \"#fb9f3a\"], [0.8888888888888888, \"#fdca26\"], [1.0, \"#f0f921\"]], \"type\": \"heatmapgl\"}], \"histogram\": [{\"marker\": {\"colorbar\": {\"outlinewidth\": 0, \"ticks\": \"\"}}, \"type\": \"histogram\"}], \"histogram2d\": [{\"colorbar\": {\"outlinewidth\": 0, \"ticks\": \"\"}, \"colorscale\": [[0.0, \"#0d0887\"], [0.1111111111111111, \"#46039f\"], [0.2222222222222222, \"#7201a8\"], [0.3333333333333333, \"#9c179e\"], [0.4444444444444444, \"#bd3786\"], [0.5555555555555556, \"#d8576b\"], [0.6666666666666666, \"#ed7953\"], [0.7777777777777778, \"#fb9f3a\"], [0.8888888888888888, \"#fdca26\"], [1.0, \"#f0f921\"]], \"type\": \"histogram2d\"}], \"histogram2dcontour\": [{\"colorbar\": {\"outlinewidth\": 0, \"ticks\": \"\"}, \"colorscale\": [[0.0, \"#0d0887\"], [0.1111111111111111, \"#46039f\"], [0.2222222222222222, \"#7201a8\"], [0.3333333333333333, \"#9c179e\"], [0.4444444444444444, \"#bd3786\"], [0.5555555555555556, \"#d8576b\"], [0.6666666666666666, \"#ed7953\"], [0.7777777777777778, \"#fb9f3a\"], [0.8888888888888888, \"#fdca26\"], [1.0, \"#f0f921\"]], \"type\": \"histogram2dcontour\"}], \"mesh3d\": [{\"colorbar\": {\"outlinewidth\": 0, \"ticks\": \"\"}, \"type\": \"mesh3d\"}], \"parcoords\": [{\"line\": {\"colorbar\": {\"outlinewidth\": 0, \"ticks\": \"\"}}, \"type\": \"parcoords\"}], \"pie\": [{\"automargin\": true, \"type\": \"pie\"}], \"scatter\": [{\"marker\": {\"colorbar\": {\"outlinewidth\": 0, \"ticks\": \"\"}}, \"type\": \"scatter\"}], \"scatter3d\": [{\"line\": {\"colorbar\": {\"outlinewidth\": 0, \"ticks\": \"\"}}, \"marker\": {\"colorbar\": {\"outlinewidth\": 0, \"ticks\": \"\"}}, \"type\": \"scatter3d\"}], \"scattercarpet\": [{\"marker\": {\"colorbar\": {\"outlinewidth\": 0, \"ticks\": \"\"}}, \"type\": \"scattercarpet\"}], \"scattergeo\": [{\"marker\": {\"colorbar\": {\"outlinewidth\": 0, \"ticks\": \"\"}}, \"type\": \"scattergeo\"}], \"scattergl\": [{\"marker\": {\"colorbar\": {\"outlinewidth\": 0, \"ticks\": \"\"}}, \"type\": \"scattergl\"}], \"scattermapbox\": [{\"marker\": {\"colorbar\": {\"outlinewidth\": 0, \"ticks\": \"\"}}, \"type\": \"scattermapbox\"}], \"scatterpolar\": [{\"marker\": {\"colorbar\": {\"outlinewidth\": 0, \"ticks\": \"\"}}, \"type\": \"scatterpolar\"}], \"scatterpolargl\": [{\"marker\": {\"colorbar\": {\"outlinewidth\": 0, \"ticks\": \"\"}}, \"type\": \"scatterpolargl\"}], \"scatterternary\": [{\"marker\": {\"colorbar\": {\"outlinewidth\": 0, \"ticks\": \"\"}}, \"type\": \"scatterternary\"}], \"surface\": [{\"colorbar\": {\"outlinewidth\": 0, \"ticks\": \"\"}, \"colorscale\": [[0.0, \"#0d0887\"], [0.1111111111111111, \"#46039f\"], [0.2222222222222222, \"#7201a8\"], [0.3333333333333333, \"#9c179e\"], [0.4444444444444444, \"#bd3786\"], [0.5555555555555556, \"#d8576b\"], [0.6666666666666666, \"#ed7953\"], [0.7777777777777778, \"#fb9f3a\"], [0.8888888888888888, \"#fdca26\"], [1.0, \"#f0f921\"]], \"type\": \"surface\"}], \"table\": [{\"cells\": {\"fill\": {\"color\": \"#EBF0F8\"}, \"line\": {\"color\": \"white\"}}, \"header\": {\"fill\": {\"color\": \"#C8D4E3\"}, \"line\": {\"color\": \"white\"}}, \"type\": \"table\"}]}, \"layout\": {\"annotationdefaults\": {\"arrowcolor\": \"#2a3f5f\", \"arrowhead\": 0, \"arrowwidth\": 1}, \"coloraxis\": {\"colorbar\": {\"outlinewidth\": 0, \"ticks\": \"\"}}, \"colorscale\": {\"diverging\": [[0, \"#8e0152\"], [0.1, \"#c51b7d\"], [0.2, \"#de77ae\"], [0.3, \"#f1b6da\"], [0.4, \"#fde0ef\"], [0.5, \"#f7f7f7\"], [0.6, \"#e6f5d0\"], [0.7, \"#b8e186\"], [0.8, \"#7fbc41\"], [0.9, \"#4d9221\"], [1, \"#276419\"]], \"sequential\": [[0.0, \"#0d0887\"], [0.1111111111111111, \"#46039f\"], [0.2222222222222222, \"#7201a8\"], [0.3333333333333333, \"#9c179e\"], [0.4444444444444444, \"#bd3786\"], [0.5555555555555556, \"#d8576b\"], [0.6666666666666666, \"#ed7953\"], [0.7777777777777778, \"#fb9f3a\"], [0.8888888888888888, \"#fdca26\"], [1.0, \"#f0f921\"]], \"sequentialminus\": [[0.0, \"#0d0887\"], [0.1111111111111111, \"#46039f\"], [0.2222222222222222, \"#7201a8\"], [0.3333333333333333, \"#9c179e\"], [0.4444444444444444, \"#bd3786\"], [0.5555555555555556, \"#d8576b\"], [0.6666666666666666, \"#ed7953\"], [0.7777777777777778, \"#fb9f3a\"], [0.8888888888888888, \"#fdca26\"], [1.0, \"#f0f921\"]]}, \"colorway\": [\"#636efa\", \"#EF553B\", \"#00cc96\", \"#ab63fa\", \"#FFA15A\", \"#19d3f3\", \"#FF6692\", \"#B6E880\", \"#FF97FF\", \"#FECB52\"], \"font\": {\"color\": \"#2a3f5f\"}, \"geo\": {\"bgcolor\": \"white\", \"lakecolor\": \"white\", \"landcolor\": \"#E5ECF6\", \"showlakes\": true, \"showland\": true, \"subunitcolor\": \"white\"}, \"hoverlabel\": {\"align\": \"left\"}, \"hovermode\": \"closest\", \"mapbox\": {\"style\": \"light\"}, \"paper_bgcolor\": \"white\", \"plot_bgcolor\": \"#E5ECF6\", \"polar\": {\"angularaxis\": {\"gridcolor\": \"white\", \"linecolor\": \"white\", \"ticks\": \"\"}, \"bgcolor\": \"#E5ECF6\", \"radialaxis\": {\"gridcolor\": \"white\", \"linecolor\": \"white\", \"ticks\": \"\"}}, \"scene\": {\"xaxis\": {\"backgroundcolor\": \"#E5ECF6\", \"gridcolor\": \"white\", \"gridwidth\": 2, \"linecolor\": \"white\", \"showbackground\": true, \"ticks\": \"\", \"zerolinecolor\": \"white\"}, \"yaxis\": {\"backgroundcolor\": \"#E5ECF6\", \"gridcolor\": \"white\", \"gridwidth\": 2, \"linecolor\": \"white\", \"showbackground\": true, \"ticks\": \"\", \"zerolinecolor\": \"white\"}, \"zaxis\": {\"backgroundcolor\": \"#E5ECF6\", \"gridcolor\": \"white\", \"gridwidth\": 2, \"linecolor\": \"white\", \"showbackground\": true, \"ticks\": \"\", \"zerolinecolor\": \"white\"}}, \"shapedefaults\": {\"line\": {\"color\": \"#2a3f5f\"}}, \"ternary\": {\"aaxis\": {\"gridcolor\": \"white\", \"linecolor\": \"white\", \"ticks\": \"\"}, \"baxis\": {\"gridcolor\": \"white\", \"linecolor\": \"white\", \"ticks\": \"\"}, \"bgcolor\": \"#E5ECF6\", \"caxis\": {\"gridcolor\": \"white\", \"linecolor\": \"white\", \"ticks\": \"\"}}, \"title\": {\"x\": 0.05}, \"xaxis\": {\"automargin\": true, \"gridcolor\": \"white\", \"linecolor\": \"white\", \"ticks\": \"\", \"title\": {\"standoff\": 15}, \"zerolinecolor\": \"white\", \"zerolinewidth\": 2}, \"yaxis\": {\"automargin\": true, \"gridcolor\": \"white\", \"linecolor\": \"white\", \"ticks\": \"\", \"title\": {\"standoff\": 15}, \"zerolinecolor\": \"white\", \"zerolinewidth\": 2}}}, \"title\": {\"text\": \"Previs\\u00f5es do pre\\u00e7o das a\\u00e7\\u00f5es - simula\\u00e7\\u00e3o\"}, \"xaxis\": {\"anchor\": \"y\", \"domain\": [0.0, 1.0]}, \"yaxis\": {\"anchor\": \"x\", \"domain\": [0.0, 1.0]}},\n",
              "                        {\"responsive\": true}\n",
              "                    ).then(function(){\n",
              "                            \n",
              "var gd = document.getElementById('e5561b53-f417-43e6-bba6-6827a5f981ba');\n",
              "var x = new MutationObserver(function (mutations, observer) {{\n",
              "        var display = window.getComputedStyle(gd).display;\n",
              "        if (!display || display === 'none') {{\n",
              "            console.log([gd, 'removed!']);\n",
              "            Plotly.purge(gd);\n",
              "            observer.disconnect();\n",
              "        }}\n",
              "}});\n",
              "\n",
              "// Listen for the removal of the full notebook cells\n",
              "var notebookContainer = gd.closest('#notebook-container');\n",
              "if (notebookContainer) {{\n",
              "    x.observe(notebookContainer, {childList: true});\n",
              "}}\n",
              "\n",
              "// Listen for the clearing of the current output cell\n",
              "var outputEl = gd.closest('.output');\n",
              "if (outputEl) {{\n",
              "    x.observe(outputEl, {childList: true});\n",
              "}}\n",
              "\n",
              "                        })\n",
              "                };\n",
              "                \n",
              "            </script>\n",
              "        </div>\n",
              "</body>\n",
              "</html>"
            ]
          },
          "metadata": {
            "tags": []
          }
        }
      ]
    },
    {
      "cell_type": "markdown",
      "metadata": {
        "id": "5z5aygi_RgUs"
      },
      "source": [
        "Podemos ver então a comapração entre a melhor e a pior simulação e os valores reais dessa ação"
      ]
    },
    {
      "cell_type": "markdown",
      "metadata": {
        "id": "vwQ5OdUURYq_"
      },
      "source": [
        "- # Conclusão"
      ]
    },
    {
      "cell_type": "markdown",
      "metadata": {
        "id": "9QTHl00dZKCT"
      },
      "source": [
        "Conseguimos usar a simulação de Monte Carlo para realizar algumas previsões para o valor do preço das ações de uma empresa. Com isso podemos, nos antecipar a alguns possíveis cenários e adequar nossas estratégias com alguma noção de futuro e não simplesmente no achismo."
      ]
    }
  ]
}