{
 "cells": [
  {
   "cell_type": "code",
   "execution_count": 1,
   "metadata": {},
   "outputs": [],
   "source": [
    "import requests\n",
    "from rest_framework import status\n",
    "import json\n",
    "import pandas\n",
    "\n",
    "WORKDIR = 'C:/Users/Paulo/Desktop/infnet-projeto-final/mit_data_science/'\n",
    "\n",
    "\n",
    "taxi_data = WORKDIR + '/Data/Processed/nyctaxi_data_analysis_green.parquet'\n",
    "\n",
    "number_of_taxis = 10\n",
    "\n",
    "base_url = 'http://127.0.0.1:8000/'"
   ]
  },
  {
   "cell_type": "markdown",
   "metadata": {},
   "source": [
    "# Recuperar Dados "
   ]
  },
  {
   "cell_type": "code",
   "execution_count": 2,
   "metadata": {},
   "outputs": [
    {
     "name": "stdout",
     "output_type": "stream",
     "text": [
      "(40, 13)\n"
     ]
    },
    {
     "data": {
      "text/html": [
       "<div>\n",
       "<style scoped>\n",
       "    .dataframe tbody tr th:only-of-type {\n",
       "        vertical-align: middle;\n",
       "    }\n",
       "\n",
       "    .dataframe tbody tr th {\n",
       "        vertical-align: top;\n",
       "    }\n",
       "\n",
       "    .dataframe thead th {\n",
       "        text-align: right;\n",
       "    }\n",
       "</style>\n",
       "<table border=\"1\" class=\"dataframe\">\n",
       "  <thead>\n",
       "    <tr style=\"text-align: right;\">\n",
       "      <th></th>\n",
       "      <th>dropoff_latitude</th>\n",
       "      <th>dropoff_longitude</th>\n",
       "      <th>fare_amount</th>\n",
       "      <th>passenger_count</th>\n",
       "      <th>pickup_latitude</th>\n",
       "      <th>pickup_longitude</th>\n",
       "      <th>hour_of_day</th>\n",
       "      <th>day_of_week</th>\n",
       "      <th>day_of_year</th>\n",
       "      <th>year</th>\n",
       "      <th>eucl_distance</th>\n",
       "      <th>manh_distance</th>\n",
       "      <th>idTaxi</th>\n",
       "    </tr>\n",
       "  </thead>\n",
       "  <tbody>\n",
       "    <tr>\n",
       "      <th>6238</th>\n",
       "      <td>40.683361</td>\n",
       "      <td>-73.819733</td>\n",
       "      <td>8.5</td>\n",
       "      <td>1</td>\n",
       "      <td>40.700176</td>\n",
       "      <td>-73.807358</td>\n",
       "      <td>23</td>\n",
       "      <td>5</td>\n",
       "      <td>341</td>\n",
       "      <td>2013</td>\n",
       "      <td>2.141834</td>\n",
       "      <td>3.246806</td>\n",
       "      <td>40.70017623901367_-73.80735778808594_341_2013</td>\n",
       "    </tr>\n",
       "    <tr>\n",
       "      <th>5386</th>\n",
       "      <td>40.732159</td>\n",
       "      <td>-73.900146</td>\n",
       "      <td>7.0</td>\n",
       "      <td>1</td>\n",
       "      <td>40.746586</td>\n",
       "      <td>-73.891380</td>\n",
       "      <td>23</td>\n",
       "      <td>1</td>\n",
       "      <td>217</td>\n",
       "      <td>2014</td>\n",
       "      <td>1.766629</td>\n",
       "      <td>2.579793</td>\n",
       "      <td>40.746585845947266_-73.8913803100586_217_2014</td>\n",
       "    </tr>\n",
       "    <tr>\n",
       "      <th>6564</th>\n",
       "      <td>40.734089</td>\n",
       "      <td>-73.952141</td>\n",
       "      <td>18.0</td>\n",
       "      <td>1</td>\n",
       "      <td>40.730370</td>\n",
       "      <td>-73.862358</td>\n",
       "      <td>2</td>\n",
       "      <td>2</td>\n",
       "      <td>331</td>\n",
       "      <td>2013</td>\n",
       "      <td>7.578756</td>\n",
       "      <td>10.400217</td>\n",
       "      <td>40.730369567871094_-73.86235809326172_331_2013</td>\n",
       "    </tr>\n",
       "    <tr>\n",
       "      <th>5415</th>\n",
       "      <td>40.750446</td>\n",
       "      <td>-73.994659</td>\n",
       "      <td>21.0</td>\n",
       "      <td>1</td>\n",
       "      <td>40.712055</td>\n",
       "      <td>-73.961227</td>\n",
       "      <td>10</td>\n",
       "      <td>6</td>\n",
       "      <td>362</td>\n",
       "      <td>2014</td>\n",
       "      <td>5.116200</td>\n",
       "      <td>7.988874</td>\n",
       "      <td>40.71205520629883_-73.96122741699219_362_2014</td>\n",
       "    </tr>\n",
       "    <tr>\n",
       "      <th>6689</th>\n",
       "      <td>40.755939</td>\n",
       "      <td>-73.980644</td>\n",
       "      <td>33.5</td>\n",
       "      <td>5</td>\n",
       "      <td>40.714958</td>\n",
       "      <td>-73.831635</td>\n",
       "      <td>11</td>\n",
       "      <td>5</td>\n",
       "      <td>243</td>\n",
       "      <td>2013</td>\n",
       "      <td>13.360530</td>\n",
       "      <td>21.132667</td>\n",
       "      <td>40.71495819091797_-73.83163452148438_243_2013</td>\n",
       "    </tr>\n",
       "  </tbody>\n",
       "</table>\n",
       "</div>"
      ],
      "text/plain": [
       "      dropoff_latitude  dropoff_longitude  fare_amount  passenger_count  \\\n",
       "6238         40.683361         -73.819733          8.5                1   \n",
       "5386         40.732159         -73.900146          7.0                1   \n",
       "6564         40.734089         -73.952141         18.0                1   \n",
       "5415         40.750446         -73.994659         21.0                1   \n",
       "6689         40.755939         -73.980644         33.5                5   \n",
       "\n",
       "      pickup_latitude  pickup_longitude  hour_of_day  day_of_week  \\\n",
       "6238        40.700176        -73.807358           23            5   \n",
       "5386        40.746586        -73.891380           23            1   \n",
       "6564        40.730370        -73.862358            2            2   \n",
       "5415        40.712055        -73.961227           10            6   \n",
       "6689        40.714958        -73.831635           11            5   \n",
       "\n",
       "      day_of_year  year  eucl_distance  manh_distance  \\\n",
       "6238          341  2013       2.141834       3.246806   \n",
       "5386          217  2014       1.766629       2.579793   \n",
       "6564          331  2013       7.578756      10.400217   \n",
       "5415          362  2014       5.116200       7.988874   \n",
       "6689          243  2013      13.360530      21.132667   \n",
       "\n",
       "                                              idTaxi  \n",
       "6238   40.70017623901367_-73.80735778808594_341_2013  \n",
       "5386   40.746585845947266_-73.8913803100586_217_2014  \n",
       "6564  40.730369567871094_-73.86235809326172_331_2013  \n",
       "5415   40.71205520629883_-73.96122741699219_362_2014  \n",
       "6689   40.71495819091797_-73.83163452148438_243_2013  "
      ]
     },
     "execution_count": 2,
     "metadata": {},
     "output_type": "execute_result"
    }
   ],
   "source": [
    "data = pandas.read_parquet(taxi_data).sample(number_of_taxis)\n",
    "data['idTaxi'] = data['pickup_latitude'].astype(str)+'_'+data['pickup_longitude'].astype(str)+'_'+data['day_of_year'].astype(str)+'_'+data['year'].astype(str)\n",
    "print(data.shape)\n",
    "data.head()"
   ]
  },
  {
   "cell_type": "code",
   "execution_count": 3,
   "metadata": {},
   "outputs": [
    {
     "data": {
      "text/plain": [
       "dropoff_latitude     float64\n",
       "dropoff_longitude    float64\n",
       "fare_amount          float64\n",
       "passenger_count        int32\n",
       "pickup_latitude      float64\n",
       "pickup_longitude     float64\n",
       "hour_of_day            int64\n",
       "day_of_week            int64\n",
       "day_of_year            int64\n",
       "year                   int64\n",
       "eucl_distance        float64\n",
       "manh_distance        float64\n",
       "idTaxi                object\n",
       "dtype: object"
      ]
     },
     "execution_count": 3,
     "metadata": {},
     "output_type": "execute_result"
    }
   ],
   "source": [
    "data.dtypes"
   ]
  },
  {
   "cell_type": "markdown",
   "metadata": {},
   "source": [
    "# Post data "
   ]
  },
  {
   "cell_type": "code",
   "execution_count": 7,
   "metadata": {},
   "outputs": [],
   "source": [
    "url = base_url + 'taxi/'\n",
    "\n",
    "for i, row in data.iterrows():\n",
    "    post_data = row.to_dict()\n",
    "    response = requests.post(url, post_data)\n",
    "\n",
    "    if response.status_code == status.HTTP_400_BAD_REQUEST:\n",
    "        print('Tarifa ja existente')\n",
    "   \n",
    "    "
   ]
  },
  {
   "cell_type": "code",
   "execution_count": 8,
   "metadata": {},
   "outputs": [
    {
     "data": {
      "text/plain": [
       "{'dropoff_latitude': 40.69369125366211,\n",
       " 'dropoff_longitude': -73.9076156616211,\n",
       " 'fare_amount': 7.0,\n",
       " 'passenger_count': 1,\n",
       " 'pickup_latitude': 40.706634521484375,\n",
       " 'pickup_longitude': -73.92298889160156,\n",
       " 'hour_of_day': 0,\n",
       " 'day_of_week': 5,\n",
       " 'day_of_year': 362,\n",
       " 'year': 2013,\n",
       " 'eucl_distance': 1.9373348167819262,\n",
       " 'manh_distance': 3.1496393282451653,\n",
       " 'idTaxi': '40.706634521484375_-73.92298889160156_362_2013'}"
      ]
     },
     "execution_count": 8,
     "metadata": {},
     "output_type": "execute_result"
    }
   ],
   "source": [
    "post_data"
   ]
  },
  {
   "cell_type": "code",
   "execution_count": null,
   "metadata": {},
   "outputs": [],
   "source": []
  }
 ],
 "metadata": {
  "kernelspec": {
   "display_name": "Python 3",
   "language": "python",
   "name": "python3"
  },
  "language_info": {
   "codemirror_mode": {
    "name": "ipython",
    "version": 3
   },
   "file_extension": ".py",
   "mimetype": "text/x-python",
   "name": "python",
   "nbconvert_exporter": "python",
   "pygments_lexer": "ipython3",
   "version": "3.8.3"
  }
 },
 "nbformat": 4,
 "nbformat_minor": 4
}
